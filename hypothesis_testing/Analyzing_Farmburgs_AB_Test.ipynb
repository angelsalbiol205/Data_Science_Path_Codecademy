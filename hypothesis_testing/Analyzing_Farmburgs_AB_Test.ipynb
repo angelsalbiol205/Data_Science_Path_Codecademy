{
 "cells": [
  {
   "cell_type": "markdown",
   "id": "0c8872cf-297c-426b-803b-4d201e841447",
   "metadata": {},
   "source": [
    "## Analyzing Farmburg's A/B Test\n",
    "\n",
    "Brian is a Product Manager at FarmBurg, a company that makes a farming simulation social network game. In the FarmBurg game, you can plow, plant, and harvest different crops. Brian has been conducting an A/B Test with three different variants, and he wants you to help him analyze the results. Using the Python modules pandas and SciPy, you will help him make some important business decisions!"
   ]
  },
  {
   "cell_type": "code",
   "execution_count": 19,
   "id": "33e777dc-d6b0-46b7-b9cc-15201c484bfe",
   "metadata": {},
   "outputs": [],
   "source": [
    "import pandas as pd\n",
    "import numpy as np\n",
    "from scipy.stats import chi2_contingency\n",
    "from scipy.stats import binom_test\n",
    "\n",
    "abdata = pd.read_csv('clicks.csv')"
   ]
  },
  {
   "cell_type": "markdown",
   "id": "33d0792b-cee3-4375-96c9-8ce623fb5da6",
   "metadata": {},
   "source": [
    "### Project Requirements\n",
    "\n",
    "Inspect the data using the .head() method."
   ]
  },
  {
   "cell_type": "code",
   "execution_count": 4,
   "id": "bfd9260a-4023-4417-9d06-65bd3e319a88",
   "metadata": {},
   "outputs": [
    {
     "name": "stdout",
     "output_type": "stream",
     "text": [
      "    user_id group is_purchase\n",
      "0  8e27bf9a     A          No\n",
      "1  eb89e6f0     A          No\n",
      "2  7119106a     A          No\n",
      "3  e53781ff     A          No\n",
      "4  02d48cf1     A         Yes\n"
     ]
    }
   ],
   "source": [
    "print(abdata.head())"
   ]
  },
  {
   "cell_type": "markdown",
   "id": "5ff30d72-2661-4972-b975-d4930a6bea20",
   "metadata": {},
   "source": [
    "Note that we have two categorical variables: group and is_purchase. We are interested in whether visitors are more likely to make a purchase if they are in any one group compared to the others.\n",
    "\n",
    "We first need to create a contingency table of the variables group and is_purchase. Use pd.crosstab() to create this table and name the result Xtab, then print it out. Which group appears to have the highest number of purchases?\n",
    "\n",
    "Then, use the function chi2_contingency with the data in Xtab to calculate the p-value. Save the p-value to a variable named pval and print the result. Using a significance threshold of 0.05, is there a significant difference in the purchase rate for groups A, B, and C?"
   ]
  },
  {
   "cell_type": "code",
   "execution_count": 5,
   "id": "c9b4c1b5-96fd-4ad4-90b0-6aa245941ca6",
   "metadata": {},
   "outputs": [
    {
     "name": "stdout",
     "output_type": "stream",
     "text": [
      "is_purchase    No  Yes\n",
      "group                 \n",
      "A            1350  316\n",
      "B            1483  183\n",
      "C            1583   83\n"
     ]
    }
   ],
   "source": [
    "Xtab = pd.crosstab(abdata.group, abdata.is_purchase)\n",
    "print(Xtab)"
   ]
  },
  {
   "cell_type": "code",
   "execution_count": 7,
   "id": "59488443-7541-4e7c-8931-b90549baac48",
   "metadata": {},
   "outputs": [
    {
     "name": "stdout",
     "output_type": "stream",
     "text": [
      "The p-value is equal to 2.4126213546684264e-35\n",
      "The significance threshold is significant\n"
     ]
    }
   ],
   "source": [
    "chi2, pval, dof, expected = chi2_contingency(Xtab)\n",
    "print('The p-value is equal to', pval)\n",
    "print ('The significance threshold is significant' if pval < 0.05 else 'The significance threshold is not significant')"
   ]
  },
  {
   "cell_type": "markdown",
   "id": "07a30a32-7743-4b8e-8c7e-841c9d63f86b",
   "metadata": {},
   "source": [
    "Our day is a little less busy than expected, so we decide to ask Brian about his test.\n",
    "\n",
    "Us: Hey Brian! What was that test you were running anyway?\n",
    "\n",
    "Brian: We are trying to get users to purchase a small FarmBurg upgrade package. It’s called a microtransaction. We’re not sure how much to charge for it, so we tested three different price points: 0.99  (group A), 1.99 (group B), and 4.99 (group C). It looks like significantly more people bought the upgrade package for 0.99, so I guess that’s what we’ll charge.\n",
    "\n",
    "Us: Oh no! We should have asked you this before we did that Chi-Square test. That wasn’t the right test at all. It’s true that more people wanted to purchase the upgrade at 0.99; you probably expected that. What we really want to know is whether each price point allows us to make enough money that we can exceed some target goal. Brian, how much do you think it cost to build this feature?\n",
    "\n",
    "Brian: Hmm. I guess that we need to generate a minimum of $1000 in revenue per week in order to justify this project.\n",
    "\n",
    "Us: We have some work to do!\n",
    "\n",
    "In order to justify this feature, we will need to calculate the necessary purchase rate for each price point. Let’s start by calculating the number of visitors to the site this week.\n",
    "\n",
    "It turns out that Brian ran his original test over the course of a week, so the number of visitors in abdata is equal to the number of visitors in a typical week. Calculate the number of visitors in the data and save the value in a variable named num_visits. Make sure to print the value."
   ]
  },
  {
   "cell_type": "code",
   "execution_count": 8,
   "id": "32afc2be-4caf-49f0-bfb6-2960fc28eb84",
   "metadata": {},
   "outputs": [
    {
     "name": "stdout",
     "output_type": "stream",
     "text": [
      "4998\n"
     ]
    }
   ],
   "source": [
    "num_visits = len(abdata)\n",
    "print(num_visits)"
   ]
  },
  {
   "cell_type": "markdown",
   "id": "6bc8b356-419d-498e-8eff-cfdad7406947",
   "metadata": {},
   "source": [
    "Now that we know how many visitors we generally get each week (num_visits), we need to calculate the number of visitors who would need to purchase the upgrade package at each price point (0.99, 1.99, 4.99) in order to generate Brian’s minimum revenue target of $1,000 per week."
   ]
  },
  {
   "cell_type": "code",
   "execution_count": 14,
   "id": "aa5881a8-8b59-4ae6-84e8-8ff2e9095490",
   "metadata": {},
   "outputs": [
    {
     "name": "stdout",
     "output_type": "stream",
     "text": [
      "1010.1010101010102\n",
      "20.21% visitors need to make a purchase\n"
     ]
    }
   ],
   "source": [
    "num_sales_needed_099 = 1000 / 0.99\n",
    "print(num_sales_needed_099)\n",
    "p_sales_needed_099 = num_sales_needed_099 / num_visits\n",
    "print('{:.2%} visitors need to make a purchase'.format(p_sales_needed_099))"
   ]
  },
  {
   "cell_type": "code",
   "execution_count": 17,
   "id": "87f66578-7e2b-4a25-83b9-b3b0f1abc692",
   "metadata": {},
   "outputs": [
    {
     "name": "stdout",
     "output_type": "stream",
     "text": [
      "502.51256281407035\n",
      "10.05% visitors need to make a purchase\n"
     ]
    }
   ],
   "source": [
    "num_sales_needed_199 = 1000 / 1.99\n",
    "print(num_sales_needed_199)\n",
    "p_sales_needed_199 = num_sales_needed_199 / num_visits\n",
    "print('{:.2%} visitors need to make a purchase'.format(p_sales_needed_199))"
   ]
  },
  {
   "cell_type": "code",
   "execution_count": 18,
   "id": "bd3ea99d-777c-4012-9307-5de7c8c1a310",
   "metadata": {},
   "outputs": [
    {
     "name": "stdout",
     "output_type": "stream",
     "text": [
      "200.40080160320642\n",
      "4.01% visitors need to make a purchase\n"
     ]
    }
   ],
   "source": [
    "num_sales_needed_499 = 1000 / 4.99\n",
    "print(num_sales_needed_499)\n",
    "p_sales_needed_499 = num_sales_needed_499 / num_visits\n",
    "print('{:.2%} visitors need to make a purchase'.format(p_sales_needed_499))"
   ]
  },
  {
   "cell_type": "markdown",
   "id": "30981fd6-0248-4708-860d-b20fd1c9bbf9",
   "metadata": {},
   "source": [
    "Now let’s return to Brian’s question. To start, we want to know if the percent of Group A (the 0.99 price point) that purchased an upgrade package is significantly greater than p_sales_needed_099 (the percent of visitors who need to buy an upgrade package at 0.99 in order to make our minimum revenue target of $1,000).\n",
    "\n",
    "To answer this question, we want to focus on just the visitors in group A. Then, we want to compare the number of purchases in that group to p_sales_needed_099.\n",
    "\n",
    "Since we have a single sample of categorical data and want to compare it to a hypothetical population value, a binomial test is appropriate. In order to run a binomial test for group A, we need to know two pieces of information:\n",
    "- The number of visitors in group A (the number of visitors who were offered the 0.99 price point)\n",
    "- The number of visitors in Group A who made a purchase\n",
    "\n",
    "Calculate these two numbers and save them as samp_size_099 and sales_099, respectively. Note that you can use the contingency table that you printed earlier to get these numbers OR you can use Python syntax."
   ]
  },
  {
   "cell_type": "code",
   "execution_count": 22,
   "id": "1b7d236d-980a-42bd-832a-aa973d1a6a49",
   "metadata": {},
   "outputs": [
    {
     "name": "stdout",
     "output_type": "stream",
     "text": [
      "1666\n",
      "316\n"
     ]
    }
   ],
   "source": [
    "group_a = abdata[abdata.group == 'A']\n",
    "samp_size_099 = len(group_a)\n",
    "print(samp_size_099)\n",
    "sales_099 = len(group_a[group_a.is_purchase == 'Yes'])\n",
    "print(sales_099)"
   ]
  },
  {
   "cell_type": "markdown",
   "id": "a2acf4a6-af22-4ac7-8f44-8f35dbbe55b2",
   "metadata": {},
   "source": [
    "Calculate the sample size and number of purchases in group B (the 1.99 price point) and save them as samp_size_199 and sales_199, respectively. Then do the same for group C (the 4.99 price point) and save them as samp_size_499 and sales_499, respectively."
   ]
  },
  {
   "cell_type": "code",
   "execution_count": 24,
   "id": "d9dc287d-cb6e-442c-baea-e800766cdf8e",
   "metadata": {},
   "outputs": [
    {
     "name": "stdout",
     "output_type": "stream",
     "text": [
      "1666\n",
      "183\n"
     ]
    }
   ],
   "source": [
    "group_b = abdata[abdata.group == 'B']\n",
    "samp_size_199 = len(group_b)\n",
    "print(samp_size_199)\n",
    "sales_199 = len(group_b[group_b.is_purchase == 'Yes'])\n",
    "print(sales_199)"
   ]
  },
  {
   "cell_type": "code",
   "execution_count": 25,
   "id": "7ea76a63-4ad8-4da5-8dfe-11d6f126ad26",
   "metadata": {},
   "outputs": [
    {
     "name": "stdout",
     "output_type": "stream",
     "text": [
      "1666\n",
      "83\n"
     ]
    }
   ],
   "source": [
    "group_c = abdata[abdata.group == 'C']\n",
    "samp_size_499 = len(group_c)\n",
    "print(samp_size_499)\n",
    "sales_499 = len(group_c[group_c.is_purchase == 'Yes'])\n",
    "print(sales_499)"
   ]
  },
  {
   "cell_type": "markdown",
   "id": "88a3dcdb-9a48-4dc2-9e88-f4a2e30317f2",
   "metadata": {},
   "source": [
    "For Group A (0.99 price point), perform a binomial test using binom_test() to see if the observed purchase rate is significantly greater than p_sales_needed_099. Remember that there are four inputs to binom_test():\n",
    "- x will be the number of purchases for Group A\n",
    "- n will be the total number of visitors assigned group A\n",
    "- p will be the target percent of purchases for the 0.99 price point\n",
    "- alternative will indicate the alternative hypothesis for this test; in this case, we want to know if the observed purchase rate is significantly 'greater' than the purchase rate that results in the minimum revenue target.\n",
    "\n",
    "Save the results to pvalueA, and print its value."
   ]
  },
  {
   "cell_type": "code",
   "execution_count": 26,
   "id": "729009bd-a745-4dda-9e39-957f9f462662",
   "metadata": {},
   "outputs": [
    {
     "name": "stdout",
     "output_type": "stream",
     "text": [
      "The pvalueA is equal to 2.4126213546684264e-35\n",
      "The significance threshold is not significant\n"
     ]
    }
   ],
   "source": [
    "pvalueA = binom_test(sales_099, samp_size_099, p_sales_needed_099, alternative = 'greater')\n",
    "print('The pvalueA is equal to', pval)\n",
    "print ('The significance threshold is significant' if pvalueA < 0.05 else 'The significance threshold is not significant')"
   ]
  },
  {
   "cell_type": "markdown",
   "id": "248d8e6d-aa60-43b4-881f-be03c4a798c0",
   "metadata": {},
   "source": [
    "For Group B (1.99 price point), perform a binomial test to see if the observed purchase rate is significantly greater than p_sales_needed_199.\n",
    "\n",
    "Save the results to pvalueB, and print its value."
   ]
  },
  {
   "cell_type": "code",
   "execution_count": 27,
   "id": "5773722c-1d7a-40a1-8ec5-6f13221e7ecd",
   "metadata": {},
   "outputs": [
    {
     "name": "stdout",
     "output_type": "stream",
     "text": [
      "The pvalueB is equal to 2.4126213546684264e-35\n",
      "The significance threshold is not significant\n"
     ]
    }
   ],
   "source": [
    "pvalueB = binom_test(sales_199, samp_size_199, p_sales_needed_199, alternative = 'greater')\n",
    "print('The pvalueB is equal to', pval)\n",
    "print ('The significance threshold is significant' if pvalueB < 0.05 else 'The significance threshold is not significant')"
   ]
  },
  {
   "cell_type": "markdown",
   "id": "edb2cb5c-5a5b-42d2-a62e-92092837f7ca",
   "metadata": {},
   "source": [
    "For Group C (4.99 price point), perform a binomial test to see if the observed purchase rate is significantly greater than p_sales_needed_499.\n",
    "\n",
    "Save the results to pvalueC, and print its value."
   ]
  },
  {
   "cell_type": "code",
   "execution_count": 28,
   "id": "76eb2b53-ae04-4e8f-be1e-e1f41e415b81",
   "metadata": {},
   "outputs": [
    {
     "name": "stdout",
     "output_type": "stream",
     "text": [
      "The pvalueC is equal to 2.4126213546684264e-35\n",
      "The significance threshold is significant\n"
     ]
    }
   ],
   "source": [
    "pvalueC = binom_test(sales_499, samp_size_499, p_sales_needed_499, alternative = 'greater')\n",
    "print('The pvalueC is equal to', pval)\n",
    "print ('The significance threshold is significant' if pvalueC < 0.05 else 'The significance threshold is not significant')"
   ]
  },
  {
   "cell_type": "markdown",
   "id": "a430418a-ccf7-4e6a-ac66-2b63a9c99e7e",
   "metadata": {},
   "source": [
    "Based on the three p-values you calculated for the binomial tests in each group and a significance threshold of 0.05, were there any groups where the purchase rate was significantly higher than the target? Based on this information, what price should Brian charge for the upgrade package?\n",
    "\n",
    "**The only group where the purchase rate was significantly higher was C so, based on this information, Brian should charge 4.99 dollars for the upgrade package**"
   ]
  },
  {
   "cell_type": "code",
   "execution_count": null,
   "id": "6b8b8f18-78ed-44d2-95c7-1f16f9273af7",
   "metadata": {},
   "outputs": [],
   "source": []
  }
 ],
 "metadata": {
  "kernelspec": {
   "display_name": "Python 3",
   "language": "python",
   "name": "python3"
  },
  "language_info": {
   "codemirror_mode": {
    "name": "ipython",
    "version": 3
   },
   "file_extension": ".py",
   "mimetype": "text/x-python",
   "name": "python",
   "nbconvert_exporter": "python",
   "pygments_lexer": "ipython3",
   "version": "3.8.8"
  }
 },
 "nbformat": 4,
 "nbformat_minor": 5
}
