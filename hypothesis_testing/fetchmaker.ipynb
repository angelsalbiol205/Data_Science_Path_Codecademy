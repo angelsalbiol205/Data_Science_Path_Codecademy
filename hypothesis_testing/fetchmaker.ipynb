{
 "cells": [
  {
   "cell_type": "markdown",
   "id": "7b8d07d5-a503-4e4e-9108-ca134f6168b1",
   "metadata": {},
   "source": [
    "## FetchMaker\n",
    "Congratulations! You’ve just started working at the hottest new tech startup, FetchMaker. FetchMaker’s mission is to match up prospective dog owners with their perfect pet. FetchMaker has been collecting data on their adoptable dogs, and it’s your job to analyze some of that data."
   ]
  },
  {
   "cell_type": "code",
   "execution_count": 16,
   "id": "e537f066-809c-4fcb-b275-55267de15606",
   "metadata": {},
   "outputs": [],
   "source": [
    "import numpy as np\n",
    "import pandas as pd\n",
    "from scipy.stats import binom_test\n",
    "from scipy.stats import f_oneway\n",
    "from statsmodels.stats.multicomp import pairwise_tukeyhsd\n",
    "from scipy.stats import chi2_contingency\n",
    "import seaborn as sns\n",
    "\n",
    "dogs = pd.read_csv('dog_data.csv')"
   ]
  },
  {
   "cell_type": "markdown",
   "id": "7cdd3a15-a55b-42d8-ac2a-d4b0b7162dac",
   "metadata": {},
   "source": [
    "### Data to the Rescue\n",
    "\n",
    "Use the .head() method to inspect the first five rows of the dataset."
   ]
  },
  {
   "cell_type": "code",
   "execution_count": 2,
   "id": "a1465e36-694c-419f-bbce-7ae21ad35b35",
   "metadata": {},
   "outputs": [
    {
     "name": "stdout",
     "output_type": "stream",
     "text": [
      "   is_rescue  weight  tail_length  age  color  likes_children  \\\n",
      "0          0       6         2.25    2  black               1   \n",
      "1          0       4         5.36    4  black               0   \n",
      "2          0       7         3.63    3  black               0   \n",
      "3          0       5         0.19    2  black               0   \n",
      "4          0       5         0.37    1  black               1   \n",
      "\n",
      "   is_hypoallergenic      name      breed  \n",
      "0                  0      Huey  chihuahua  \n",
      "1                  0   Cherish  chihuahua  \n",
      "2                  1     Becka  chihuahua  \n",
      "3                  0     Addie  chihuahua  \n",
      "4                  1  Beverlee  chihuahua  \n"
     ]
    }
   ],
   "source": [
    "print(dogs.head())"
   ]
  },
  {
   "cell_type": "markdown",
   "id": "80a5f9bd-1de4-4f14-8090-23918499649f",
   "metadata": {},
   "source": [
    "FetchMaker estimates (based on historical data for all dogs) that 8% of dogs in their system are rescues. They would like to know if whippets are significantly more or less likely than other dogs to be a rescue.\n",
    "\n",
    "How many whippets are rescues (remember that the value of is_rescue is 1 for rescues and 0 otherwise)? Save this number as num_whippet_rescues and print it out."
   ]
  },
  {
   "cell_type": "code",
   "execution_count": 3,
   "id": "e3b3aacd-1744-4a16-bfe6-b5c28353dbd6",
   "metadata": {},
   "outputs": [
    {
     "name": "stdout",
     "output_type": "stream",
     "text": [
      "6\n"
     ]
    }
   ],
   "source": [
    "whippet_rescue = dogs.is_rescue[dogs.breed == 'whippet']\n",
    "num_whippet_rescues = np.sum(whippet_rescue == 1)\n",
    "print(num_whippet_rescues)"
   ]
  },
  {
   "cell_type": "markdown",
   "id": "ded82b28-cca9-4ab3-b33a-69f67a6e2ac4",
   "metadata": {},
   "source": [
    "How many whippets are in this sample of data in total? Save this number as num_whippets and print it out."
   ]
  },
  {
   "cell_type": "code",
   "execution_count": 4,
   "id": "812360bf-7738-4613-9f72-f1ce2e859b8f",
   "metadata": {},
   "outputs": [
    {
     "name": "stdout",
     "output_type": "stream",
     "text": [
      "100\n"
     ]
    }
   ],
   "source": [
    "num_whippets = len(whippet_rescue)\n",
    "print(num_whippets)"
   ]
  },
  {
   "cell_type": "markdown",
   "id": "ef0b42e8-2d5a-4ac9-953f-51e617d6eeca",
   "metadata": {},
   "source": [
    "Use a hypothesis test to test the following null and alternative hypotheses:\n",
    "- Null: 8% of whippets are rescues\n",
    "- Alternative: more or less than 8% of whippets are rescues\n",
    "\n",
    "Save the p-value from this test as pval and print it out. Using a significance threshold of 0.05, Is the proportion of whippets who are rescues significantly different from 8%?"
   ]
  },
  {
   "cell_type": "code",
   "execution_count": 6,
   "id": "3f4567ab-6c1b-4d0c-a4c5-3e9459c05a5e",
   "metadata": {},
   "outputs": [
    {
     "name": "stdout",
     "output_type": "stream",
     "text": [
      "The p-value is equal to 0.5811780106238098\n",
      "the significance threshold is not significant\n"
     ]
    }
   ],
   "source": [
    "pval = binom_test(num_whippet_rescues, num_whippets, 0.08, alternative = 'two-sided')\n",
    "print('The p-value is equal to', pval)\n",
    "print ('the significance threshold is significant' if pval < 0.05 else 'the significance threshold is not significant')"
   ]
  },
  {
   "cell_type": "markdown",
   "id": "bc691470-bd31-4771-a8b9-fd7736c00a25",
   "metadata": {},
   "source": [
    "### Mid-Sized Dog Weights\n",
    "\n",
    "Three of FetchMaker’s most popular mid-sized dog breeds are 'whippet's, 'terrier's, and 'pitbull's. Is there a significant difference in the average weights of these three dog breeds?\n",
    "\n",
    "To start answering this question, save the weights of each of these breeds in three separate series named wt_whippets, wt_terriers, and wt_pitbulls, respectively."
   ]
  },
  {
   "cell_type": "code",
   "execution_count": 7,
   "id": "7dfbf541-4565-4863-b515-b989c31e3a68",
   "metadata": {},
   "outputs": [],
   "source": [
    "wt_whippets = dogs.weight[dogs.breed == 'whippet']\n",
    "wt_terriers = dogs.weight[dogs.breed == 'terrier']\n",
    "wt_pitbulls = dogs.weight[dogs.breed == 'pitbull']"
   ]
  },
  {
   "cell_type": "markdown",
   "id": "ee5c0bf6-5bc8-4b2c-a471-7aa7d501b3cb",
   "metadata": {},
   "source": [
    "Run a single hypothesis test to address the following null and alternative hypotheses:\n",
    "- Null: whippets, terriers, and pitbulls all weigh the same amount on average\n",
    "- Alternative: whippets, terriers, and pitbulls do not all weigh the same amount on average (at least one pair of breeds has differing average weights)\n",
    "\n",
    "Save the resulting p-value as pval and print it out. Using a significance threshold of 0.05, is there at least one pair of dog breeds that have significantly different average weights?"
   ]
  },
  {
   "cell_type": "code",
   "execution_count": 11,
   "id": "1a6b64c1-6c75-4230-bf97-cd561a6c7134",
   "metadata": {},
   "outputs": [
    {
     "name": "stdout",
     "output_type": "stream",
     "text": [
      "The p-value is equal to 3.276415588274815e-17\n",
      "the significance threshold is significant\n"
     ]
    }
   ],
   "source": [
    "fstat, pval = f_oneway(wt_whippets, wt_terriers, wt_pitbulls)\n",
    "print('The p-value is equal to', pval)\n",
    "print ('the significance threshold is significant' if pval < 0.05 else 'the significance threshold is not significant')"
   ]
  },
  {
   "cell_type": "markdown",
   "id": "c42403c1-e1b6-4d34-8f4f-481c61fe2aea",
   "metadata": {},
   "source": [
    "If you completed the previous step correctly, you should have concluded that at least one pair of dog breeds have significantly different average weights.\n",
    "\n",
    "Run another hypothesis test to determine which of those breeds (whippets, terriers, and pitbulls) weigh different amounts on average. Use an overall type I error rate of 0.05 for all three comparisons.\n",
    "\n",
    "Print out the results. Which pairs of dog breeds weigh different amounts?"
   ]
  },
  {
   "cell_type": "code",
   "execution_count": 12,
   "id": "5400f9a0-9ffa-40ab-b59b-520791af5199",
   "metadata": {},
   "outputs": [
    {
     "name": "stdout",
     "output_type": "stream",
     "text": [
      " Multiple Comparison of Means - Tukey HSD, FWER=0.05 \n",
      "=====================================================\n",
      " group1  group2 meandiff p-adj   lower  upper  reject\n",
      "-----------------------------------------------------\n",
      "pitbull terrier   -13.24  0.001 -16.728 -9.752   True\n",
      "pitbull whippet    -3.34 0.0639  -6.828  0.148  False\n",
      "terrier whippet      9.9  0.001   6.412 13.388   True\n",
      "-----------------------------------------------------\n"
     ]
    }
   ],
   "source": [
    "dogs_wtp = dogs[dogs.breed.isin(['whippet', 'terrier', 'pitbull'])]\n",
    "tukey_dogs = pairwise_tukeyhsd(dogs_wtp.weight, dogs_wtp.breed, 0.05)\n",
    "print(tukey_dogs)"
   ]
  },
  {
   "cell_type": "markdown",
   "id": "595475e6-36b8-4c65-88c0-c19362bf9f36",
   "metadata": {},
   "source": [
    "### Poodle and Shihtzu Colors\n",
    "\n",
    "FetchMaker wants to know if 'poodle's and 'shihtzu's come in different colors. use the subsetted data to create a contingency table of dog colors by breed (poodle vs. shihtzu). Save the table as Xtab and print it out."
   ]
  },
  {
   "cell_type": "code",
   "execution_count": 13,
   "id": "5182263f-4b56-42e0-a645-2201a554ba41",
   "metadata": {},
   "outputs": [
    {
     "name": "stdout",
     "output_type": "stream",
     "text": [
      "breed  poodle  shihtzu\n",
      "color                 \n",
      "black      17       10\n",
      "brown      13       36\n",
      "gold        8        6\n",
      "grey       52       41\n",
      "white      10        7\n"
     ]
    }
   ],
   "source": [
    "dogs_ps = dogs[dogs.breed.isin(['poodle', 'shihtzu'])]\n",
    "Xtab = pd.crosstab(dogs_ps.color, dogs_ps.breed)\n",
    "print(Xtab)"
   ]
  },
  {
   "cell_type": "markdown",
   "id": "7855fee0-4f29-4f5d-a592-7f10bb4b9af0",
   "metadata": {},
   "source": [
    "Run a hypothesis test for the following null and alternative hypotheses:\n",
    "- Null: There is an association between breed (poodle vs. shihtzu) and color.\n",
    "- Alternative: There is not an association between breed (poodle vs. shihtzu) and color.\n",
    "\n",
    "Save the p-value as pval and print it out. Do poodles and shihtzus come in significantly different color combinations? Use a significance threshold of 0.05."
   ]
  },
  {
   "cell_type": "code",
   "execution_count": 15,
   "id": "acfeed8f-b827-483f-88b5-1a55ca2b70cd",
   "metadata": {},
   "outputs": [
    {
     "name": "stdout",
     "output_type": "stream",
     "text": [
      "The p-value is equal to 0.005302408293244593\n",
      "the significance threshold is significant\n"
     ]
    }
   ],
   "source": [
    "chi2, pval, dof, expected = chi2_contingency(Xtab)\n",
    "print('The p-value is equal to', pval)\n",
    "print ('the significance threshold is significant' if pval < 0.05 else 'the significance threshold is not significant')"
   ]
  },
  {
   "cell_type": "markdown",
   "id": "a6c0639f-a8d5-47e0-9d23-520487cfc745",
   "metadata": {},
   "source": [
    "Extra challenge: Remind yourself of your data visualization skills and your ability to describe the central tendency of the data. For example, a boxplot visualization can add a lot to your understanding of an ANOVA result."
   ]
  },
  {
   "cell_type": "code",
   "execution_count": 20,
   "id": "6a3aeb85-e0a3-4b07-baa8-bed2a6e9653b",
   "metadata": {},
   "outputs": [
    {
     "data": {
      "image/png": "[encoded data removed]",
      "text/plain": [
       "<Figure size 432x288 with 1 Axes>"
      ]
     },
     "metadata": {
      "needs_background": "light"
     },
     "output_type": "display_data"
    }
   ],
   "source": [
    "dogs_wtp_boxplot = sns.boxplot(data = dogs_wtp, x = dogs_wtp.breed, y = dogs_wtp.weight)"
   ]
  },
  {
   "cell_type": "code",
   "execution_count": null,
   "id": "466c4de0-ab39-4cc3-a4c4-242dde137bb1",
   "metadata": {},
   "outputs": [],
   "source": []
  }
 ],
 "metadata": {
  "kernelspec": {
   "display_name": "Python 3",
   "language": "python",
   "name": "python3"
  },
  "language_info": {
   "codemirror_mode": {
    "name": "ipython",
    "version": 3
   },
   "file_extension": ".py",
   "mimetype": "text/x-python",
   "name": "python",
   "nbconvert_exporter": "python",
   "pygments_lexer": "ipython3",
   "version": "3.8.8"
  }
 },
 "nbformat": 4,
 "nbformat_minor": 5
}
