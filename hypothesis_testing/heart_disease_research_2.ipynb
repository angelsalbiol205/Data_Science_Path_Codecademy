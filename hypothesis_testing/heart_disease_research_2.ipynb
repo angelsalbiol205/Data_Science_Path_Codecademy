{
 "cells": [
  {
   "cell_type": "markdown",
   "id": "eef0e2b7-47c1-4692-b381-0f33c1546f28",
   "metadata": {},
   "source": [
    "## Heart Disease Research Part II\n",
    "\n",
    "Print results and graph results in this project. Sometimes the printouts are formatted in a way that is difficult to read — feel free to expand the middle segment to make your printouts more readable."
   ]
  },
  {
   "cell_type": "code",
   "execution_count": 26,
   "id": "7e8ae0ab-07fa-463a-883b-e53afeb90d33",
   "metadata": {},
   "outputs": [],
   "source": [
    "import pandas as pd\n",
    "import numpy as np\n",
    "import matplotlib.pyplot as plt \n",
    "import seaborn as sns\n",
    "from scipy.stats import ttest_ind\n",
    "from scipy.stats import f_oneway\n",
    "from statsmodels.stats.multicomp import pairwise_tukeyhsd\n",
    "from scipy.stats import chi2_contingency"
   ]
  },
  {
   "cell_type": "markdown",
   "id": "0293ae4d-69b1-4b36-9075-4323a8be5e53",
   "metadata": {},
   "source": [
    "### Load and Inspect data"
   ]
  },
  {
   "cell_type": "code",
   "execution_count": 12,
   "id": "d2ad0b02-14a4-40fa-ae80-2a6f8a35f307",
   "metadata": {},
   "outputs": [
    {
     "name": "stdout",
     "output_type": "stream",
     "text": [
      "   age     sex  trestbps  chol                cp  exang  fbs  thalach  \\\n",
      "0   63    male       145   233    typical angina      0    1      150   \n",
      "1   67    male       160   286      asymptomatic      1    0      108   \n",
      "2   67    male       120   229      asymptomatic      1    0      129   \n",
      "3   37    male       130   250  non-anginal pain      0    0      187   \n",
      "4   41  female       130   204   atypical angina      0    0      172   \n",
      "\n",
      "  heart_disease  \n",
      "0       absence  \n",
      "1      presence  \n",
      "2      presence  \n",
      "3       absence  \n",
      "4       absence  \n"
     ]
    }
   ],
   "source": [
    "heart = pd.read_csv('heart_disease.csv')\n",
    "print(heart.head())"
   ]
  },
  {
   "cell_type": "markdown",
   "id": "843adb79-b073-46ad-81c6-b45c557b2a42",
   "metadata": {},
   "source": [
    "### Predictors of heart diseases\n",
    "\n",
    "Each of the patients in this dataset underwent an exercise test, during which their heart rate was monitored. For each patient, thalach gives us the highest heart rate that the patient achieved during this test.\n",
    "\n",
    "Is thalach associated with whether or not a patient will ultimately be diagnosed with heart disease? Use sns.boxplot() to plot side by side box plots of thalach for patients who were and were not diagnosed with heart disease (indicated by the heart_disease variable). Do you think there is a relationship between these variables? Yes, there is a relationship as patients with heart diseases have lower thalach"
   ]
  },
  {
   "cell_type": "code",
   "execution_count": 13,
   "id": "efab5c47-e4ea-4533-92c3-c690ea370212",
   "metadata": {},
   "outputs": [
    {
     "data": {
      "image/png": "[encoded data removed]",
      "text/plain": [
       "<Figure size 432x288 with 1 Axes>"
      ]
     },
     "metadata": {
      "needs_background": "light"
     },
     "output_type": "display_data"
    }
   ],
   "source": [
    "sns.boxplot(x = heart.heart_disease, y = heart.thalach)\n",
    "plt.show()"
   ]
  },
  {
   "cell_type": "markdown",
   "id": "06097214-d08c-4edf-9288-332be25b1217",
   "metadata": {},
   "source": [
    "In order to investigate this question further, save the values for thalach among patients who were diagnosed with heart disease as a variable named thalach_hd. Then save the values of thalach among patients who were not diagnosed with heart disease as thalach_no_hd.\n",
    "\n",
    "Calculate and print the difference in mean thalach for patients diagnosed with heart disease compared to patients without heart disease. Then do the same for the median difference."
   ]
  },
  {
   "cell_type": "code",
   "execution_count": 14,
   "id": "11b5fcc1-7a30-46b8-bbc6-47e50b446ba1",
   "metadata": {},
   "outputs": [
    {
     "name": "stdout",
     "output_type": "stream",
     "text": [
      "The mean thalach for people with heart disease is 139.25899280575538\n",
      "The mean thalach for people without heart disease is 158.3780487804878\n",
      "The median thalach for people with heart disease is 142.0\n",
      "The median thalach for people with heart disease is 161.0\n"
     ]
    }
   ],
   "source": [
    "thalach_hd = heart.thalach[heart.heart_disease == 'presence']\n",
    "thalach_no_hd = heart.thalach[heart.heart_disease == 'absence']\n",
    "\n",
    "mean_thalach_hd = np.mean(thalach_hd)\n",
    "mean_thalach_no_hd = np.mean(thalach_no_hd)\n",
    "median_thalach_hd = np.median(thalach_hd)\n",
    "median_thalach_no_hd = np.median(thalach_no_hd)\n",
    "print('The mean thalach for people with heart disease is', mean_thalach_hd)\n",
    "print('The mean thalach for people without heart disease is', mean_thalach_no_hd)\n",
    "print('The median thalach for people with heart disease is', median_thalach_hd)\n",
    "print('The median thalach for people with heart disease is', median_thalach_no_hd)"
   ]
  },
  {
   "cell_type": "markdown",
   "id": "59a214a7-20d7-4a0e-9191-a448f434e16f",
   "metadata": {},
   "source": [
    "We’d like to find out if the average thalach of a heart disease patient is significantly different from the average thalach for a person without heart disease.\n",
    "\n",
    "Import the statistical test from scipy.stats that we would use to test the following null and alternative hypotheses:\n",
    "- Null: The average thalach for a person with heart disease is equal to the average thalach for a person without heart disease.\n",
    "- Alternative: The average thalach for a person with heart disease is NOT equal to the average thalach for a person without heart disease.\n",
    "\n",
    "Using a significance threshold of 0.05, is there a significant difference in average thalach for people with heart disease compared to people with no heart disease? The null hypotheses is discarded as the the significance thershold is smaller than 0.05"
   ]
  },
  {
   "cell_type": "code",
   "execution_count": 16,
   "id": "2322cd47-c053-4cf4-8a9e-f243e8d80f7b",
   "metadata": {},
   "outputs": [
    {
     "name": "stdout",
     "output_type": "stream",
     "text": [
      "3.456964908430172e-14\n"
     ]
    }
   ],
   "source": [
    "tstat, pval = ttest_ind(thalach_hd, thalach_no_hd)\n",
    "print(pval)"
   ]
  },
  {
   "cell_type": "markdown",
   "id": "3e582f29-9691-4aec-abbb-e1015d176ce1",
   "metadata": {},
   "source": [
    "Using the same process, investigate at least one other quantitative variable. Options include age, trestbps (resting blood pressure), and chol (cholesterol). Are any of these variables also significantly associated with heart disease?"
   ]
  },
  {
   "cell_type": "code",
   "execution_count": 17,
   "id": "0e89d638-83f8-41d5-ac80-2fa7a8bf85ba",
   "metadata": {},
   "outputs": [
    {
     "data": {
      "image/png": "[encoded data removed]",
      "text/plain": [
       "<Figure size 432x288 with 1 Axes>"
      ]
     },
     "metadata": {
      "needs_background": "light"
     },
     "output_type": "display_data"
    },
    {
     "name": "stdout",
     "output_type": "stream",
     "text": [
      "0.13914167020436527\n"
     ]
    }
   ],
   "source": [
    "plt.clf()\n",
    "sns.boxplot(x = heart.heart_disease, y = heart.chol)\n",
    "plt.show()\n",
    "\n",
    "chol_hd = heart.chol[heart.heart_disease == 'absence']\n",
    "chol_hd_no = heart.chol[heart.heart_disease == 'presence']\n",
    "tstat, pval = ttest_ind (chol_hd, chol_hd_no)\n",
    "print(pval)"
   ]
  },
  {
   "cell_type": "markdown",
   "id": "48f0b4ea-d25c-44e0-b3f9-9800ededf352",
   "metadata": {},
   "source": [
    "### Chest Pain and Max Heart Rate\n",
    "\n",
    "Next, let’s investigate the relationship between thalach (maximum heart rate achieved during exercise) and the type of heart pain a person experiences. Create a set of side-by-side box plots of thalach for each chest pain type in the data. Make sure to use plt.clf() to clear the previous plots first!\n",
    "\n",
    "Are there any chest pain types for which average thalach is significantly higher or lower (compared to other chest pain types)?"
   ]
  },
  {
   "cell_type": "code",
   "execution_count": 18,
   "id": "c15a0419-dd2a-4770-9fdb-33c4b52734a7",
   "metadata": {},
   "outputs": [
    {
     "data": {
      "image/png": "[encoded data removed]",
      "text/plain": [
       "<Figure size 432x288 with 1 Axes>"
      ]
     },
     "metadata": {
      "needs_background": "light"
     },
     "output_type": "display_data"
    }
   ],
   "source": [
    "plt.clf()\n",
    "sns.boxplot(x = heart.cp, y = heart.thalach)\n",
    "plt.show()"
   ]
  },
  {
   "cell_type": "markdown",
   "id": "0195116e-8d7a-4faf-839b-9b784f16873a",
   "metadata": {},
   "source": [
    "To investigate this further, save the values of thalach for patients who experienced each type of chest pain as thalach_typical, thalach_asymptom, thalach_nonangin, and thalach_atypical, respectively."
   ]
  },
  {
   "cell_type": "code",
   "execution_count": 19,
   "id": "67d42cd7-f598-45ca-8b91-a62c478f0c8f",
   "metadata": {},
   "outputs": [],
   "source": [
    "thalach_typical = heart.thalach[heart.cp == 'typical angina']\n",
    "thalach_asymptom = heart.thalach[heart.cp == 'asymptomatic']\n",
    "thalach_nonangin = heart.thalach[heart.cp == 'non-anginal pain']\n",
    "thalach_atypical = heart.thalach[heart.cp == 'atypical angina']"
   ]
  },
  {
   "cell_type": "markdown",
   "id": "4c783b18-5881-4561-a648-230ac2afd3e4",
   "metadata": {},
   "source": [
    "Run a single hypothesis test to address the following null and alternative hypotheses:\n",
    "- Null: People with typical angina, non-anginal pain, atypical angina, and asymptomatic people all have the same average thalach.\n",
    "- Alternative: People with typical angina, non-anginal pain, atypical angina, and asymptomatic people do not all have the same average thalach.\n",
    "\n",
    "Save the resulting p-value as pval and print it out. Using a significance threshold of 0.05, is there at least one pair of chest pain categories for which people in those categories have significantly different thalach?"
   ]
  },
  {
   "cell_type": "code",
   "execution_count": 21,
   "id": "81ba3f5e-20ed-450b-9fb3-18cc90c344f9",
   "metadata": {},
   "outputs": [
    {
     "name": "stdout",
     "output_type": "stream",
     "text": [
      "1.9065505247705008e-10\n"
     ]
    }
   ],
   "source": [
    "fstat, pval = f_oneway(thalach_typical, thalach_asymptom, thalach_nonangin, thalach_atypical)\n",
    "print(pval)"
   ]
  },
  {
   "cell_type": "markdown",
   "id": "64393f71-8304-4be9-a149-6698d33b55db",
   "metadata": {},
   "source": [
    "If you completed the previous step correctly, you should have concluded that there is at least one pair of chest pain types (cp) for which people with those pain types have significantly different average max heart rates during exercise (thalach).\n",
    "\n",
    "Run another hypothesis test to determine which of those pairs are significantly different. Use an overall type I error rate of 0.05 for all six comparisons."
   ]
  },
  {
   "cell_type": "code",
   "execution_count": 24,
   "id": "6a7975e7-73da-4a18-a02f-29532c904ed5",
   "metadata": {},
   "outputs": [
    {
     "name": "stdout",
     "output_type": "stream",
     "text": [
      "           Multiple Comparison of Means - Tukey HSD, FWER=0.05           \n",
      "=========================================================================\n",
      "     group1           group2      meandiff p-adj   lower    upper  reject\n",
      "-------------------------------------------------------------------------\n",
      "    asymptomatic  atypical angina  21.7394  0.001  12.7439  30.735   True\n",
      "    asymptomatic non-anginal pain  14.7264  0.001    7.258 22.1948   True\n",
      "    asymptomatic   typical angina   15.276 0.0081   2.9702 27.5817   True\n",
      " atypical angina non-anginal pain   -7.013 0.2481 -16.7591   2.733  False\n",
      " atypical angina   typical angina  -6.4635 0.6069 -20.2707  7.3438  False\n",
      "non-anginal pain   typical angina   0.5495    0.9  -12.315 13.4141  False\n",
      "-------------------------------------------------------------------------\n"
     ]
    }
   ],
   "source": [
    "tukey_results_thalach_cp = pairwise_tukeyhsd(heart.thalach, heart.cp, 0.05)\n",
    "print(tukey_results_thalach_cp)"
   ]
  },
  {
   "cell_type": "markdown",
   "id": "d32a565d-c605-4ee0-87a5-831e237d2cea",
   "metadata": {},
   "source": [
    "### Heart Disease and Chest Pain\n",
    "\n",
    "Finally, let’s investigate the relationship between the kind of chest pain a person experiences and whether or not they have heart disease. Create a contingency table of cp and heart_disease and save it as Xtab, then print it out."
   ]
  },
  {
   "cell_type": "code",
   "execution_count": 25,
   "id": "022275e7-cf62-4f00-a30f-51c6928b7e7f",
   "metadata": {},
   "outputs": [
    {
     "name": "stdout",
     "output_type": "stream",
     "text": [
      "heart_disease     absence  presence\n",
      "cp                                 \n",
      "asymptomatic           39       105\n",
      "atypical angina        41         9\n",
      "non-anginal pain       68        18\n",
      "typical angina         16         7\n"
     ]
    }
   ],
   "source": [
    "Xtab = pd.crosstab(heart.cp, heart.heart_disease)\n",
    "print(Xtab)"
   ]
  },
  {
   "cell_type": "markdown",
   "id": "256eac6c-3f9a-4775-aca6-a34f2049e46e",
   "metadata": {},
   "source": [
    "Run a hypothesis test for the following null and alternative hypotheses:\n",
    "- Null: There is NOT an association between chest pain type and whether or not someone is diagnosed with heart disease.\n",
    "- Alternative: There is an association between chest pain type and whether or not someone is diagnosed with heart disease.\n",
    "\n",
    "Save the p-value as pval and print it out. Using a significance threshold of 0.05, is there a significant association between chest pain type and whether or not someone is diagnosed with heart disease?"
   ]
  },
  {
   "cell_type": "code",
   "execution_count": 27,
   "id": "7dff1522-28ce-44c0-a570-931305316a99",
   "metadata": {},
   "outputs": [
    {
     "name": "stdout",
     "output_type": "stream",
     "text": [
      "1.2517106007837527e-17\n"
     ]
    }
   ],
   "source": [
    "chi2, pval, dof, expected = chi2_contingency(Xtab)\n",
    "print(pval)"
   ]
  },
  {
   "cell_type": "code",
   "execution_count": null,
   "id": "ea33003a-7217-4090-a7c6-31c875f5ca04",
   "metadata": {},
   "outputs": [],
   "source": []
  }
 ],
 "metadata": {
  "kernelspec": {
   "display_name": "Python 3",
   "language": "python",
   "name": "python3"
  },
  "language_info": {
   "codemirror_mode": {
    "name": "ipython",
    "version": 3
   },
   "file_extension": ".py",
   "mimetype": "text/x-python",
   "name": "python",
   "nbconvert_exporter": "python",
   "pygments_lexer": "ipython3",
   "version": "3.8.8"
  }
 },
 "nbformat": 4,
 "nbformat_minor": 5
}
