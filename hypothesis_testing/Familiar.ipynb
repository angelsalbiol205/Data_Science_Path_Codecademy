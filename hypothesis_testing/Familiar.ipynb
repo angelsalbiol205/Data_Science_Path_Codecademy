{
 "cells": [
  {
   "cell_type": "markdown",
   "id": "8ea8b183-7c0a-4651-a74c-208f84e59c6b",
   "metadata": {},
   "source": [
    "## Familiar: A Study In Data Analysis\n",
    "Welcome to Familiar, a startup in the new market of blood transfusion!\n",
    "\n",
    "### What can familiar do for you?\n",
    "\n",
    "The Familiar team has provided us with some data on lifespans for subscribers to two different packages, the Vein Pack and the Artery Pack! This data has been loaded as a dataframe named lifespans. Use the .head() method to print out the first five rows and take a look!"
   ]
  },
  {
   "cell_type": "code",
   "execution_count": 1,
   "id": "4646756f-ac0c-49fb-8ac5-d6d5ea716392",
   "metadata": {},
   "outputs": [
    {
     "name": "stdout",
     "output_type": "stream",
     "text": [
      "     pack   lifespan\n",
      "0    vein  76.255090\n",
      "1  artery  76.404504\n",
      "2  artery  75.952442\n",
      "3  artery  76.923082\n",
      "4  artery  73.771212\n"
     ]
    }
   ],
   "source": [
    "# Import libraries\n",
    "import pandas as pd\n",
    "import numpy as np\n",
    "from scipy.stats import ttest_1samp\n",
    "from scipy.stats import ttest_ind\n",
    "from scipy.stats import chi2_contingency\n",
    "\n",
    "# Load datasets\n",
    "lifespans = pd.read_csv('familiar_lifespan.csv')\n",
    "iron = pd.read_csv('familiar_iron.csv')\n",
    "\n",
    "print(lifespans.head())"
   ]
  },
  {
   "cell_type": "markdown",
   "id": "5f05f6f4-3eb8-4ef0-88dd-a685f94c5ed1",
   "metadata": {},
   "source": [
    "The first thing we want to know is whether Familiar’s most basic package, the Vein Pack, actually has a significant impact on the subscribers. It would be a marketing goldmine if we can show that subscribers to the Vein Pack live longer than other people.\n",
    "\n",
    "Extract the life spans of subscribers to the 'vein' pack and save the data into a variable called vein_pack_lifespans."
   ]
  },
  {
   "cell_type": "code",
   "execution_count": 2,
   "id": "e992afc2-8812-4b08-94b5-e188fc52c439",
   "metadata": {},
   "outputs": [],
   "source": [
    "vein_pacl_lifespans = lifespans.lifespan[lifespans.pack == 'vein']"
   ]
  },
  {
   "cell_type": "markdown",
   "id": "329d9ff9-a4f9-4c50-860e-35cb2b65c8a6",
   "metadata": {},
   "source": [
    "The first thing we want to know is whether Familiar’s most basic package, the Vein Pack, actually has a significant impact on the subscribers. It would be a marketing goldmine if we can show that \n",
    "subscribers to the Vein Pack live longer than other people.\n",
    "\n",
    "1. Extract the life spans of subscribers to the 'vein' pack and save the data into a variable called vein_pack_lifespans.\n",
    "2. Calculate the average lifespan for Vein Pack subscribers and print the result. Is it longer than 73 years? YES"
   ]
  },
  {
   "cell_type": "code",
   "execution_count": 14,
   "id": "cc24ee97-7fae-4dfa-aadb-024f52017e64",
   "metadata": {},
   "outputs": [
    {
     "name": "stdout",
     "output_type": "stream",
     "text": [
      "The mean life span for subscribers with the Vein Pack is 76.16901335636044\n"
     ]
    }
   ],
   "source": [
    "vein_pacl_lifespans_mean = np.mean(vein_pacl_lifespans)\n",
    "print('The mean life span for subscribers with the Vein Pack is', vein_pacl_lifespans_mean)"
   ]
  },
  {
   "cell_type": "markdown",
   "id": "ff0b8772-0eee-45d6-9dfa-214bf9af131b",
   "metadata": {},
   "source": [
    "We’d like to find out if the average lifespan of a Vein Pack subscriber is significantly different from the average life expectancy of 73 years.\n",
    "\n",
    "Import the statistical test from scipy.stats that we would use to test the following null and alternative hypotheses:\n",
    "- Null: The average lifespan of a Vein Pack subscriber is 73 years.\n",
    "- Alternative: The average lifespan of a Vein Pack subscriber is NOT 73 years.\n",
    "\n",
    "Run the significance test and print out the p-value! Is the average lifespan of a Vein Pack subscriber significantly longer than 73 years? Use a significance threshold of 0.05."
   ]
  },
  {
   "cell_type": "code",
   "execution_count": 15,
   "id": "53fbddfd-722b-44f3-a0cd-e477294f7794",
   "metadata": {},
   "outputs": [
    {
     "name": "stdout",
     "output_type": "stream",
     "text": [
      "The p-value is equal to 5.972157921433708e-07\n",
      "the significance threshold is significant\n"
     ]
    }
   ],
   "source": [
    "tstat, pval = ttest_1samp(vein_pacl_lifespans, 73)\n",
    "print('The p-value is equal to', pval)\n",
    "print ('the significance threshold is significant' if pval < 0.05 else 'the significance threshold is not significant')"
   ]
  },
  {
   "cell_type": "markdown",
   "id": "f9e63c87-2b0d-4f51-8fe4-50fbd5e83577",
   "metadata": {},
   "source": [
    "### Upselling Familiar: Pumping Life Into The Company\n",
    "\n",
    "In order to differentiate Familiar’s different product lines, we’d like to compare this lifespan data between our different packages. Our next step up from the Vein Pack is the Artery Pack.\n",
    "\n",
    "Let’s get the lifespans of Artery Pack subscribers, calculate the average lifespan for Artery Pack subscribers and print the result. Is it longer than for the Vein Pack?"
   ]
  },
  {
   "cell_type": "code",
   "execution_count": 16,
   "id": "57663690-b886-4a20-84ad-1a6fd682f36a",
   "metadata": {},
   "outputs": [
    {
     "name": "stdout",
     "output_type": "stream",
     "text": [
      "The mean life span for subscribers with the Artery Pack is 74.87366223517043\n",
      "The mean life span is shorter for the Artery Pack subscribers.\n"
     ]
    }
   ],
   "source": [
    "artery_pacl_lifespans = lifespans.lifespan[lifespans.pack == 'artery']\n",
    "artery_pacl_lifespans_mean = np.mean(artery_pacl_lifespans)\n",
    "print('The mean life span for subscribers with the Artery Pack is', artery_pacl_lifespans_mean)\n",
    "print('The mean life span is shorter for the Artery Pack subscribers.' if artery_pacl_lifespans_mean < vein_pacl_lifespans_mean else 'The mean life span is longer for the Artery Pack subscribers.')"
   ]
  },
  {
   "cell_type": "markdown",
   "id": "6eded27d-36f1-430e-84cf-ccd1ec8dc6d1",
   "metadata": {},
   "source": [
    "We’d like to find out if the average lifespan of a Vein Pack subscriber is significantly different from the average life expectancy for the Artery Pack.\n",
    "\n",
    "Import the statistical test from scipy.stats that we would use to test the following null and alternative hypotheses:\n",
    "- Null: The average lifespan of a Vein Pack subscriber is equal to the average lifespan of an Artery Pack subscriber.\n",
    "- Alternative: The average lifespan of a Vein Pack subscriber is NOT equal to the average lifespan of an Artery Pack subscriber.\n",
    "\n",
    "Run the significance test and print out the p-value! Is the average lifespan of a Vein Pack subscriber significantly different from the average lifespan of an Artery Pack subscriber? Use a significance threshold of 0.05."
   ]
  },
  {
   "cell_type": "code",
   "execution_count": 17,
   "id": "cf9b847a-020c-4427-b172-ab69d91a4ae3",
   "metadata": {},
   "outputs": [
    {
     "name": "stdout",
     "output_type": "stream",
     "text": [
      "The p-value is equal to 0.05588883079071049\n",
      "the significance threshold is not significant\n"
     ]
    }
   ],
   "source": [
    "tstat, pval = ttest_ind(vein_pacl_lifespans, artery_pacl_lifespans)\n",
    "print('The p-value is equal to', pval)\n",
    "print ('the significance threshold is significant' if pval < 0.05 else 'the significance threshold is not significant')"
   ]
  },
  {
   "cell_type": "markdown",
   "id": "f9e831d9-5f34-4113-a9aa-0e67a4f1f47e",
   "metadata": {},
   "source": [
    "### Side Effects: A Familiar Problem\n",
    "\n",
    "The Familiar team has provided us with another dataset containing survey data about iron counts for our subscribers. This data has been pre-processed to categorize iron counts as “low”, “normal”, and “high” for each subscriber. Familiar wants to be able to advise potential subscribers about possible side effects of these packs and whether they differ for the Vein vs. the Artery pack.\n",
    "\n",
    "The data has been loaded for you as a dataframe named iron. Use the .head() method to print out the first five rows and take a look!"
   ]
  },
  {
   "cell_type": "code",
   "execution_count": 18,
   "id": "55592d8b-47c7-459b-93a4-993c0e68b053",
   "metadata": {},
   "outputs": [
    {
     "name": "stdout",
     "output_type": "stream",
     "text": [
      "     pack    iron\n",
      "0    vein     low\n",
      "1  artery  normal\n",
      "2  artery  normal\n",
      "3  artery  normal\n",
      "4  artery    high\n"
     ]
    }
   ],
   "source": [
    "print(iron.head())"
   ]
  },
  {
   "cell_type": "markdown",
   "id": "ed049e84-ec00-4ccc-8747-08875f4e5cb3",
   "metadata": {},
   "source": [
    "Is there an association between the pack that a subscriber gets (Vein vs. Artery) and their iron level? Use the pandas crosstab() function to create a contingency table of the pack and iron columns in the iron data. Save the result as Xtab and print it out."
   ]
  },
  {
   "cell_type": "code",
   "execution_count": 19,
   "id": "e0b611d9-d582-4272-af66-cd052d1ddce2",
   "metadata": {},
   "outputs": [
    {
     "name": "stdout",
     "output_type": "stream",
     "text": [
      "iron    high  low  normal\n",
      "pack                     \n",
      "artery    87   29      29\n",
      "vein      20  140      40\n"
     ]
    }
   ],
   "source": [
    "Xtab = pd.crosstab(iron.pack, iron.iron)\n",
    "print(Xtab)"
   ]
  },
  {
   "cell_type": "markdown",
   "id": "9ed4d17a-4755-4029-b3e4-7c6cc3c431f9",
   "metadata": {},
   "source": [
    "We’d like to find out if there is a significant association between which pack (Vein vs. Artery) someone subscribes to and their iron level.\n",
    "\n",
    "Import the statistical test from scipy.stats that we would use to test the following null and alternative hypotheses:\n",
    "- Null: There is NOT an association between which pack (Vein vs. Artery) someone subscribes to and their iron level.\n",
    "- Alternative: There is an association between which pack (Vein vs. Artery) someone subscribes to and their iron level.\n",
    "\n",
    "Run the significance test and print out the p-value! Is there a significant association between which pack (Vein vs. Artery) someone subscribes to and their iron level? Use a significance threshold of 0.05."
   ]
  },
  {
   "cell_type": "code",
   "execution_count": 20,
   "id": "1e4569b8-6392-4a08-83ab-30e2d228b934",
   "metadata": {},
   "outputs": [
    {
     "name": "stdout",
     "output_type": "stream",
     "text": [
      "The p-value is equal to 9.359749337433008e-25\n",
      "the significance threshold is significant\n"
     ]
    }
   ],
   "source": [
    "chi2, pval, dof, expected = chi2_contingency(Xtab)\n",
    "print('The p-value is equal to', pval)\n",
    "print ('the significance threshold is significant' if pval < 0.05 else 'the significance threshold is not significant')"
   ]
  },
  {
   "cell_type": "code",
   "execution_count": null,
   "id": "c444d85f-e0a2-4074-bed2-9edd6dcda98e",
   "metadata": {},
   "outputs": [],
   "source": []
  }
 ],
 "metadata": {
  "kernelspec": {
   "display_name": "Python 3",
   "language": "python",
   "name": "python3"
  },
  "language_info": {
   "codemirror_mode": {
    "name": "ipython",
    "version": 3
   },
   "file_extension": ".py",
   "mimetype": "text/x-python",
   "name": "python",
   "nbconvert_exporter": "python",
   "pygments_lexer": "ipython3",
   "version": "3.8.8"
  }
 },
 "nbformat": 4,
 "nbformat_minor": 5
}
