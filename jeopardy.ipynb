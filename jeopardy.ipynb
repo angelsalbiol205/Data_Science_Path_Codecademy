{
 "cells": [
  {
   "cell_type": "code",
   "execution_count": 2,
   "id": "82ad3df0-0452-47d0-99fe-2bca0656b26d",
   "metadata": {},
   "outputs": [],
   "source": [
    "import pandas as pd\n",
    "pd.set_option('display.max_colwidth', None)"
   ]
  },
  {
   "cell_type": "code",
   "execution_count": 3,
   "id": "e1e50592-6be1-4b2c-a1f2-62e47a9dd1a0",
   "metadata": {},
   "outputs": [
    {
     "name": "stdout",
     "output_type": "stream",
     "text": [
      "   Show Number    Air Date      Round                         Category  Value  \\\n",
      "0         4680  2004-12-31  Jeopardy!                          HISTORY   $200   \n",
      "1         4680  2004-12-31  Jeopardy!  ESPN's TOP 10 ALL-TIME ATHLETES   $200   \n",
      "2         4680  2004-12-31  Jeopardy!      EVERYBODY TALKS ABOUT IT...   $200   \n",
      "3         4680  2004-12-31  Jeopardy!                 THE COMPANY LINE   $200   \n",
      "4         4680  2004-12-31  Jeopardy!              EPITAPHS & TRIBUTES   $200   \n",
      "\n",
      "                                                                                                      Question  \\\n",
      "0             For the last 8 years of his life, Galileo was under house arrest for espousing this man's theory   \n",
      "1  No. 2: 1912 Olympian; football star at Carlisle Indian School; 6 MLB seasons with the Reds, Giants & Braves   \n",
      "2                     The city of Yuma in this state has a record average of 4,055 hours of sunshine each year   \n",
      "3                         In 1963, live on \"The Art Linkletter Show\", this company served its billionth burger   \n",
      "4     Signer of the Dec. of Indep., framer of the Constitution of Mass., second President of the United States   \n",
      "\n",
      "       Answer  \n",
      "0  Copernicus  \n",
      "1  Jim Thorpe  \n",
      "2     Arizona  \n",
      "3  McDonald's  \n",
      "4  John Adams  \n"
     ]
    }
   ],
   "source": [
    "jeopardy = pd.read_csv('jeopardy.csv')\n",
    "print(jeopardy.head())"
   ]
  },
  {
   "cell_type": "markdown",
   "id": "12dd645c-f23a-4ceb-8202-4b6d60984ff4",
   "metadata": {},
   "source": [
    "1. We’ve provided a csv file containing data about the game show Jeopardy! in a file named jeopardy.csv. Load the data into a DataFrame and investigate its contents. Try to print out specific columns.\n",
    "\n",
    "Note that in order to make this project as “real-world” as possible, we haven’t modified the data at all — we’re giving it to you exactly how we found it. As a result, this data isn’t as “clean” as the datasets you normally find on Codecademy. More specifically, there’s something odd about the column names. After you figure out the problem with the column names, you may want to rename them to make your life easier the rest of the project."
   ]
  },
  {
   "cell_type": "code",
   "execution_count": 4,
   "id": "dc1fb319-2f52-48bf-809f-dfe986cb5a65",
   "metadata": {},
   "outputs": [
    {
     "name": "stdout",
     "output_type": "stream",
     "text": [
      "   show_number    air_date      round                         category value  \\\n",
      "0         4680  2004-12-31  Jeopardy!                          HISTORY  $200   \n",
      "1         4680  2004-12-31  Jeopardy!  ESPN's TOP 10 ALL-TIME ATHLETES  $200   \n",
      "2         4680  2004-12-31  Jeopardy!      EVERYBODY TALKS ABOUT IT...  $200   \n",
      "3         4680  2004-12-31  Jeopardy!                 THE COMPANY LINE  $200   \n",
      "4         4680  2004-12-31  Jeopardy!              EPITAPHS & TRIBUTES  $200   \n",
      "\n",
      "                                                                                                      question  \\\n",
      "0             For the last 8 years of his life, Galileo was under house arrest for espousing this man's theory   \n",
      "1  No. 2: 1912 Olympian; football star at Carlisle Indian School; 6 MLB seasons with the Reds, Giants & Braves   \n",
      "2                     The city of Yuma in this state has a record average of 4,055 hours of sunshine each year   \n",
      "3                         In 1963, live on \"The Art Linkletter Show\", this company served its billionth burger   \n",
      "4     Signer of the Dec. of Indep., framer of the Constitution of Mass., second President of the United States   \n",
      "\n",
      "       answer  \n",
      "0  Copernicus  \n",
      "1  Jim Thorpe  \n",
      "2     Arizona  \n",
      "3  McDonald's  \n",
      "4  John Adams  \n"
     ]
    }
   ],
   "source": [
    "jeopardy.columns = jeopardy.columns.str.strip().str.replace(' ', '_').str.lower()\n",
    "print(jeopardy.head())"
   ]
  },
  {
   "cell_type": "markdown",
   "id": "b353c6d5-ceac-485c-a289-7c4bb08a08ab",
   "metadata": {},
   "source": [
    "2. Write a function that filters the dataset for questions that contains all of the words in a list of words. For example, when the list [\"King\", \"England\"] was passed to our function, the function returned a DataFrame of 152 rows. Every row had the strings \"King\" and \"England\" somewhere in its \" Question\".\n",
    "\n",
    "Test your function by printing out the column containing the question of each row of the dataset.\n",
    "\n",
    "Test your original function with a few different sets of words to try to find some ways your function breaks. Edit your function so it is more robust. For example, think about capitalization. We probably want to find questions that contain the word \"King\" or \"king\".\n",
    "\n",
    "You may also want to check to make sure you don’t find rows that contain substrings of your given words. For example, our function found a question that didn’t contain the word \"king\", however it did contain the word \"viking\" — it found the \"king\" inside \"viking\". Note that this also comes with some drawbacks — you would no longer find questions that contained words like \"England's\"."
   ]
  },
  {
   "cell_type": "code",
   "execution_count": 29,
   "id": "bc6988bc-3ddc-411b-9423-5525dc9a0fc4",
   "metadata": {
    "scrolled": true,
    "tags": []
   },
   "outputs": [
    {
     "name": "stdout",
     "output_type": "stream",
     "text": [
      "        show_number    air_date             round               category  \\\n",
      "231            3673  2000-07-19  Double Jeopardy!           DRAMA QUEENS   \n",
      "20168           980  1988-12-02   Final Jeopardy!               MONARCHS   \n",
      "49970          5499  2008-07-03         Jeopardy!            REIGN DROPS   \n",
      "109236         2943  1997-05-21  Double Jeopardy!         HISTORIC NAMES   \n",
      "123127          962  1988-11-08         Jeopardy!          WORLD HISTORY   \n",
      "132899         4922  2006-01-24  Double Jeopardy!          6 FEET, UNDER   \n",
      "135446         4532  2004-04-27         Jeopardy!     BAD BOYS, BAD BOYS   \n",
      "159363         3789  2001-02-08  Double Jeopardy!    LONG LIVE THE KING!   \n",
      "205623         5504  2008-07-10  Double Jeopardy!  \"C\"LASSICAL MUSICIANS   \n",
      "206648         3864  2001-05-24         Jeopardy!                 QUEENS   \n",
      "211950         2348  1994-11-16  Double Jeopardy!  20th CENTURY MONARCHS   \n",
      "216733         6044  2010-12-16  Double Jeopardy!            YOUR MOMMA!   \n",
      "\n",
      "        value  \\\n",
      "231     $1000   \n",
      "20168    None   \n",
      "49970    $200   \n",
      "109236   $600   \n",
      "123127   $400   \n",
      "132899   $800   \n",
      "135446   $800   \n",
      "159363   $200   \n",
      "205623  $1600   \n",
      "206648   $300   \n",
      "211950   $600   \n",
      "216733  $1200   \n",
      "\n",
      "                                                                                                      question  \\\n",
      "231                             The queen in Marlowe's \"Edward II\" is named this, like a famous queen of Spain   \n",
      "20168                             This Queen of England was the granddaughter of Ferdinand & Isabella of Spain   \n",
      "49970                                                  The reign in Spain for this queen was from 1474 to 1504   \n",
      "109236                        Spain's King Philip II was married 4 times; his second wife was this Tudor queen   \n",
      "123127                                In 1570 Spain's Phillip II tried to put this queen on the English throne   \n",
      "132899           By the age of 10, this 2'1\" young man had already visited President Polk & the queen of Spain   \n",
      "135446  He was the queen's confessor before he became Spain's notoriously cruel first grand inquisitor in 1483   \n",
      "159363                          King Ferdinand & Queen Isabella of Spain sent this explorer on his 1492 voyage   \n",
      "205623                        In 1897 this cellist was awarded the Order of Carlos III from the Queen of Spain   \n",
      "206648                       This queen's marriage to Ferdinand in 1469 brought about the unification of Spain   \n",
      "211950             Queen Ena of Spain, the last surviving granddaughter of this queen of England, died in 1969   \n",
      "216733                                                        Spain's queen Joan the Mad & Catherine of Aragon   \n",
      "\n",
      "                                    answer  value_float  \n",
      "231                               Isabella       1000.0  \n",
      "20168                 Mary I (Bloody Mary)          0.0  \n",
      "49970                             Isabella        200.0  \n",
      "109236      Mary Tudor (Mary I of England)        600.0  \n",
      "123127  Mary Stuart (Mary, Queen of Scots)        400.0  \n",
      "132899                           Tom Thumb        800.0  \n",
      "135446                          Torquemada        800.0  \n",
      "159363                Christopher Columbus        200.0  \n",
      "205623                        Pablo Casals       1600.0  \n",
      "206648                            Isabella        300.0  \n",
      "211950                      Queen Victoria        600.0  \n",
      "216733                            Isabella       1200.0  \n"
     ]
    }
   ],
   "source": [
    "def filter_data(data, column, words):\n",
    "    filter = lambda x: all(word.lower() in x.lower() for word in words)\n",
    "    return data.loc[data[column].apply(filter)]\n",
    "\n",
    "print(filter_data(jeopardy, 'question', ['Queen', 'Spain']))"
   ]
  },
  {
   "cell_type": "markdown",
   "id": "694ac007-ce70-4917-94b0-01c69e473b48",
   "metadata": {},
   "source": [
    "3. We may want to eventually compute aggregate statistics, like .mean() on the \" Value\" column. But right now, the values in that column are strings. Convert the \" Value\" column to floats. If you’d like to, you can create a new column with the float values.\n",
    "\n",
    "Now that you can filter the dataset of question, use your new column that contains the float values of each question to find the “difficulty” of certain topics. For example, what is the average value of questions that contain the word \"King\"?\n",
    "\n",
    "Make sure to use the dataset that contains the float values as the dataset you use in your filtering function."
   ]
  },
  {
   "cell_type": "code",
   "execution_count": 43,
   "id": "51e61f59-3bfb-4b1b-862b-d001d2a6194a",
   "metadata": {},
   "outputs": [
    {
     "name": "stdout",
     "output_type": "stream",
     "text": [
      "771.8833850722094\n"
     ]
    }
   ],
   "source": [
    "jeopardy['value_float'] = jeopardy['value'].str.replace('[$,]', '', regex = True).str.replace('None', '0').apply(float)\n",
    "\n",
    "filter_king = filter_data(jeopardy, 'question', ['King'])\n",
    "\n",
    "print(filter_king['value_float'].mean())"
   ]
  },
  {
   "cell_type": "markdown",
   "id": "0aae66fc-211f-41c0-83ea-4b6d21b8ec55",
   "metadata": {},
   "source": [
    "4. Write a function that returns the count of the unique answers to all of the questions in a dataset. For example, after filtering the entire dataset to only questions containing the word \"King\", we could then find all of the unique answers to those questions. The answer “Henry VIII” appeared 3 times and was the most common answer."
   ]
  },
  {
   "cell_type": "code",
   "execution_count": 48,
   "id": "a44dc55a-0249-4b63-a564-b647a1c60c62",
   "metadata": {},
   "outputs": [
    {
     "name": "stdout",
     "output_type": "stream",
     "text": [
      "Henry VIII                   55\n",
      "Solomon                      35\n",
      "Richard III                  33\n",
      "Louis XIV                    31\n",
      "David                        30\n",
      "                             ..\n",
      "Grauman's Chinese Theater     1\n",
      "highlighter                   1\n",
      "The Wild Thornberrys          1\n",
      "starch                        1\n",
      "Gertrude Ederle               1\n",
      "Name: answer, Length: 5268, dtype: int64\n"
     ]
    }
   ],
   "source": [
    "def count_unique_answers(data):\n",
    "    return data['answer'].value_counts()\n",
    "\n",
    "print(count_unique_answers(filter_king))"
   ]
  },
  {
   "cell_type": "code",
   "execution_count": null,
   "id": "a21dcc4a-8381-43a9-a57d-c347f2e0561e",
   "metadata": {},
   "outputs": [],
   "source": []
  }
 ],
 "metadata": {
  "kernelspec": {
   "display_name": "Python 3",
   "language": "python",
   "name": "python3"
  },
  "language_info": {
   "codemirror_mode": {
    "name": "ipython",
    "version": 3
   },
   "file_extension": ".py",
   "mimetype": "text/x-python",
   "name": "python",
   "nbconvert_exporter": "python",
   "pygments_lexer": "ipython3",
   "version": "3.8.8"
  }
 },
 "nbformat": 4,
 "nbformat_minor": 5
}
