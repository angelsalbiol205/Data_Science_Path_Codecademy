{
 "cells": [
  {
   "cell_type": "markdown",
   "id": "7719a59a",
   "metadata": {},
   "source": [
    "Our first step is to create the variables for each factor we will consider when estimating medical insurance costs.\n",
    "\n",
    "These are the variables we will need to create:\n",
    "\n",
    "age: age of the individual in years\n",
    "sex: 0 for female, 1 for male*\n",
    "bmi: individual’s body mass index\n",
    "num_of_children: number of children the individual has\n",
    "smoker: 0 for a non-smoker, 1 for a smoker\n",
    "At the top of script.py, create the following variables for a 28-year-old, nonsmoking woman who has three children and a BMI of 26.2.\n",
    "\n",
    "Note: We are using this medical insurance dataset as a guide, which unfortunately does not include data for non-binary individuals."
   ]
  },
  {
   "cell_type": "code",
   "execution_count": 2,
   "id": "680c7537",
   "metadata": {},
   "outputs": [],
   "source": [
    "age = 28\n",
    "sex = 0 \n",
    "bmi = 26.2\n",
    "num_of_children = 3\n",
    "smoker = 0"
   ]
  },
  {
   "cell_type": "markdown",
   "id": "4a55a39b",
   "metadata": {},
   "source": [
    "After the declaration of the variables, create a variable called insurance_cost that utilizes the following formula:\n",
    "\n",
    "\\begin{aligned} insurance\\_cost = 250*age - 128*sex \\\\ + 370*bmi + 425*num\\_of\\_children \\\\ + 24000*smoker - 12500 \\end{aligned} \n",
    "insurance_cost=250∗age−128∗sex\n",
    "+370∗bmi+425∗num_of_children\n",
    "+24000∗smoker−12500"
   ]
  },
  {
   "cell_type": "code",
   "execution_count": 3,
   "id": "e1590694",
   "metadata": {},
   "outputs": [],
   "source": [
    "insurance_cost = (250 * age) - (128 * sex) + (370 * bmi) + (425 * num_of_children) + (24000 * smoker) - 12500"
   ]
  },
  {
   "cell_type": "markdown",
   "id": "cc9d20b6",
   "metadata": {},
   "source": [
    "Let’s display this value in an informative way. Print out the following string in the terminal:\n",
    "\n",
    "\"This person's insurance cost is {insurance_cost} dollars.\"\n",
    "\n",
    "You will need to use string concatenation, including the str() function to print out the insurance_cost."
   ]
  },
  {
   "cell_type": "code",
   "execution_count": 5,
   "id": "ccbe0590",
   "metadata": {},
   "outputs": [
    {
     "name": "stdout",
     "output_type": "stream",
     "text": [
      "This person's insurance cost is 5469.0 dollars\n"
     ]
    }
   ],
   "source": [
    "insurance_cost = (250 * age) - (128 * sex) + (370 * bmi) + (425 * num_of_children) + (24000 * smoker) - 12500\n",
    "print(\"This person's insurance cost is {insurance_cost} dollars\".format(insurance_cost = insurance_cost))\n",
    "\n",
    "#tb podria ser print(\"This person's insurance cost is \" + str(insurance_cost) + \" dollars\")"
   ]
  },
  {
   "cell_type": "markdown",
   "id": "fee7719e",
   "metadata": {},
   "source": [
    "We have seen how our formula can estimate costs for one individual. Now let’s play with some individual factors to see what role each one plays in our estimation!\n",
    "\n",
    "Let’s start with the age factor. Using a plus-equal operator, add 4 years to our age variable.\n",
    "\n",
    "Now that we have changed our age value, we want to recalculate our insurance cost. Declare a new variable called new_insurance_cost underneath the expression that increased age by 4.\n",
    "\n",
    "Make sure you leave the line with the insurance_cost variable the same. We will use it later in our program!"
   ]
  },
  {
   "cell_type": "code",
   "execution_count": 6,
   "id": "2addc56e",
   "metadata": {},
   "outputs": [],
   "source": [
    "age += 4\n",
    "new_insurance_cost = (250 * age) - (128 * sex) + (370 * bmi) + (425 * num_of_children) + (24000 * smoker) - 12500"
   ]
  },
  {
   "cell_type": "markdown",
   "id": "acfcf9e8",
   "metadata": {},
   "source": [
    "Next, we want to find the difference between our new_insurance_cost and insurance_cost. To do this, let’s create a new variable called change_in_insurance_cost and set it equal to the difference between new_insurance_cost and insurance_cost.\n",
    "\n",
    "Note: depending on the order that we subtract (eg., new_insurance_cost - insurance cost vs. insurance_cost - new_insurance_cost), we’ll get a positive or negative version of the same number. To make this difference interpretable, let’s calculate new_insurance_cost - insurance_cost. Then we can say, “people who are four years older have estimated insurance costs that are change_in_insurance_cost dollars different, where the sign of change_in_insurance_cost tells us whether the cost is higher or lower."
   ]
  },
  {
   "cell_type": "code",
   "execution_count": 7,
   "id": "5e47d94c",
   "metadata": {},
   "outputs": [],
   "source": [
    "change_in_insurance_cost = new_insurance_cost - insurance_cost"
   ]
  },
  {
   "cell_type": "markdown",
   "id": "7f92360a",
   "metadata": {},
   "source": [
    "We want to display this information in an informative way similar to the output from instruction 3. On the next line, print the following string in the terminal, where XXX is replaced by the value of change_in_insurance_cost:\n",
    "\n",
    "The change in cost of insurance after increasing the age by 4 years is XXX dollars.\n",
    "Doing this will tell us how 4 years in age affects medical insurance cost estimates assuming that all other variables remain the same."
   ]
  },
  {
   "cell_type": "code",
   "execution_count": 12,
   "id": "c96da678",
   "metadata": {},
   "outputs": [
    {
     "name": "stdout",
     "output_type": "stream",
     "text": [
      "The change in cost of insurance after increasing the age by 4 years is 1000.0 dollars.\n"
     ]
    }
   ],
   "source": [
    "print(\"The change in cost of insurance after increasing the age by 4 years is \\\n",
    "{change_in_insurance_cost} dollars.\".format(change_in_insurance_cost=change_in_insurance_cost))"
   ]
  },
  {
   "cell_type": "markdown",
   "id": "d4425a7c",
   "metadata": {},
   "source": [
    "Now that you have looked at the age factor, let’s move onto another one: BMI. First, we have to redefine our age variable to be its original value.\n",
    "\n",
    "Set age to 28 following your last piece of code. This will reset its value and allow us to focus on just the change in the BMI factor moving forward.\n",
    "\n",
    "On the next line, using the plus-equal operator, add 3.1 to our bmi variable.\n",
    "Now let’s find out how a change in BMI affects insurance costs. Our next steps are pretty much the same as we have done before when looking at age.\n",
    "\n",
    "Below the line where bmi was increased by 3.1, rewrite the insurance cost formula and assign it to the variable name new_insurance_cost.\n",
    "\n",
    "Save the difference between new_insurance_cost and insurance_cost in a variable called change_in_insurance_cost\n",
    "\n",
    "Display the following string in the output terminal, where XXX is replaced by the value of change_in_insurance_cost:\n",
    "\"The change in estimated insurance cost after increasing BMI by 3.1 is XXX dollars.\"\n"
   ]
  },
  {
   "cell_type": "code",
   "execution_count": 14,
   "id": "3ec97609",
   "metadata": {},
   "outputs": [
    {
     "name": "stdout",
     "output_type": "stream",
     "text": [
      "The change in estimated insurance cost after increasing the BMI by 3.1 is 2294.0 dollars.\n"
     ]
    }
   ],
   "source": [
    "age = 28\n",
    "bmi += 3.1\n",
    "new_insurance_cost = (250 * age) - (128 * sex) + (370 * bmi) + (425 * num_of_children) + (24000 * smoker) - 12500\n",
    "change_in_insurance_cost = new_insurance_cost - insurance_cost\n",
    "print(\"The change in estimated insurance cost after increasing the BMI by 3.1 is \\\n",
    "{change_in_insurance_cost} dollars.\".format(change_in_insurance_cost=change_in_insurance_cost))"
   ]
  },
  {
   "cell_type": "markdown",
   "id": "0a16ec72",
   "metadata": {},
   "source": [
    "Let’s look at the effect sex has on medical insurance costs. Before we make any additional changes, first reassign your bmi variable back to its original value of 26.2.\n",
    "\n",
    "On a new line of code, reassign the value of sex to 1. A reminder that 1 identifies male individuals and 0 identifies female individuals.\n",
    "Perform the steps below!\n",
    "\n",
    "Rewrite the insurance cost formula and assign it to the variable name new_insurance_cost.\n",
    "\n",
    "Save the difference between new_insurance_cost and insurance_cost in a variable called change_in_insurance_cost.\n",
    "\n",
    "Display the following string in the output terminal, where XXX is replaced by the value of change_in_insurance_cost:\n",
    "\"The change in estimated cost for being male instead of female is XXX dollars.\""
   ]
  },
  {
   "cell_type": "code",
   "execution_count": 15,
   "id": "cd79e8fc",
   "metadata": {},
   "outputs": [
    {
     "name": "stdout",
     "output_type": "stream",
     "text": [
      "The change in estimated insurance for being male instead of female is -128.0 dollars.\n"
     ]
    }
   ],
   "source": [
    "bmi = 26.2\n",
    "sex = 1\n",
    "new_insurance_cost = (250 * age) - (128 * sex) + (370 * bmi) + (425 * num_of_children) + (24000 * smoker) - 12500\n",
    "change_in_insurance_cost = new_insurance_cost - insurance_cost\n",
    "print(\"The change in estimated insurance for being male instead of female is \\\n",
    "{change_in_insurance_cost} dollars.\".format(change_in_insurance_cost=change_in_insurance_cost))\n"
   ]
  },
  {
   "cell_type": "markdown",
   "id": "318fb8ec",
   "metadata": {},
   "source": [
    "EXTRA PRACTICE\n",
    "\n",
    "Great job on the project!!!\n",
    "\n",
    "So far we have looked at 3 of the 5 factors in the insurance costs formula. The two remaining are smoker and num_of_children. If you want to keep challenging yourself, spend some time investigating these factors!\n",
    "\n",
    "Rewrite the insurance cost formula and assign it to the variable name new_insurance_cost.\n",
    "\n",
    "Save the difference between new_insurance_cost and insurance_cost in a variable called change_in_insurance_cost\n",
    "\n",
    "Display the information in the terminal!"
   ]
  },
  {
   "cell_type": "code",
   "execution_count": 17,
   "id": "0907bd6d",
   "metadata": {},
   "outputs": [
    {
     "name": "stdout",
     "output_type": "stream",
     "text": [
      "The change in estimated insurance for having one less child is -850.0 dollars.\n",
      "The change in estimated insurance for smoking is 24000.0 dollars.\n"
     ]
    }
   ],
   "source": [
    "sex = 0\n",
    "num_of_children -= 1\n",
    "new_insurance_cost = (250 * age) - (128 * sex) + (370 * bmi) + (425 * num_of_children) + (24000 * smoker) - 12500\n",
    "change_in_insurance_cost = new_insurance_cost - insurance_cost\n",
    "print(\"The change in estimated insurance for having one less child is \\\n",
    "{change_in_insurance_cost} dollars.\".format(change_in_insurance_cost=change_in_insurance_cost))\n",
    "\n",
    "num_of_children = 3\n",
    "smoker = 1\n",
    "new_insurance_cost = (250 * age) - (128 * sex) + (370 * bmi) + (425 * num_of_children) + (24000 * smoker) - 12500\n",
    "change_in_insurance_cost = new_insurance_cost - insurance_cost\n",
    "print(\"The change in estimated insurance for smoking is \\\n",
    "{change_in_insurance_cost} dollars.\".format(change_in_insurance_cost=change_in_insurance_cost))"
   ]
  }
 ],
 "metadata": {
  "kernelspec": {
   "display_name": "Python 3",
   "language": "python",
   "name": "python3"
  },
  "language_info": {
   "codemirror_mode": {
    "name": "ipython",
    "version": 3
   },
   "file_extension": ".py",
   "mimetype": "text/x-python",
   "name": "python",
   "nbconvert_exporter": "python",
   "pygments_lexer": "ipython3",
   "version": "3.8.8"
  }
 },
 "nbformat": 4,
 "nbformat_minor": 5
}
