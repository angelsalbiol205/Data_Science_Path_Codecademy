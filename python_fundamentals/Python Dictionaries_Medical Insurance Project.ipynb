{
 "cells": [
  {
   "cell_type": "markdown",
   "id": "0813dec1-0f12-41f6-a373-fbff2d59a507",
   "metadata": {},
   "source": [
    "### Storing patient names and insurance costs\n",
    "\n",
    "We would like to keep a record of medical patients and their insurance costs. First, create an empty dictionary called medical_costs.\n",
    "\n",
    "Let’s populate our medical_costs dictionary by adding the following key-value pairs:\n",
    "- Add \"Marina\" to medical_costs as a key with a value of 6607.0.\n",
    "- Add \"Vinay\" to medical_costs as a key with a value of 3225.0.\n",
    "- \"Connie\", with an insurance cost of 8886.0\n",
    "- \"Isaac\", with an insurance cost of 16444.0\n",
    "- \"Valentina\", with an insurance cost of 6420.0\n",
    "\n",
    "Print medical_costs. Make sure the dictionary is what you expected."
   ]
  },
  {
   "cell_type": "code",
   "execution_count": 1,
   "id": "72aae5fa-754c-412e-bd41-00d0c3830059",
   "metadata": {},
   "outputs": [
    {
     "name": "stdout",
     "output_type": "stream",
     "text": [
      "{'Martina': 6607.0, 'Vinay': 3225.0, 'Connie': 8886.0, 'Isaac': 16444.0, 'Valentina': 6420.0}\n"
     ]
    }
   ],
   "source": [
    "medical_costs = {}\n",
    "medical_costs.update({\"Martina\": 6607.0, \"Vinay\": 3225.0, \"Connie\": 8886.0, \"Isaac\": 16444.0, \"Valentina\": 6420.0})\n",
    "print(medical_costs)"
   ]
  },
  {
   "cell_type": "markdown",
   "id": "d56090be-c5e0-4113-a994-d96972249888",
   "metadata": {},
   "source": [
    "You notice that Vinay’s insurance cost was incorrectly inputted. Update the value associated with Vinay to 3325.0.\n",
    "Print the updated dictionary."
   ]
  },
  {
   "cell_type": "code",
   "execution_count": 2,
   "id": "e1c3a5f5-3f66-4568-97fb-14f72e462f90",
   "metadata": {},
   "outputs": [
    {
     "name": "stdout",
     "output_type": "stream",
     "text": [
      "{'Martina': 6607.0, 'Vinay': 3325.0, 'Connie': 8886.0, 'Isaac': 16444.0, 'Valentina': 6420.0}\n"
     ]
    }
   ],
   "source": [
    "medical_costs[\"Vinay\"] = 3325.0\n",
    "print(medical_costs)"
   ]
  },
  {
   "cell_type": "markdown",
   "id": "f8fd794e-c508-4f80-a8d1-5a55ed24d447",
   "metadata": {},
   "source": [
    "Let’s calculate the average medical cost of each patient. Create a variable called total_cost and set it equal to 0.\n",
    "Next, iterate through the values in medical_costs and add each value to the total_cost variable.\n",
    "After the loop, create a variable called average_cost that stores the total_cost divided by the length of the medical_costs dictionary.\n",
    "Print average_cost with the following message: \"Average Insurance Cost: {average_cost}\""
   ]
  },
  {
   "cell_type": "code",
   "execution_count": 4,
   "id": "a956dbb5-a15f-4e48-92e5-c94836edc74e",
   "metadata": {},
   "outputs": [
    {
     "name": "stdout",
     "output_type": "stream",
     "text": [
      "Average Insurance Cost: 8336.4\n"
     ]
    }
   ],
   "source": [
    "total_cost = 0\n",
    "for cost in medical_costs.values():\n",
    "  total_cost += cost\n",
    "average_cost = total_cost / len(medical_costs)\n",
    "print(\"Average Insurance Cost: {}\".format(average_cost))"
   ]
  },
  {
   "cell_type": "markdown",
   "id": "0a15629b-54b6-4880-adfb-2457d2244368",
   "metadata": {},
   "source": [
    "### List comprehension to dictionary\n",
    "ou have been asked to create a second dictionary that maps patient names to their ages.\n",
    "First, create two lists called names and ages with the following data:\n",
    "\n",
    "names\tages\\\n",
    "Marina\t27\\\n",
    "Vinay\t24\\\n",
    "Connie\t43\\\n",
    "Isaac\t35\\\n",
    "Valentina\t52\\"
   ]
  },
  {
   "cell_type": "code",
   "execution_count": 5,
   "id": "6906ead8-5ee8-4516-a5b9-fa60cd23f3d3",
   "metadata": {},
   "outputs": [],
   "source": [
    "names = [\"Marina\", \"Vinay\", \"Connie\", \"Isaac\", \"Valentina\"]\n",
    "ages = [27, 24, 43, 35, 52]"
   ]
  },
  {
   "cell_type": "markdown",
   "id": "cf454686-4795-4835-a844-b708c220a5d7",
   "metadata": {},
   "source": [
    "Next, create a variable called zipped_ages that is a zipped list of pairs between the names list and the ages list.\n",
    "Create a dictionary called names_to_ages by using a list comprehension that iterates through zipped_ages and turns each pair into a key : value item.\n",
    "Print names_to_ages to see the result.\n",
    "\n",
    "(HO HE FET DIRECTAMENT AMB UN PAS)"
   ]
  },
  {
   "cell_type": "code",
   "execution_count": 6,
   "id": "87e336ee-4352-497b-9143-55286d80c344",
   "metadata": {},
   "outputs": [
    {
     "name": "stdout",
     "output_type": "stream",
     "text": [
      "{'Marina': 27, 'Vinay': 24, 'Connie': 43, 'Isaac': 35, 'Valentina': 52}\n"
     ]
    }
   ],
   "source": [
    "names_to_ages = {key:value for key, value in zip(names, ages)}\n",
    "print(names_to_ages)"
   ]
  },
  {
   "cell_type": "markdown",
   "id": "63264c7f-1cb5-4f4a-90f1-0297e0aaf564",
   "metadata": {},
   "source": [
    "Use .get() to get the value of Marina’s age and store it in a variable called marina_age. Use None as a default value if the key doesn’t exist.\n",
    "Print marina_age with the following message: \"Marina's age is {marina_age}\""
   ]
  },
  {
   "cell_type": "code",
   "execution_count": 7,
   "id": "638e5f1e-9cbb-45e6-a560-3598186800a5",
   "metadata": {},
   "outputs": [
    {
     "name": "stdout",
     "output_type": "stream",
     "text": [
      "Marina's age is 27\n"
     ]
    }
   ],
   "source": [
    "marina_age = names_to_ages[\"Marina\"]\n",
    "print(\"Marina's age is \" + str(marina_age))"
   ]
  },
  {
   "cell_type": "markdown",
   "id": "8037acf2-8215-448c-91bc-5f1cf8f7ff44",
   "metadata": {},
   "source": [
    "### Using a dictionary to create a medical database\n",
    "\n",
    "Let’s create a third dictionary to represent a database of medical records that contains information such as a patient’s name, age, sex, gender, BMI, number of children, smoker status, and insurance cost. First, create an empty dictionary called medical_records.\n",
    "\n",
    "Next, add \"Marina\" to medical_records as a key with the value being a dictionary of medical data: {\"Age\": 27, \"Sex\": \"Female\", \"BMI\": 31.1, \"Children\": 2, \"Smoker\": \"Non-smoker\", \"Insurance_cost\": 6607.0}\n",
    "\n",
    "Do the same for the following individuals:\n",
    "\n",
    "Name\tAge\tSex\tBMI\tChildren\tSmoker\tInsurance Cost\\\n",
    "Vinay\t24\tMale\t26.9\t0\tNon-smoker\t3225.0\\\n",
    "Connie\t43\tFemale\t25.3\t3\tNon-smoker\t8886.0\\\n",
    "Isaac\t35\tMale\t20.6\t4\tSmoker\t16444.0\\\n",
    "Valentina\t52\tFemale\t18.7\t1\tNon-smoker\t6420.0\\"
   ]
  },
  {
   "cell_type": "code",
   "execution_count": 11,
   "id": "517682db-bba3-4bc7-8cb8-64386d3bbd50",
   "metadata": {},
   "outputs": [
    {
     "name": "stdout",
     "output_type": "stream",
     "text": [
      "{'Martina': {'Age': 27, 'Sex': 'Female', 'BMI': 31.1, 'Children': 2, 'Smoker': 'Non-smoker', 'Insurance_cost': 6607.0}, 'Vinay': {'Age': 24, 'Sex': 'Male', 'BMI': 26.9, 'Children': 0, 'Smoker': 'Non-smoker', 'Insurance_cost': 3225.0}, 'Connie': {'Age': 43, 'Sex': 'Female', 'BMI': 25.3, 'Children': 3, 'Smoker': 'Non-smoker', 'Insurance_cost': 8886.0}, 'Isaac': {'Age': 35, 'Sex': 'Male', 'BMI': 20.6, 'Children': 4, 'Smoker': 'Smoker', 'Insurance_cost': 16444.0}, 'Valentina': {'Age': 52, 'Sex': 'Female', 'BMI': 18.7, 'Children': 1, 'Smoker': 'Non-smoker', 'Insurance_cost': 6420.0}}\n"
     ]
    }
   ],
   "source": [
    "medical_records = {}\n",
    "medical_records[\"Martina\"] = {\"Age\": 27, \"Sex\": \"Female\", \"BMI\": 31.1, \"Children\": 2, \"Smoker\": \"Non-smoker\", \"Insurance_cost\": 6607.0}\n",
    "\n",
    "medical_records.update({\n",
    "        \"Vinay\": {\"Age\": 24, \"Sex\": \"Male\", \"BMI\": 26.9, \"Children\": 0, \"Smoker\": \"Non-smoker\", \"Insurance_cost\": 3225.0}, \n",
    "        \"Connie\": {\"Age\": 43, \"Sex\": \"Female\", \"BMI\": 25.3, \"Children\": 3, \"Smoker\": \"Non-smoker\", \"Insurance_cost\": 8886.0}, \n",
    "        \"Isaac\": {\"Age\": 35, \"Sex\": \"Male\", \"BMI\": 20.6, \"Children\": 4, \"Smoker\": \"Smoker\", \"Insurance_cost\": 16444.0}, \n",
    "        \"Valentina\": {\"Age\": 52, \"Sex\": \"Female\", \"BMI\": 18.7, \"Children\": 1, \"Smoker\": \"Non-smoker\", \"Insurance_cost\": 6420.0}\n",
    "  })\n",
    "print(medical_records)"
   ]
  },
  {
   "cell_type": "markdown",
   "id": "16f78b59-e44b-41d8-aab1-90437f1a1c2e",
   "metadata": {},
   "source": [
    "The medical_records dictionary acts like a database of medical records. Let’s access a specific piece of data in medical_records.\n",
    "Print out Connie’s insurance cost with the following message: \"Connie's insurance cost is X dollars.\""
   ]
  },
  {
   "cell_type": "code",
   "execution_count": 12,
   "id": "220708d0-da2f-4476-a45b-be5a8169144a",
   "metadata": {},
   "outputs": [
    {
     "name": "stdout",
     "output_type": "stream",
     "text": [
      "Connie insurance cost is 8886.0 dollars\n"
     ]
    }
   ],
   "source": [
    "print(\"Connie insurance cost is {} dollars\".format(medical_records[\"Connie\"][\"Insurance_cost\"]))"
   ]
  },
  {
   "cell_type": "markdown",
   "id": "1c397330-eeea-4230-a6c4-03b1df3685bc",
   "metadata": {},
   "source": [
    "Vinay has moved to a new country and we no longer want to include him in our medical records.\n",
    "Remove Vinay from medical_records."
   ]
  },
  {
   "cell_type": "code",
   "execution_count": 13,
   "id": "c2c9b77a-e104-4620-b13b-cbacf73dd493",
   "metadata": {},
   "outputs": [
    {
     "name": "stdout",
     "output_type": "stream",
     "text": [
      "{'Martina': {'Age': 27, 'Sex': 'Female', 'BMI': 31.1, 'Children': 2, 'Smoker': 'Non-smoker', 'Insurance_cost': 6607.0}, 'Connie': {'Age': 43, 'Sex': 'Female', 'BMI': 25.3, 'Children': 3, 'Smoker': 'Non-smoker', 'Insurance_cost': 8886.0}, 'Isaac': {'Age': 35, 'Sex': 'Male', 'BMI': 20.6, 'Children': 4, 'Smoker': 'Smoker', 'Insurance_cost': 16444.0}, 'Valentina': {'Age': 52, 'Sex': 'Female', 'BMI': 18.7, 'Children': 1, 'Smoker': 'Non-smoker', 'Insurance_cost': 6420.0}}\n"
     ]
    }
   ],
   "source": [
    "medical_records.pop(\"Vinay\")\n",
    "print(medical_records)"
   ]
  },
  {
   "cell_type": "markdown",
   "id": "450c15a9-fab1-4082-a02a-7b779b2e3bc8",
   "metadata": {},
   "source": [
    "Let’s take a closer look at each patient’s medical record.\n",
    "Use a for loop to iterate through the items of medical_records. For each key-value pair, print out a string that looks like the following:\n",
    "\"{Name} is a {Age} year old {Sex} {Smoker} with a BMI of {BMI} and insurance cost of {Insurance_cost}\""
   ]
  },
  {
   "cell_type": "code",
   "execution_count": 14,
   "id": "50cddff0-3ae3-4bd2-9210-bf7a0e030e5d",
   "metadata": {},
   "outputs": [
    {
     "name": "stdout",
     "output_type": "stream",
     "text": [
      "Martina is a 27 year old Female Non-smoker with a BMI of 31.1 and insurance cost of 6607.0\n",
      "Connie is a 43 year old Female Non-smoker with a BMI of 25.3 and insurance cost of 8886.0\n",
      "Isaac is a 35 year old Male Smoker with a BMI of 20.6 and insurance cost of 16444.0\n",
      "Valentina is a 52 year old Female Non-smoker with a BMI of 18.7 and insurance cost of 6420.0\n"
     ]
    }
   ],
   "source": [
    "for name, record in medical_records.items():\n",
    "  print(name + \" is a \" + str(record[\"Age\"]) + \\\n",
    "  \" year old \" + record[\"Sex\"] + \" \" + record[\"Smoker\"] \\\n",
    "  + \" with a BMI of \" + str(record[\"BMI\"]) + \\\n",
    "  \" and insurance cost of \" + str(record[\"Insurance_cost\"]))"
   ]
  },
  {
   "cell_type": "code",
   "execution_count": null,
   "id": "e6ce912d-7cb0-48c5-86c1-76d023b4ef2a",
   "metadata": {},
   "outputs": [],
   "source": []
  }
 ],
 "metadata": {
  "kernelspec": {
   "display_name": "Python 3",
   "language": "python",
   "name": "python3"
  },
  "language_info": {
   "codemirror_mode": {
    "name": "ipython",
    "version": 3
   },
   "file_extension": ".py",
   "mimetype": "text/x-python",
   "name": "python",
   "nbconvert_exporter": "python",
   "pygments_lexer": "ipython3",
   "version": "3.8.8"
  }
 },
 "nbformat": 4,
 "nbformat_minor": 5
}
