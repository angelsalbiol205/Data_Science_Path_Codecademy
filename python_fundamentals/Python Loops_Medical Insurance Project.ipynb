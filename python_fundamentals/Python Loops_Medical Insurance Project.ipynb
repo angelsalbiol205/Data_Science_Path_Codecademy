{
 "cells": [
  {
   "cell_type": "markdown",
   "id": "4d03829b-5e7b-4745-99e2-3b848e61ac77",
   "metadata": {},
   "source": [
    "## Creating a for Loop\n",
    "\n",
    "First, let’s take a look at the three lists:\n",
    "\n",
    "- names stores the names of seven individuals.\n",
    "- estimated_insurance_costs stores the estimated medical insurance costs for the individuals.\n",
    "- actual_insurance_costs stores the actual insurance costs paid by the individuals.\n",
    "\n",
    "We want to calculate the average insurance cost each person paid. We’ll start by adding up all of the insurance costs.\n",
    "Create a variable total_cost and initialize it to 0.\n",
    "Use a for loop to iterate through actual_insurance_costs and add each insurance cost to the variable total_cost."
   ]
  },
  {
   "cell_type": "code",
   "execution_count": 4,
   "id": "cfe3206f-8a40-40a3-b8dd-3c89b962dd23",
   "metadata": {},
   "outputs": [],
   "source": [
    "names = [\"Judith\", \"Abel\", \"Tyson\", \"Martha\", \"Beverley\", \"David\", \"Anabel\"]\n",
    "estimated_insurance_costs = [1000.0, 2000.0, 3000.0, 4000.0, 5000.0, 6000.0, 7000.0]\n",
    "actual_insurance_costs = [1100.0, 2200.0, 3300.0, 4400.0, 5500.0, 6600.0, 7700.0]\n",
    "\n",
    "total_cost = 0\n",
    "for cost in actual_insurance_costs:\n",
    "  total_cost += cost"
   ]
  },
  {
   "cell_type": "markdown",
   "id": "1b271cbf-92c2-4d53-a674-cd7824e816ac",
   "metadata": {},
   "source": [
    "After the for loop, create a variable called average_cost that stores the total_cost divided by the length of the actual_insurance_costs list.\n",
    "\n",
    "Print average_cost with the following message:\n",
    "\"Average Insurance Cost: <average_cost> dollars.\""
   ]
  },
  {
   "cell_type": "code",
   "execution_count": 5,
   "id": "810a07a5-7b60-4e50-944b-d4b2e1e13809",
   "metadata": {},
   "outputs": [
    {
     "name": "stdout",
     "output_type": "stream",
     "text": [
      "Average Insurance Cost: 4400.0 dollars.\n"
     ]
    }
   ],
   "source": [
    "average_cost = total_cost / len(actual_insurance_costs)\n",
    "print(\"Average Insurance Cost: {} dollars.\".format(average_cost))"
   ]
  },
  {
   "cell_type": "markdown",
   "id": "291105e9-dda8-4162-a5f0-abc8aae44739",
   "metadata": {},
   "source": [
    "## Using Range Loops\n",
    "\n",
    "For each individual in names, we want to determine whether their insurance cost is above or below average.\n",
    "Write a for loop with variable i that goes from 0 to len(names).\n",
    "\n",
    "Inside of the for loop, do the following:\n",
    "- Create a variable name, which stores names[i].\n",
    "- Create a variable insurance_cost, which stores actual_insurance_costs[i].\n",
    "- Print out the insurance cost for each individual, with the following message:\n",
    "\"The insurance cost for <name> is <insurance_cost> dollars.\"\n",
    "    \n",
    "## Conditions Inside a Loop\n",
    "    \n",
    "Inside of the for loop, use if, elif, else statements after the print statement to check whether the insurance cost is above, below, or equal to the average. Print out messages for each case:\n",
    "- When insurance_cost is higher than the average, print out the following:\n",
    "\"The insurance cost for <name> is above average.\"\n",
    "- When insurance_cost is lower than the average, print out the following:\n",
    "\"The insurance cost for <name> is below average.\"\n",
    "- Otherwise, print out the following:\n",
    "\"The insurance cost for <name> is equal to the average.\""
   ]
  },
  {
   "cell_type": "code",
   "execution_count": 8,
   "id": "d6a3279c-a398-4dcf-8fc9-0aacf8354071",
   "metadata": {},
   "outputs": [
    {
     "name": "stdout",
     "output_type": "stream",
     "text": [
      "The insurance cost for Judith is 1100.0 dollars.\n",
      "The insurance cost for Judith is below average\n",
      "The insurance cost for Abel is 2200.0 dollars.\n",
      "The insurance cost for Abel is below average\n",
      "The insurance cost for Tyson is 3300.0 dollars.\n",
      "The insurance cost for Tyson is below average\n",
      "The insurance cost for Martha is 4400.0 dollars.\n",
      "The insurance cost for Martha is equal to average\n",
      "The insurance cost for Beverley is 5500.0 dollars.\n",
      "The insurance cost for Beverley is above average\n",
      "The insurance cost for David is 6600.0 dollars.\n",
      "The insurance cost for David is above average\n",
      "The insurance cost for Anabel is 7700.0 dollars.\n",
      "The insurance cost for Anabel is above average\n"
     ]
    }
   ],
   "source": [
    "for i in range(0, len(names)):\n",
    "  name = names[i]\n",
    "  insurance_cost = actual_insurance_costs[i]\n",
    "  print(\"The insurance cost for {} is {} dollars.\".format(name, insurance_cost))\n",
    "  if insurance_cost > average_cost:\n",
    "    print(\"The insurance cost for {} is above average\".format(name))\n",
    "  elif insurance_cost < average_cost:\n",
    "    print(\"The insurance cost for {} is below average\".format(name))\n",
    "  else:\n",
    "    print(\"The insurance cost for {} is equal to average\".format(name))"
   ]
  },
  {
   "cell_type": "markdown",
   "id": "950e591c-67c4-4b92-9820-14253c129bbe",
   "metadata": {},
   "source": [
    "## Creating a List Comprehension\n",
    "\n",
    "If you look closely at actual_insurance_costs and estimated_insurance_costs, you will notice that each of the actual insurance costs are 10% higher than the estimated insurance costs.\n",
    "Using a list comprehension, create a new list called updated_estimated_costs, which has each element in estimated_insurance_costs multiplied by 11/10.\n",
    "\n",
    "Print updated_estimated_costs.\n",
    "You should see that the list now looks the same as actual_insurance_costs."
   ]
  },
  {
   "cell_type": "code",
   "execution_count": 9,
   "id": "4f62c3a4-27fb-49ef-aba9-53d6a23abcf8",
   "metadata": {},
   "outputs": [
    {
     "name": "stdout",
     "output_type": "stream",
     "text": [
      "[1100.0, 2200.0, 3300.0, 4400.0, 5500.0, 6600.0, 7700.0]\n"
     ]
    }
   ],
   "source": [
    "updated_estimated_costs = [cost * 11/10 for cost in estimated_insurance_costs]\n",
    "print(updated_estimated_costs)"
   ]
  },
  {
   "cell_type": "markdown",
   "id": "2ae72619-8326-440b-8fbd-80f64c9ed77f",
   "metadata": {},
   "source": [
    "## Extra\n",
    "\n",
    "Modify the second for loop so that it also calculates how far above or below the average the estimated insurance cost is."
   ]
  },
  {
   "cell_type": "code",
   "execution_count": 10,
   "id": "8cb48490-8293-486b-9bf7-4e148673cb59",
   "metadata": {},
   "outputs": [
    {
     "name": "stdout",
     "output_type": "stream",
     "text": [
      "The insurance cost for Judith is 1100.0 dollars.\n",
      "The insurance cost for Judith is below average\n",
      "You are paying 3300.0 dollars less compare to average cost.\n",
      "The insurance cost for Abel is 2200.0 dollars.\n",
      "The insurance cost for Abel is below average\n",
      "You are paying 2200.0 dollars less compare to average cost.\n",
      "The insurance cost for Tyson is 3300.0 dollars.\n",
      "The insurance cost for Tyson is below average\n",
      "You are paying 1100.0 dollars less compare to average cost.\n",
      "The insurance cost for Martha is 4400.0 dollars.\n",
      "The insurance cost for Martha is equal to average\n",
      "The insurance cost for Beverley is 5500.0 dollars.\n",
      "The insurance cost for Beverley is above average\n",
      "You are paying 1100.0 dollars more compare to average cost.\n",
      "The insurance cost for David is 6600.0 dollars.\n",
      "The insurance cost for David is above average\n",
      "You are paying 2200.0 dollars more compare to average cost.\n",
      "The insurance cost for Anabel is 7700.0 dollars.\n",
      "The insurance cost for Anabel is above average\n",
      "You are paying 3300.0 dollars more compare to average cost.\n"
     ]
    }
   ],
   "source": [
    "for i in range(0, len(names)):\n",
    "  name = names[i]\n",
    "  insurance_cost = actual_insurance_costs[i]\n",
    "  print(\"The insurance cost for {} is {} dollars.\".format(name, insurance_cost))\n",
    "  if insurance_cost > average_cost:\n",
    "    print(\"The insurance cost for {} is above average\".format(name))\n",
    "    difference_insurance = insurance_cost - average_cost\n",
    "    print(\"You are paying {} dollars more compare to average cost.\".format(difference_insurance))\n",
    "  elif insurance_cost < average_cost:\n",
    "    print(\"The insurance cost for {} is below average\".format(name))\n",
    "    difference_insurance = average_cost - insurance_cost\n",
    "    print(\"You are paying {} dollars less compare to average cost.\".format(difference_insurance))\n",
    "  else:\n",
    "    print(\"The insurance cost for {} is equal to average\".format(name))"
   ]
  },
  {
   "cell_type": "code",
   "execution_count": null,
   "id": "e8e050d6-dc32-4283-843c-72010ac50897",
   "metadata": {},
   "outputs": [],
   "source": []
  }
 ],
 "metadata": {
  "kernelspec": {
   "display_name": "Python 3",
   "language": "python",
   "name": "python3"
  },
  "language_info": {
   "codemirror_mode": {
    "name": "ipython",
    "version": 3
   },
   "file_extension": ".py",
   "mimetype": "text/x-python",
   "name": "python",
   "nbconvert_exporter": "python",
   "pygments_lexer": "ipython3",
   "version": "3.8.8"
  }
 },
 "nbformat": 4,
 "nbformat_minor": 5
}
