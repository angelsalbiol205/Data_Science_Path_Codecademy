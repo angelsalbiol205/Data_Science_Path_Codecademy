{
 "cells": [
  {
   "cell_type": "markdown",
   "id": "19667f63",
   "metadata": {},
   "source": [
    "First, take a look at the code in script.py.\n",
    "\n",
    "In this code, we estimate the medical insurance costs for two individuals, Maria and Omar, based on five variables:\n",
    "\n",
    "age: age of the individual in years\n",
    "sex: 0 for female, 1 for male\n",
    "bmi: individual’s body mass index\n",
    "num_of_children: number of children the individual has\n",
    "smoker: 0 for a non-smoker, 1 for a smoker\n",
    "These variables are used in the following formula to estimate an individual’s insurance cost (in USD):\n",
    "\n",
    "insurance_cost = 250*age - 128*sex + 370*bmi + 425*num\\_of\\_children + 24000*smoker - 12500insurance_cost=250∗age−128∗sex+370∗bmi+425∗num_of_children+24000∗smoker−12500\n"
   ]
  },
  {
   "cell_type": "code",
   "execution_count": 1,
   "id": "7f03c257",
   "metadata": {},
   "outputs": [
    {
     "name": "stdout",
     "output_type": "stream",
     "text": [
      "The estimated insurance cost for Maria is 5469.0 dollars.\n",
      "The estimated insurance cost for Omar is 28336.0 dollars.\n"
     ]
    }
   ],
   "source": [
    "# Create calculate_insurance_cost() function below: \n",
    "\n",
    "\n",
    "# Initial variables for Maria \n",
    "age = 28\n",
    "sex = 0  \n",
    "bmi = 26.2\n",
    "num_of_children = 3\n",
    "smoker = 0  \n",
    "\n",
    "# Estimate Maria's insurance cost\n",
    "insurance_cost = 250*age - 128*sex + 370*bmi + 425*num_of_children + 24000*smoker - 12500\n",
    "\n",
    "print(\"The estimated insurance cost for Maria is \" + str(insurance_cost) + \" dollars.\")\n",
    "\n",
    "# Initial variables for Omar\n",
    "age = 35\n",
    "sex = 1 \n",
    "bmi = 22.2\n",
    "num_of_children = 0\n",
    "smoker = 1  \n",
    "\n",
    "# Estimate Omar's insurance cost \n",
    "insurance_cost = 250*age - 128*sex + 370*bmi + 425*num_of_children + 24000*smoker - 12500\n",
    "\n",
    "print(\"The estimated insurance cost for Omar is \" + str(insurance_cost) + \" dollars.\")"
   ]
  },
  {
   "cell_type": "markdown",
   "id": "a428897e",
   "metadata": {},
   "source": [
    "CREATE A FUNCTION\n",
    "\n",
    "The code used to estimate insurance costs for Maria and Omar looks quite similar – in both cases we calculate the insurance cost using the same formula and then print the output.\n",
    "\n",
    "This code is a great candidate for a function because it involves repeating almost identical commands in multiple places.\n",
    "\n",
    "Let’s start by defining a function called calculate_insurance_cost()\n",
    "Modify the function definition so that it contains five parameters: age, sex, bmi, num_of_children, smoker.\n",
    "\n",
    "Let’s outline the behavior we want our function to have. Inside of calculate_insurance_cost(), do the following:\n",
    "\n",
    "1. Create a variable called estimated_cost. For now, set this variable equal to the formula for insurance cost.\n",
    "2. Add a print statement that prints estimated_cost. You should output a message similar to: \"The estimated insurance cost for this person is xxx dollars.\"\n",
    "3. Return estimated_cost"
   ]
  },
  {
   "cell_type": "code",
   "execution_count": 2,
   "id": "79b1f7c1",
   "metadata": {},
   "outputs": [],
   "source": [
    "# Create calculate_insurance_cost() function below: \n",
    "def calculate_insurance_cost(age, sex, bmi, num_of_children, smoker):\n",
    "  estimated_cost = 250*age - 128*sex + 370*bmi + 425*num_of_children + 24000*smoker - 12500\n",
    "  print(\"The estimated insurance cost for this person is {} dollars.\".format(estimated_cost))\n",
    "  return estimated_cost"
   ]
  },
  {
   "cell_type": "markdown",
   "id": "9c9b57dd",
   "metadata": {},
   "source": [
    "CALLING A FUNCTION\n",
    "\n",
    "The function is now properly set up to calculate an individual’s medical insurance costs based on the five variables passed into it. Let’s test this out!\n",
    "\n",
    "Go to the section of code that estimates Maria’s insurance cost.\n",
    "\n",
    "Rename insurance_cost as maria_insurance_cost and set it equal to calculate_insurance_cost() with the appropriate values for Maria as arguments.\n",
    "\n",
    "Now, remove the print statement for Maria since our function will take care of printing the estimated cost for us.\n",
    "\n",
    "Additionally, remove the five lines of code defining the initial variables for Maria, as we are now passing in these values directly in the function call.\n",
    "\n",
    "Repeat for Omar"
   ]
  },
  {
   "cell_type": "code",
   "execution_count": 3,
   "id": "b0c9605a",
   "metadata": {},
   "outputs": [
    {
     "name": "stdout",
     "output_type": "stream",
     "text": [
      "The estimated insurance cost for this person is 5469.0 dollars.\n",
      "The estimated insurance cost for this person is 28336.0 dollars.\n"
     ]
    }
   ],
   "source": [
    "maria_insurance_cost = calculate_insurance_cost(28, 0, 26.2, 3, 0)\n",
    "omar_insurance_cost = calculate_insurance_cost(35, 1, 22.2, 0, 1)"
   ]
  },
  {
   "cell_type": "markdown",
   "id": "b8fa5fb6",
   "metadata": {},
   "source": [
    "In the output terminal, notice that it says \"The estimated insurance cost for this person is...\" but it does not specify the actual name of the person.\n",
    "\n",
    "To fix this, begin by adding an additional parameter called name to the function definition.\n",
    "\n",
    "Next, modify the print statement in the function so that it includes the new name parameter, replacing \"this person\" with the actual name of the person.\n",
    "\n",
    "We must also update our function calls, passing in the name variable as an argument.\n",
    "\n",
    "Update the function call for maria_insurance_cost, passing in name = \"Maria\" as an argument.\n",
    "\n",
    "Do the same for Omar, passing in name = \"Omar\"."
   ]
  },
  {
   "cell_type": "code",
   "execution_count": 4,
   "id": "051647ad",
   "metadata": {},
   "outputs": [
    {
     "name": "stdout",
     "output_type": "stream",
     "text": [
      "The estimated insurance cost for Maria is 5469.0 dollars.\n",
      "The estimated insurance cost for Omar is 28336.0 dollars.\n"
     ]
    }
   ],
   "source": [
    "def calculate_insurance_cost(name, age, sex, bmi, num_of_children, smoker):\n",
    "  estimated_cost = 250*age - 128*sex + 370*bmi + 425*num_of_children + 24000*smoker - 12500\n",
    "  print(\"The estimated insurance cost for {} is {} dollars.\".format(name, estimated_cost))\n",
    "  return estimated_cost\n",
    "\n",
    "maria_insurance_cost = calculate_insurance_cost(\"Maria\", 28, 0, 26.2, 3, 0)\n",
    "omar_insurance_cost = calculate_insurance_cost(\"Omar\", 35, 1, 22.2, 0, 1)"
   ]
  },
  {
   "cell_type": "markdown",
   "id": "68308166",
   "metadata": {},
   "source": [
    "EXTRA\n",
    "\n",
    "Create a second function to calculate the difference between the insurance costs (given as inputs) of any two individuals and print a statement saying: \"The difference in insurance cost is xxx dollars.\""
   ]
  },
  {
   "cell_type": "code",
   "execution_count": 5,
   "id": "700bd6ec",
   "metadata": {},
   "outputs": [
    {
     "name": "stdout",
     "output_type": "stream",
     "text": [
      "The difference in insurance cost is -22867.0 dollars.\n"
     ]
    }
   ],
   "source": [
    "def difference_in_insurance (estimated_cost1, estimated_cost2):\n",
    "  difference = estimated_cost1 - estimated_cost2\n",
    "  #si voldriem que el num fos sempre positiu abs(estimated_cost1 - estimated_cost2)\n",
    "  return \"The difference in insurance cost is {} dollars.\".format(difference)\n",
    "\n",
    "difference_maria_omar = difference_in_insurance(5469.0, 28336.0)\n",
    "print(difference_maria_omar)"
   ]
  },
  {
   "cell_type": "code",
   "execution_count": null,
   "id": "d31e2d2f",
   "metadata": {},
   "outputs": [],
   "source": []
  }
 ],
 "metadata": {
  "kernelspec": {
   "display_name": "Python 3",
   "language": "python",
   "name": "python3"
  },
  "language_info": {
   "codemirror_mode": {
    "name": "ipython",
    "version": 3
   },
   "file_extension": ".py",
   "mimetype": "text/x-python",
   "name": "python",
   "nbconvert_exporter": "python",
   "pygments_lexer": "ipython3",
   "version": "3.8.8"
  }
 },
 "nbformat": 4,
 "nbformat_minor": 5
}
