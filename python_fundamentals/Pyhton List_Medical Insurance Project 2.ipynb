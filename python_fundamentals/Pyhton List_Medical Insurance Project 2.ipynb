{
 "cells": [
  {
   "cell_type": "markdown",
   "id": "e5bdc86d-47c7-484c-9f6f-3a97164697ac",
   "metadata": {},
   "source": [
    "## Exploring List Data\n",
    "\n",
    "he list names stores the names of ten individuals, and insurance_costs stores their medical insurance costs.\n",
    "\n",
    "Let’s add additional data to these lists:\n",
    "\n",
    "Append a new individual, \"Priscilla\", to names.\n",
    "Append her insurance cost, 8320.0, to insurance_costs."
   ]
  },
  {
   "cell_type": "code",
   "execution_count": 1,
   "id": "e433a98b-0d66-459c-ba5c-480e25ed790d",
   "metadata": {},
   "outputs": [],
   "source": [
    "names = [\"Mohamed\", \"Sara\", \"Xia\", \"Paul\", \"Valentina\", \"Jide\", \"Aaron\", \"Emily\", \"Nikita\", \"Paul\"]\n",
    "insurance_costs = [13262.0, 4816.0, 6839.0, 5054.0, 14724.0, 5360.0, 7640.0, 6072.0, 2750.0, 12064.0]\n",
    "\n",
    "names.append(\"Priscilla\")\n",
    "insurance_costs.append(8320.0)"
   ]
  },
  {
   "cell_type": "markdown",
   "id": "2d41e0d0-f7bc-4cf0-9cc9-3dfec305912b",
   "metadata": {},
   "source": [
    "Currently, the names and insurance_costs lists are separate, but we want each insurance cost to be paired with a name.\n",
    "Create a new variable called medical_records that combines insurance_costs and names into a list using the zip() function.\n",
    "The list should have the following structure:\n",
    "\n",
    "[(cost_0, name_0), (cost_1, name_1), (cost_2, name_2), ...]"
   ]
  },
  {
   "cell_type": "code",
   "execution_count": 2,
   "id": "fef858f1-2023-4547-bd08-808cf68efe8f",
   "metadata": {},
   "outputs": [],
   "source": [
    "medical_records = list(zip(insurance_costs, names))"
   ]
  },
  {
   "cell_type": "markdown",
   "id": "0fae30f4-2206-4546-8806-192f92241776",
   "metadata": {},
   "source": [
    "Let’s explore our medical data.\n",
    "We want to see how many medical records we’re dealing with. Create a variable called num_medical_records that stores the length of medical_records.\n",
    "Print num_medical_records with the following message:\n",
    "\n",
    "\"There are {number of medical records} medical records.\""
   ]
  },
  {
   "cell_type": "code",
   "execution_count": 3,
   "id": "b58453ec-5deb-46db-8943-26b5bef8d2d3",
   "metadata": {},
   "outputs": [
    {
     "name": "stdout",
     "output_type": "stream",
     "text": [
      "There are 11 medical records.\n"
     ]
    }
   ],
   "source": [
    "num_medical_records = len(medical_records)\n",
    "print(\"There are {} medical records.\".format(num_medical_records))"
   ]
  },
  {
   "cell_type": "markdown",
   "id": "772bf2f9-fff7-4e06-9d2e-924e785ae423",
   "metadata": {},
   "source": [
    "## Selecting List Elements\n",
    "\n",
    "Select the first medical record in medical_records, and save it to a variable called first_medical_record.\n",
    "Print first_medical_record with the following message:\n",
    "\n",
    "\"Here is the first medical record: {first medical record}\""
   ]
  },
  {
   "cell_type": "code",
   "execution_count": 4,
   "id": "d38b0973-9feb-469f-8fb2-341cfb069253",
   "metadata": {},
   "outputs": [
    {
     "name": "stdout",
     "output_type": "stream",
     "text": [
      "Here is the first medical record: (13262.0, 'Mohamed').\n"
     ]
    }
   ],
   "source": [
    "first_medical_record = medical_records[0]\n",
    "print(\"Here is the first medical record: {}.\".format(first_medical_record))"
   ]
  },
  {
   "cell_type": "markdown",
   "id": "c74945f3-9476-411a-9289-815f1b152398",
   "metadata": {},
   "source": [
    "## Sorting List\n",
    "\n",
    "Sort medical_records so that the individuals with the lowest insurance costs appear at the start of the list.\n",
    "Print the sorted medical_records with the following message:\n",
    "\n",
    "\"Here are the medical records sorted by insurance cost: {sorted list}\""
   ]
  },
  {
   "cell_type": "code",
   "execution_count": 6,
   "id": "8d8f6641-9ade-4ea2-8117-4079b08137d5",
   "metadata": {},
   "outputs": [
    {
     "name": "stdout",
     "output_type": "stream",
     "text": [
      "Here are the medical records sorted by insurance cost: [(2750.0, 'Nikita'), (4816.0, 'Sara'), (5054.0, 'Paul'), (5360.0, 'Jide'), (6072.0, 'Emily'), (6839.0, 'Xia'), (7640.0, 'Aaron'), (8320.0, 'Priscilla'), (12064.0, 'Paul'), (13262.0, 'Mohamed'), (14724.0, 'Valentina')]\n"
     ]
    }
   ],
   "source": [
    "sorted_medical_records = sorted(medical_records)\n",
    "print(\"Here are the medical records sorted by insurance cost: {}\".format(sorted_medical_records))"
   ]
  },
  {
   "cell_type": "markdown",
   "id": "ca2abada-a477-4efe-874f-80bff93c988a",
   "metadata": {},
   "source": [
    "## Slicing List\n",
    "\n",
    "Let’s look at the three cheapest insurance costs in our medical records.\n",
    "Slice the medical_records list, and store the three cheapest insurance costs in a list called cheapest_three.\n",
    "Print cheapest_three with the following message:\n",
    "\n",
    "\"Here are the three cheapest insurance costs in our medical records: {cheapest three}\""
   ]
  },
  {
   "cell_type": "code",
   "execution_count": 8,
   "id": "391ceab5-52b0-4985-b675-9f20f3b226aa",
   "metadata": {},
   "outputs": [
    {
     "name": "stdout",
     "output_type": "stream",
     "text": [
      "Here are the three cheapest insurance costs in our medical records:[(2750.0, 'Nikita'), (4816.0, 'Sara'), (5054.0, 'Paul')]\n"
     ]
    }
   ],
   "source": [
    "cheapest_three = sorted_medical_records[:3]\n",
    "print(\"Here are the three cheapest insurance costs in our medical records:{}\".format(cheapest_three))"
   ]
  },
  {
   "cell_type": "markdown",
   "id": "5ef1529d-9827-40f0-a3b8-879a51a1f71b",
   "metadata": {},
   "source": [
    "Let’s look at the three most expensive insurance costs in our medical records.\n",
    "Slice the medical_records list, and store the three most expensive insurance costs in a list called priciest_three.\n",
    "Print priciest_three with the following message:\n",
    "\n",
    "\"Here are the three most expensive insurance costs in our medical records: {priciest three}\""
   ]
  },
  {
   "cell_type": "code",
   "execution_count": 9,
   "id": "2a1e2f89-675f-47d7-8d75-a5213373bfe5",
   "metadata": {},
   "outputs": [
    {
     "name": "stdout",
     "output_type": "stream",
     "text": [
      "Here are the three most expensive insurance costs in our medical records:[(12064.0, 'Paul'), (13262.0, 'Mohamed'), (14724.0, 'Valentina')]\n"
     ]
    }
   ],
   "source": [
    "priciest_three = sorted_medical_records[-3:]\n",
    "print(\"Here are the three most expensive insurance costs in our medical records:{}\".format(priciest_three))"
   ]
  },
  {
   "cell_type": "markdown",
   "id": "9badf602-c8cd-4930-b856-01c1533d3fa2",
   "metadata": {},
   "source": [
    "## Counting Elements in a List\n",
    "\n",
    "Some individuals in our medical records have the same name. For example, the name “Paul” shows up twice.\n",
    "Count the number of occurrences of “Paul” in the names list, and store the result in a variable called occurrences_paul.\n",
    "Print occurrences_paul with the following message:\n",
    "\n",
    "\"There are {occurrences Paul} individuals with the name Paul in our medical records.\""
   ]
  },
  {
   "cell_type": "code",
   "execution_count": 10,
   "id": "838761bb-5eb7-48d8-a64b-bc27d22bd814",
   "metadata": {},
   "outputs": [
    {
     "name": "stdout",
     "output_type": "stream",
     "text": [
      "There are 2 individuals with the name Paul in our medical records.\n"
     ]
    }
   ],
   "source": [
    "ocurrences_paul = names.count(\"Paul\")\n",
    "print(\"There are {} individuals with the name Paul in our medical records.\".format(ocurrences_paul))"
   ]
  },
  {
   "cell_type": "markdown",
   "id": "9e846569-a140-4589-a669-10d552d794ee",
   "metadata": {},
   "source": [
    "## Extra Practice\n",
    "\n",
    "If you’d like additional practice on lists, here are some ways you might extend this project:\n",
    "\n",
    "- Sort the medical records alphabetically by name. You’ll have to create a new list using zip() to do this.\n",
    "- Select the medical records starting at index 3 and ending at index 7 and save it in a variable called middle_five_records."
   ]
  },
  {
   "cell_type": "code",
   "execution_count": 11,
   "id": "1cdced9c-a9d2-438e-a69a-1bc597892a7c",
   "metadata": {},
   "outputs": [
    {
     "name": "stdout",
     "output_type": "stream",
     "text": [
      "[('Aaron', 7640.0), ('Emily', 6072.0), ('Jide', 5360.0), ('Mohamed', 13262.0), ('Nikita', 2750.0), ('Paul', 5054.0), ('Paul', 12064.0), ('Priscilla', 8320.0), ('Sara', 4816.0), ('Valentina', 14724.0), ('Xia', 6839.0)]\n",
      "[('Mohamed', 13262.0), ('Nikita', 2750.0), ('Paul', 5054.0), ('Paul', 12064.0), ('Priscilla', 8320.0)]\n"
     ]
    }
   ],
   "source": [
    "medical_insurance_name = sorted(list(zip(names, insurance_costs)))\n",
    "print(medical_insurance_name)\n",
    "middle_five_records = medical_insurance_name[3:8]\n",
    "print(middle_five_records)"
   ]
  },
  {
   "cell_type": "code",
   "execution_count": null,
   "id": "3ddc9687-34e3-40ae-adf1-a68e636bab32",
   "metadata": {},
   "outputs": [],
   "source": []
  }
 ],
 "metadata": {
  "kernelspec": {
   "display_name": "Python 3",
   "language": "python",
   "name": "python3"
  },
  "language_info": {
   "codemirror_mode": {
    "name": "ipython",
    "version": 3
   },
   "file_extension": ".py",
   "mimetype": "text/x-python",
   "name": "python",
   "nbconvert_exporter": "python",
   "pygments_lexer": "ipython3",
   "version": "3.8.8"
  }
 },
 "nbformat": 4,
 "nbformat_minor": 5
}
