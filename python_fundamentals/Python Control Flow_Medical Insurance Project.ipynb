{
 "cells": [
  {
   "cell_type": "markdown",
   "id": "711d0cf5",
   "metadata": {},
   "source": [
    "First, take a look at the code in script.py.\n",
    "\n",
    "The function estimate_insurance_cost() estimates the medical insurance cost for an individual, based on five variables:\n",
    "\n",
    "age: age of the individual in years\n",
    "sex: 0 for female, 1 if male\n",
    "bmi: individual’s body mass index\n",
    "num_of_children: number of children the individual has\n",
    "smoker: 0 for a non-smoker, 1 for a smoker\n",
    "These variables are used in the following formula to estimate an individual’s insurance cost:\n",
    "\n",
    "insurance\\_cost = 250*age - 128*sex + 370*bmi + 425*num\\_of\\_children + 24000*smoker - 12500insurance_cost=250∗age−128∗sex+370∗bmi+425∗num_of_children+24000∗smoker−12500\n",
    "\n",
    "Click “Save” to see the estimated medical insurance cost for Keanu, a 29 year-old male smoker with three children and a BMI of 26.2."
   ]
  },
  {
   "cell_type": "code",
   "execution_count": null,
   "id": "c43ad969",
   "metadata": {},
   "outputs": [],
   "source": [
    "def estimate_insurance_cost(name, age, sex, bmi, num_of_children, smoker):\n",
    "  estimated_cost = 250*age - 128*sex + 370*bmi + 425*num_of_children + 24000*smoker - 12500\n",
    "  print(name + \"'s Estimated Insurance Cost: \" + str(estimated_cost) + \" dollars.\")\n",
    "  return estimated_cost\n",
    " \n",
    "# Estimate Keanu's insurance cost\n",
    "keanu_insurance_cost = estimate_insurance_cost(name = 'Keanu', age = 29, sex = 1, bmi = 26.2, num_of_children = 3, smoker = 1)"
   ]
  },
  {
   "cell_type": "markdown",
   "id": "81aaa318",
   "metadata": {},
   "source": [
    "In general, insurance costs are higher for smokers as well as people with a higher BMI. We can use data from the variables smoker and bmi to provide advice on how to lower insurance costs.\n",
    "\n",
    "We’ll first create a function that analyzes an individual’s smoking status.\n",
    "\n",
    "At the top of your code, define a function called analyze_smoker() that takes an input smoker_status.\n",
    "\n",
    "Inside of the analyze_smoker() function, replace the print statement you wrote in the previous step with an if/else statement that does the following:\n",
    "\n",
    "1. If smoker_status is equal to 1, print \"To lower your cost, you should consider quitting smoking.\"\n",
    "2. Otherwise, print \"Smoking is not an issue for you.\""
   ]
  },
  {
   "cell_type": "code",
   "execution_count": 9,
   "id": "dfb5dd01",
   "metadata": {},
   "outputs": [],
   "source": [
    "def analyze_smoker(smoker_status):\n",
    "  if smoker_status == 1:\n",
    "    return \"To lower your cost, you should consider quitting smoking.\"\n",
    "  else:\n",
    "    return \"Smoking is not an issue for you.\""
   ]
  },
  {
   "cell_type": "markdown",
   "id": "6746e1ae",
   "metadata": {},
   "source": [
    "Great job – you’ve created a simple function that notifies an individual if their insurance cost can be lowered by altering their smoking habits.\n",
    "\n",
    "Next, create a function that analyzes an individual’s BMI (body mass index).\n",
    "\n",
    "Below your analyze_smoker() function, define a function called analyze_bmi() that takes an input bmi_value.\n",
    "Inside of this function we’ll want to notify an individual whether their BMI can be improved, printing a personalized message based on the bmi_value passed in.\n",
    "\n",
    "According to the WHO (World Health Organization), here are the nutritional statuses for various BMI ranges:\n",
    "\n",
    "BMI > 30: obese\n",
    "BMI >= 25 and bmi <= 30: overweight\n",
    "BMI >= 18.5 and bmi < 25: normal weight\n",
    "BMI < 18.5: underweight\n",
    "\n",
    "Remove the print statement from the previous step and write code using if, elif and else statements representing each of the following cases:\n",
    "\n",
    "bmi_value > 30: “Your BMI is in the obese range. To lower your cost, you should significantly lower your BMI.”\n",
    "bmi_value >= 25 and bmi_value <= 30: “Your BMI is in the overweight range. To lower your cost, you should lower your BMI.”\n",
    "bmi_value >= 18.5 and bmi_value < 25: “Your BMI is in a healthy range.”\n",
    "bmi_value < 18.5: “Your BMI is in the underweight range. Increasing your BMI will not help lower your cost, but it will help improve your health.”"
   ]
  },
  {
   "cell_type": "code",
   "execution_count": 4,
   "id": "7d073830",
   "metadata": {},
   "outputs": [],
   "source": [
    "def analyze_bmi(bmi_value):\n",
    "  if bmi_value > 30:\n",
    "    return \"Your BMI is in the obese range. To lower your cost, you should significantly lower your BMI.\"\n",
    "  elif bmi_value in range (25, 31): #elif bmi_value >= 25:\n",
    "    return \"Your BMI is in the overweight range. To lower your cost, you should lower your BMI.\"\n",
    "  elif bmi_value in range (18, 25): #elif bmi_value >= 18:\n",
    "    return \"Your BMI is in a healthy range.\"\n",
    "  else:\n",
    "    return \"Your BMI is in the underweight range. Increasing your BMI will not help lower your cost,\\\n",
    "    but it will help improve your health.\""
   ]
  },
  {
   "cell_type": "markdown",
   "id": "0e76bb2d",
   "metadata": {},
   "source": [
    "Now that we’ve written the analyze_smoker() function, let’s make use of it.\n",
    "\n",
    "In the estimate_insurance_cost() function, go to the line of code that prints the estimated insurance cost. On the next line, make a function call to analyze_smoker(), passing in the smoker variable as an argument.\n",
    "\n",
    "Under the line of code that calls the analyze_smoker() function, make a function call to analyze_bmi(), passing in the bmi variable as an argument."
   ]
  },
  {
   "cell_type": "code",
   "execution_count": 7,
   "id": "5f5d20c0",
   "metadata": {},
   "outputs": [
    {
     "name": "stdout",
     "output_type": "stream",
     "text": [
      "Keanu's Estimated Insurance Cost: 29591.0 dollars.\n",
      "To lower your cost, you should consider quitting smoking.\n",
      "Your BMI is in the underweight range. Increasing your BMI will not help lower your cost,    but it will help improve your health.\n"
     ]
    }
   ],
   "source": [
    "def estimate_insurance_cost(name, age, sex, bmi, num_of_children, smoker):\n",
    "  estimated_cost = 250*age - 128*sex + 370*bmi + 425*num_of_children + 24000*smoker - 12500\n",
    "  print(name + \"'s Estimated Insurance Cost: \" + str(estimated_cost) + \" dollars.\")\n",
    "  print(analyze_smoker(smoker))\n",
    "  print(analyze_bmi(bmi))\n",
    "  return estimated_cost\n",
    "\n",
    "keanu_insurance_cost = estimate_insurance_cost(name = 'Keanu', age = 29, sex = 1, bmi = 26.2, num_of_children = 3, smoker = 1)"
   ]
  },
  {
   "cell_type": "code",
   "execution_count": 10,
   "id": "e93bd534",
   "metadata": {},
   "outputs": [
    {
     "name": "stdout",
     "output_type": "stream",
     "text": [
      "Angels's Estimated Insurance Cost: 4140 dollars.\n",
      "Smoking is not an issue for you.\n",
      "Your BMI is in a healthy range.\n"
     ]
    }
   ],
   "source": [
    "angels_insurance_cost = estimate_insurance_cost(\"Angels\", 34, 0, 22, 0, 0)"
   ]
  },
  {
   "cell_type": "code",
   "execution_count": null,
   "id": "bca84e22",
   "metadata": {},
   "outputs": [],
   "source": []
  }
 ],
 "metadata": {
  "kernelspec": {
   "display_name": "Python 3",
   "language": "python",
   "name": "python3"
  },
  "language_info": {
   "codemirror_mode": {
    "name": "ipython",
    "version": 3
   },
   "file_extension": ".py",
   "mimetype": "text/x-python",
   "name": "python",
   "nbconvert_exporter": "python",
   "pygments_lexer": "ipython3",
   "version": "3.8.8"
  }
 },
 "nbformat": 4,
 "nbformat_minor": 5
}
