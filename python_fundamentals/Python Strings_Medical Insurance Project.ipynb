{
 "cells": [
  {
   "cell_type": "markdown",
   "id": "78ef0acb-1546-4c39-a4f9-02d11e029d01",
   "metadata": {},
   "source": [
    "### Working with strings\n",
    "\n",
    "The string medical_data stores the medical records for ten individuals. Each record is separated by a ; and contains the name, age, BMI (body mass index), and insurance cost for an individual, in that order.\n",
    "\n",
    "We want the insurance costs to be represented in US dollars. Replace all instances of # in medical_data with $. Store the result in a variable called updated_medical_data.\n",
    "Print updated_medical_data."
   ]
  },
  {
   "cell_type": "code",
   "execution_count": 16,
   "id": "0fd001fa-8a7d-4176-a2ee-bbb3ff488116",
   "metadata": {},
   "outputs": [
    {
     "name": "stdout",
     "output_type": "stream",
     "text": [
      "Marina Allison   ,27   ,   31.1 , \n",
      "$7010.0   ;Markus Valdez   ,   30, \n",
      "22.4,   $4050.0 ;Connie Ballard ,43 \n",
      ",   25.3 , $12060.0 ;Darnell Weber   \n",
      ",   35   , 20.6   , $7500.0;\n",
      "Sylvie Charles   ,22, 22.1 \n",
      ",$3022.0   ;   Vinay Padilla,24,   \n",
      "26.9 ,$4620.0 ;Meredith Santiago, 51   , \n",
      "29.3 ,$16330.0;   Andre Mccarty, \n",
      "19,22.7 , $2900.0 ; \n",
      "Lorena Hodson ,65, 33.1 , $19370.0; \n",
      "Isaac Vu ,34, 24.8,   $7045.0\n"
     ]
    }
   ],
   "source": [
    "medical_data = \\\n",
    "\"\"\"Marina Allison   ,27   ,   31.1 , \n",
    "#7010.0   ;Markus Valdez   ,   30, \n",
    "22.4,   #4050.0 ;Connie Ballard ,43 \n",
    ",   25.3 , #12060.0 ;Darnell Weber   \n",
    ",   35   , 20.6   , #7500.0;\n",
    "Sylvie Charles   ,22, 22.1 \n",
    ",#3022.0   ;   Vinay Padilla,24,   \n",
    "26.9 ,#4620.0 ;Meredith Santiago, 51   , \n",
    "29.3 ,#16330.0;   Andre Mccarty, \n",
    "19,22.7 , #2900.0 ; \n",
    "Lorena Hodson ,65, 33.1 , #19370.0; \n",
    "Isaac Vu ,34, 24.8,   #7045.0\"\"\"\n",
    "\n",
    "# Add your code here\n",
    "updated_medical_data = medical_data.replace(\"#\", \"$\")\n",
    "print(updated_medical_data)"
   ]
  },
  {
   "cell_type": "markdown",
   "id": "f51c0987-3413-4a03-aaf0-a012573483b3",
   "metadata": {},
   "source": [
    "We want to calculate the number of medical records in our data. Create a variable called num_records and initialize it at 0.\n",
    "\n",
    "Next, write a for loop to iterate through the updated_medical_data string. Inside of the loop, add 1 to num_records when the current character is equal to $.\n",
    "\n",
    "Outside of the loop, print num_records with the following message:\n",
    "\"There are {num_records} medical records in the data.\""
   ]
  },
  {
   "cell_type": "code",
   "execution_count": 17,
   "id": "584b91e3-2927-4d97-9c86-7d1a7e48eefe",
   "metadata": {},
   "outputs": [
    {
     "name": "stdout",
     "output_type": "stream",
     "text": [
      "There are 10 medical records in the data\n"
     ]
    }
   ],
   "source": [
    "num_records = 0\n",
    "for char in updated_medical_data:\n",
    "  if char == \"$\":\n",
    "    num_records += 1\n",
    "print(\"There are {} medical records in the data\".format(num_records))"
   ]
  },
  {
   "cell_type": "markdown",
   "id": "c5ea8924-5462-4602-980e-37316bfb1248",
   "metadata": {},
   "source": [
    "### Splitting strings\n",
    "\n",
    "The medical data in its current form is difficult to analyze. An essential job for a data scientist is to clean up data so that it’s easy to work with.\n",
    "Let’s start off by splitting the updated_medical_data string into a list of each medical record. Remember that each medical record is separated by a ; in the string.\n",
    "Store the result in a variable called medical_data_split"
   ]
  },
  {
   "cell_type": "code",
   "execution_count": 18,
   "id": "34304b7f-726c-45b8-b256-b2c3542e4fd2",
   "metadata": {},
   "outputs": [
    {
     "name": "stdout",
     "output_type": "stream",
     "text": [
      "['Marina Allison   ,27   ,   31.1 , \\n$7010.0   ', 'Markus Valdez   ,   30, \\n22.4,   $4050.0 ', 'Connie Ballard ,43 \\n,   25.3 , $12060.0 ', 'Darnell Weber   \\n,   35   , 20.6   , $7500.0', '\\nSylvie Charles   ,22, 22.1 \\n,$3022.0   ', '   Vinay Padilla,24,   \\n26.9 ,$4620.0 ', 'Meredith Santiago, 51   , \\n29.3 ,$16330.0', '   Andre Mccarty, \\n19,22.7 , $2900.0 ', ' \\nLorena Hodson ,65, 33.1 , $19370.0', ' \\nIsaac Vu ,34, 24.8,   $7045.0']\n"
     ]
    }
   ],
   "source": [
    "medical_data_split = updated_medical_data.split(\";\")\n",
    "print(medical_data_split)"
   ]
  },
  {
   "cell_type": "markdown",
   "id": "b2b2b158-594c-4c81-bbf3-fd267d5bf6de",
   "metadata": {},
   "source": [
    "Our data is now stored in a list, but it is still hard to read. Let’s split each medical record into its own list.\n",
    "First, define an empty list called medical_records.\n",
    "\n",
    "Next, iterate through medical_data_split and for each record, split the string after each comma (,) and append the split string to medical_records.\n",
    "Print medical_records after the loop."
   ]
  },
  {
   "cell_type": "code",
   "execution_count": 19,
   "id": "cedb7017-9853-4b2f-a4b1-cccd1059bee2",
   "metadata": {},
   "outputs": [
    {
     "name": "stdout",
     "output_type": "stream",
     "text": [
      "[['Marina Allison   ', '27   ', '   31.1 ', ' \\n$7010.0   '], ['Markus Valdez   ', '   30', ' \\n22.4', '   $4050.0 '], ['Connie Ballard ', '43 \\n', '   25.3 ', ' $12060.0 '], ['Darnell Weber   \\n', '   35   ', ' 20.6   ', ' $7500.0'], ['\\nSylvie Charles   ', '22', ' 22.1 \\n', '$3022.0   '], ['   Vinay Padilla', '24', '   \\n26.9 ', '$4620.0 '], ['Meredith Santiago', ' 51   ', ' \\n29.3 ', '$16330.0'], ['   Andre Mccarty', ' \\n19', '22.7 ', ' $2900.0 '], [' \\nLorena Hodson ', '65', ' 33.1 ', ' $19370.0'], [' \\nIsaac Vu ', '34', ' 24.8', '   $7045.0']]\n"
     ]
    }
   ],
   "source": [
    "medical_data_split = updated_medical_data.split(\";\")\n",
    "medical_records = []\n",
    "for records in medical_data_split:\n",
    "  medical_records.append(records.split(\",\"))\n",
    "print(medical_records)"
   ]
  },
  {
   "cell_type": "markdown",
   "id": "0318cc76-a172-49cb-96be-2454d4f92076",
   "metadata": {},
   "source": [
    "### Cleaning data\n",
    "\n",
    "Our data is now slightly more readable. However, it is not properly formatted – it contains unnecessary whitespace.\n",
    "To fix this, let’s start by creating an empty list called medical_records_clean.\n",
    "\n",
    "Next, use a for loop to iterate through medical_records. Inside of the loop, create an empty list called record_clean. We’ll use this list to store a formatted version of each medical record.\n",
    "\n",
    "After the record_clean variable, create a nested for loop that goes through each record:\n",
    "\"for item in record:\"\n",
    "Inside of this loop, append item.strip() to record_clean to remove any whitespace from the string.\n",
    "\n",
    "Finally, we need to add each cleaned up record to medical_records_clean. Outside of the nested for loop, append record_clean to medical_records_clean."
   ]
  },
  {
   "cell_type": "code",
   "execution_count": 20,
   "id": "8d159da1-f69e-4fe3-b271-6bb5fd8e99f2",
   "metadata": {},
   "outputs": [
    {
     "name": "stdout",
     "output_type": "stream",
     "text": [
      "[['Marina Allison', '27', '31.1', '$7010.0'], ['Markus Valdez', '30', '22.4', '$4050.0'], ['Connie Ballard', '43', '25.3', '$12060.0'], ['Darnell Weber', '35', '20.6', '$7500.0'], ['Sylvie Charles', '22', '22.1', '$3022.0'], ['Vinay Padilla', '24', '26.9', '$4620.0'], ['Meredith Santiago', '51', '29.3', '$16330.0'], ['Andre Mccarty', '19', '22.7', '$2900.0'], ['Lorena Hodson', '65', '33.1', '$19370.0'], ['Isaac Vu', '34', '24.8', '$7045.0']]\n"
     ]
    }
   ],
   "source": [
    "medical_records_clean = []\n",
    "for record in medical_records:\n",
    "  record_clean = []\n",
    "  for data in record:\n",
    "    record_clean.append(data.strip())\n",
    "  medical_records_clean.append(record_clean)\n",
    "print(medical_records_clean)"
   ]
  },
  {
   "cell_type": "markdown",
   "id": "5b1ec259-bae3-457e-982b-77c4bdb24210",
   "metadata": {},
   "source": [
    "### Analyzing data\n",
    "\n",
    "Our data is now clean and ready for analysis.\n",
    "For example, to print out the names of each of the ten individuals, we can use the following loop:\n",
    "\n",
    "\"for record in medical_records_clean:  \n",
    "  print(record[0])\"\n",
    "  \n",
    "Add this loop to your code and click “Save.”"
   ]
  },
  {
   "cell_type": "code",
   "execution_count": 21,
   "id": "dc844c20-ec90-43d0-8975-8502bbf31b77",
   "metadata": {},
   "outputs": [
    {
     "name": "stdout",
     "output_type": "stream",
     "text": [
      "Marina Allison\n",
      "Markus Valdez\n",
      "Connie Ballard\n",
      "Darnell Weber\n",
      "Sylvie Charles\n",
      "Vinay Padilla\n",
      "Meredith Santiago\n",
      "Andre Mccarty\n",
      "Lorena Hodson\n",
      "Isaac Vu\n"
     ]
    }
   ],
   "source": [
    "for record in medical_records_clean:\n",
    "  print(record[0])"
   ]
  },
  {
   "cell_type": "markdown",
   "id": "57343257-2bac-4de3-b2d7-0a4725cf5a40",
   "metadata": {},
   "source": [
    "You want all of the names in the medical records to be in uppercase characters.\n",
    "In the for loop, update records[0] before the print statement so that all of the characters are uppercase."
   ]
  },
  {
   "cell_type": "code",
   "execution_count": 22,
   "id": "ac7c1e94-2d9d-4c80-8138-2b55807f6302",
   "metadata": {},
   "outputs": [
    {
     "name": "stdout",
     "output_type": "stream",
     "text": [
      "MARINA ALLISON\n",
      "MARKUS VALDEZ\n",
      "CONNIE BALLARD\n",
      "DARNELL WEBER\n",
      "SYLVIE CHARLES\n",
      "VINAY PADILLA\n",
      "MEREDITH SANTIAGO\n",
      "ANDRE MCCARTY\n",
      "LORENA HODSON\n",
      "ISAAC VU\n"
     ]
    }
   ],
   "source": [
    "for record in medical_records_clean:\n",
    "    record[0] = record[0].upper()\n",
    "    print(record[0])"
   ]
  },
  {
   "cell_type": "markdown",
   "id": "9683d0e5-88c7-416b-abd2-b9a330e6f966",
   "metadata": {},
   "source": [
    "Let’s store each name, age, BMI, and insurance cost in separate lists.\n",
    "To start, create four empty lists:\n",
    "- names\n",
    "- ages\n",
    "- bmis\n",
    "- insurance_costs\n",
    "\n",
    "Next, iterate through medical_records_clean and for each record:\n",
    "- Append the name to names.\n",
    "- Append the age to ages.\n",
    "- Append the BMI to bmis.\n",
    "- Append the insurance cost to insurance_costs.\n",
    "\n",
    "Print names, ages, bmis, and insurance_costs outside of the loop."
   ]
  },
  {
   "cell_type": "code",
   "execution_count": 23,
   "id": "3c19ac4c-8ba8-42ce-ada8-86b30f3e9d8f",
   "metadata": {},
   "outputs": [
    {
     "name": "stdout",
     "output_type": "stream",
     "text": [
      "['MARINA ALLISON', 'MARKUS VALDEZ', 'CONNIE BALLARD', 'DARNELL WEBER', 'SYLVIE CHARLES', 'VINAY PADILLA', 'MEREDITH SANTIAGO', 'ANDRE MCCARTY', 'LORENA HODSON', 'ISAAC VU']\n",
      "['27', '30', '43', '35', '22', '24', '51', '19', '65', '34']\n",
      "['31.1', '22.4', '25.3', '20.6', '22.1', '26.9', '29.3', '22.7', '33.1', '24.8']\n",
      "['$7010.0', '$4050.0', '$12060.0', '$7500.0', '$3022.0', '$4620.0', '$16330.0', '$2900.0', '$19370.0', '$7045.0']\n"
     ]
    }
   ],
   "source": [
    "names = []\n",
    "ages = []\n",
    "bmis = []\n",
    "insurance_costs = []\n",
    "for record in medical_records_clean:\n",
    "  names.append(record[0])\n",
    "  ages.append(record[1])\n",
    "  bmis.append(record[2])\n",
    "  insurance_costs.append(record[3])\n",
    "\n",
    "print(names)\n",
    "print(ages)\n",
    "print(bmis)\n",
    "print(insurance_costs)"
   ]
  },
  {
   "cell_type": "markdown",
   "id": "e7a27651-8e9f-439c-87b3-9618a6118d91",
   "metadata": {},
   "source": [
    "Now that all of our data is in separate lists, we can easily perform analysis on that data. Let’s calculate the average BMI in our dataset.\n",
    "First, create a variable called total_bmi and set it equal to 0.\n",
    "\n",
    "Next, use a for loop to iterate through bmis and add each bmi to total_bmi.\n",
    "Remember to convert bmi to a float.\n",
    "\n",
    "After the for loop, create a variable called average_bmi that stores the total_bmi divided by the length of the bmis list. Print out average_bmi with the following message:\n",
    "\"Average BMI: {average_bmi}\""
   ]
  },
  {
   "cell_type": "code",
   "execution_count": 24,
   "id": "9ec5d693-d903-4ed6-9163-ef0b4369d8e2",
   "metadata": {},
   "outputs": [
    {
     "name": "stdout",
     "output_type": "stream",
     "text": [
      "Average BMI: 25.830000000000002\n"
     ]
    }
   ],
   "source": [
    "total_bmi = 0\n",
    "for bmi in bmis:\n",
    "  total_bmi += float(bmi)\n",
    "average_bmi = total_bmi / len(bmis)\n",
    "print(\"Average BMI: \" + str(average_bmi))"
   ]
  },
  {
   "cell_type": "markdown",
   "id": "5da7fb56-24ba-410b-bca4-05d955099c40",
   "metadata": {},
   "source": [
    "### Extra\n",
    "\n",
    "Write a for loop that outputs a string for each individual in the following format:\n",
    "\n",
    "\"Marina is 27 year olds with a BMI of 31.1 and an insurance cost of $7010.0.\n",
    "\n",
    "Markus is 30 years old with a BMI of 22.4 and an insurance cost of $4050.0\n",
    "\n",
    "...\n",
    "\n",
    "...\""
   ]
  },
  {
   "cell_type": "code",
   "execution_count": 26,
   "id": "03afb1a6-ad2f-4a99-b1fe-99cd7eb72623",
   "metadata": {},
   "outputs": [
    {
     "name": "stdout",
     "output_type": "stream",
     "text": [
      "Marina Allison is 27 years old with a BMI of 31.1 and an insurance cost of $7010.0\n",
      "Markus Valdez is 30 years old with a BMI of 22.4 and an insurance cost of $4050.0\n",
      "Connie Ballard is 43 years old with a BMI of 25.3 and an insurance cost of $12060.0\n",
      "Darnell Weber is 35 years old with a BMI of 20.6 and an insurance cost of $7500.0\n",
      "Sylvie Charles is 22 years old with a BMI of 22.1 and an insurance cost of $3022.0\n",
      "Vinay Padilla is 24 years old with a BMI of 26.9 and an insurance cost of $4620.0\n",
      "Meredith Santiago is 51 years old with a BMI of 29.3 and an insurance cost of $16330.0\n",
      "Andre Mccarty is 19 years old with a BMI of 22.7 and an insurance cost of $2900.0\n",
      "Lorena Hodson is 65 years old with a BMI of 33.1 and an insurance cost of $19370.0\n",
      "Isaac Vu is 34 years old with a BMI of 24.8 and an insurance cost of $7045.0\n"
     ]
    }
   ],
   "source": [
    "for records in medical_records_clean:\n",
    "  print(\"{} is {} years old with a BMI of {} and an insurance cost of {}\".format(records[0].title(), records[1], records[2], records[3]))"
   ]
  },
  {
   "cell_type": "code",
   "execution_count": null,
   "id": "0ee7404d-ec60-44b3-8800-e6b73e737bc4",
   "metadata": {},
   "outputs": [],
   "source": []
  }
 ],
 "metadata": {
  "kernelspec": {
   "display_name": "Python 3",
   "language": "python",
   "name": "python3"
  },
  "language_info": {
   "codemirror_mode": {
    "name": "ipython",
    "version": 3
   },
   "file_extension": ".py",
   "mimetype": "text/x-python",
   "name": "python",
   "nbconvert_exporter": "python",
   "pygments_lexer": "ipython3",
   "version": "3.8.8"
  }
 },
 "nbformat": 4,
 "nbformat_minor": 5
}
