{
 "cells": [
  {
   "cell_type": "markdown",
   "id": "80bf706a",
   "metadata": {},
   "source": [
    "### Table of Contents\n",
    "\n",
    "* [Goals](#Goals)\n",
    "* [Netflix](#Netflix)\n",
    "* [Data](#Data)\n",
    "    * [Loading the Data](#section1_1)\n",
    "    * [Data Information](#section1_2)\n",
    "* [Data Cleaning](#cleaning)\n",
    "* [Exploratory Data Analysis](#EDA)\n",
    "    * [Does Netflix focus more on TV shows or movies?](#section3_1)\n",
    "    * [Content by country](#section3_2)\n",
    "    * [Distribution of ratings](#section3_3)\n",
    "    * [Releases by month](#section3_4)\n",
    "    * [Content by genre](#section3_5)\n",
    "* [Future analysis](#conclusion)"
   ]
  },
  {
   "cell_type": "code",
   "execution_count": 116,
   "id": "07ec549d",
   "metadata": {},
   "outputs": [],
   "source": [
    "import pandas as pd\n",
    "import numpy as np\n",
    "import seaborn as sns\n",
    "from scipy.stats import chi2_contingency\n",
    "import matplotlib.pyplot as plt\n",
    "import datetime as dt"
   ]
  },
  {
   "cell_type": "markdown",
   "id": "3adbf879",
   "metadata": {},
   "source": [
    "### Goals <a class=\"anchor\" id=\"Goals\"></a>\n",
    "\n",
    "This notebook contains an analysis on some data netflix. The goal for this project was to do the following:\n",
    "* Get acquainted with the data\n",
    "* Clean the data so it is ready for analysis\n",
    "* Develop some questions for analysis\n",
    "* Analyze variables within the data to gain patterns and insights on these questions"
   ]
  },
  {
   "cell_type": "markdown",
   "id": "9603471c",
   "metadata": {},
   "source": [
    "### Netflix <a class=\"anchor\" id=\"Netflix\"></a>\n",
    "\n",
    "[Netflix](https://www.netflix.com/) is one of the most popular media and video streaming platforms. As of mid-2021, they have over 8000 movies or tv shows available on their platform and over 200M subscribers globally. "
   ]
  },
  {
   "cell_type": "markdown",
   "id": "a4e7513a",
   "metadata": {},
   "source": [
    "#### Netflix through the years\n",
    "\n",
    "<div>\n",
    "<img src=\"timeline.jpg\" width=\"700\" align=\"left\"/>\n",
    "</div>"
   ]
  },
  {
   "cell_type": "markdown",
   "id": "93d8adb6",
   "metadata": {},
   "source": [
    "To do this analysis, I will use the Netflix colours brand when possible\n",
    "https://www.onlinepalette.com/netflix/\n",
    "\n",
    "Using a consistent color palette is a great way to give your work credibility. It looks professional, and keeps the reader engaged."
   ]
  },
  {
   "cell_type": "code",
   "execution_count": 47,
   "id": "e7695cec",
   "metadata": {},
   "outputs": [
    {
     "data": {
      "image/png": "[encoded data removed]",
      "text/plain": [
       "<Figure size 360x72 with 1 Axes>"
      ]
     },
     "metadata": {
      "needs_background": "light"
     },
     "output_type": "display_data"
    }
   ],
   "source": [
    "netflix_palette = ['#FFFFFF', '#E50914', '#B00710', '#303030', '#000000']\n",
    "sns.palplot(netflix_palette)\n",
    "plt.title(\"Netflix brand palette \",fontfamily='serif',fontsize=15,y=1.2)\n",
    "plt.show()"
   ]
  },
  {
   "cell_type": "markdown",
   "id": "73f87f68",
   "metadata": {},
   "source": [
    "### Data <a class=\"anchor\" id=\"Data\"></a>\n",
    "\n",
    "The data for this project was downloaded from Kaggle:\n",
    "\n",
    "[https://www.kaggle.com/datasets/shivamb/netflix-shows](https://www.kaggle.com/datasets/shivamb/netflix-shows)\n",
    "\n",
    "Information regarding the features for the data are located in the `Column` section on the website.\n",
    "\n",
    "Some code inspiration for this analysis was sourced from these notebooks in Kaggle:\n",
    "- [Netflix Visualizations, Recommendation, EDA](https://www.kaggle.com/code/niharika41298/netflix-visualizations-recommendation-eda)\n",
    "- [Netflix Data Visualization](https://www.kaggle.com/code/joshuaswords/netflix-data-visualization)."
   ]
  },
  {
   "cell_type": "markdown",
   "id": "edeed780",
   "metadata": {},
   "source": [
    "#### Loading the Data <a class=\"anchor\" id=\"section1_2\"></a>\n",
    "The pandas library is used to import data from netflix.csv and preview the first five rows of the DataFrame."
   ]
  },
  {
   "cell_type": "code",
   "execution_count": 48,
   "id": "318743ee",
   "metadata": {
    "scrolled": false
   },
   "outputs": [
    {
     "data": {
      "text/html": [
       "<div>\n",
       "<style scoped>\n",
       "    .dataframe tbody tr th:only-of-type {\n",
       "        vertical-align: middle;\n",
       "    }\n",
       "\n",
       "    .dataframe tbody tr th {\n",
       "        vertical-align: top;\n",
       "    }\n",
       "\n",
       "    .dataframe thead th {\n",
       "        text-align: right;\n",
       "    }\n",
       "</style>\n",
       "<table border=\"1\" class=\"dataframe\">\n",
       "  <thead>\n",
       "    <tr style=\"text-align: right;\">\n",
       "      <th></th>\n",
       "      <th>show_id</th>\n",
       "      <th>type</th>\n",
       "      <th>title</th>\n",
       "      <th>director</th>\n",
       "      <th>cast</th>\n",
       "      <th>country</th>\n",
       "      <th>date_added</th>\n",
       "      <th>release_year</th>\n",
       "      <th>rating</th>\n",
       "      <th>duration</th>\n",
       "      <th>listed_in</th>\n",
       "      <th>description</th>\n",
       "    </tr>\n",
       "  </thead>\n",
       "  <tbody>\n",
       "    <tr>\n",
       "      <th>0</th>\n",
       "      <td>s1</td>\n",
       "      <td>Movie</td>\n",
       "      <td>Dick Johnson Is Dead</td>\n",
       "      <td>Kirsten Johnson</td>\n",
       "      <td>NaN</td>\n",
       "      <td>United States</td>\n",
       "      <td>September 25, 2021</td>\n",
       "      <td>2020</td>\n",
       "      <td>PG-13</td>\n",
       "      <td>90 min</td>\n",
       "      <td>Documentaries</td>\n",
       "      <td>As her father nears the end of his life, filmm...</td>\n",
       "    </tr>\n",
       "    <tr>\n",
       "      <th>1</th>\n",
       "      <td>s2</td>\n",
       "      <td>TV Show</td>\n",
       "      <td>Blood &amp; Water</td>\n",
       "      <td>NaN</td>\n",
       "      <td>Ama Qamata, Khosi Ngema, Gail Mabalane, Thaban...</td>\n",
       "      <td>South Africa</td>\n",
       "      <td>September 24, 2021</td>\n",
       "      <td>2021</td>\n",
       "      <td>TV-MA</td>\n",
       "      <td>2 Seasons</td>\n",
       "      <td>International TV Shows, TV Dramas, TV Mysteries</td>\n",
       "      <td>After crossing paths at a party, a Cape Town t...</td>\n",
       "    </tr>\n",
       "    <tr>\n",
       "      <th>2</th>\n",
       "      <td>s3</td>\n",
       "      <td>TV Show</td>\n",
       "      <td>Ganglands</td>\n",
       "      <td>Julien Leclercq</td>\n",
       "      <td>Sami Bouajila, Tracy Gotoas, Samuel Jouy, Nabi...</td>\n",
       "      <td>NaN</td>\n",
       "      <td>September 24, 2021</td>\n",
       "      <td>2021</td>\n",
       "      <td>TV-MA</td>\n",
       "      <td>1 Season</td>\n",
       "      <td>Crime TV Shows, International TV Shows, TV Act...</td>\n",
       "      <td>To protect his family from a powerful drug lor...</td>\n",
       "    </tr>\n",
       "    <tr>\n",
       "      <th>3</th>\n",
       "      <td>s4</td>\n",
       "      <td>TV Show</td>\n",
       "      <td>Jailbirds New Orleans</td>\n",
       "      <td>NaN</td>\n",
       "      <td>NaN</td>\n",
       "      <td>NaN</td>\n",
       "      <td>September 24, 2021</td>\n",
       "      <td>2021</td>\n",
       "      <td>TV-MA</td>\n",
       "      <td>1 Season</td>\n",
       "      <td>Docuseries, Reality TV</td>\n",
       "      <td>Feuds, flirtations and toilet talk go down amo...</td>\n",
       "    </tr>\n",
       "    <tr>\n",
       "      <th>4</th>\n",
       "      <td>s5</td>\n",
       "      <td>TV Show</td>\n",
       "      <td>Kota Factory</td>\n",
       "      <td>NaN</td>\n",
       "      <td>Mayur More, Jitendra Kumar, Ranjan Raj, Alam K...</td>\n",
       "      <td>India</td>\n",
       "      <td>September 24, 2021</td>\n",
       "      <td>2021</td>\n",
       "      <td>TV-MA</td>\n",
       "      <td>2 Seasons</td>\n",
       "      <td>International TV Shows, Romantic TV Shows, TV ...</td>\n",
       "      <td>In a city of coaching centers known to train I...</td>\n",
       "    </tr>\n",
       "  </tbody>\n",
       "</table>\n",
       "</div>"
      ],
      "text/plain": [
       "  show_id     type                  title         director  \\\n",
       "0      s1    Movie   Dick Johnson Is Dead  Kirsten Johnson   \n",
       "1      s2  TV Show          Blood & Water              NaN   \n",
       "2      s3  TV Show              Ganglands  Julien Leclercq   \n",
       "3      s4  TV Show  Jailbirds New Orleans              NaN   \n",
       "4      s5  TV Show           Kota Factory              NaN   \n",
       "\n",
       "                                                cast        country  \\\n",
       "0                                                NaN  United States   \n",
       "1  Ama Qamata, Khosi Ngema, Gail Mabalane, Thaban...   South Africa   \n",
       "2  Sami Bouajila, Tracy Gotoas, Samuel Jouy, Nabi...            NaN   \n",
       "3                                                NaN            NaN   \n",
       "4  Mayur More, Jitendra Kumar, Ranjan Raj, Alam K...          India   \n",
       "\n",
       "           date_added  release_year rating   duration  \\\n",
       "0  September 25, 2021          2020  PG-13     90 min   \n",
       "1  September 24, 2021          2021  TV-MA  2 Seasons   \n",
       "2  September 24, 2021          2021  TV-MA   1 Season   \n",
       "3  September 24, 2021          2021  TV-MA   1 Season   \n",
       "4  September 24, 2021          2021  TV-MA  2 Seasons   \n",
       "\n",
       "                                           listed_in  \\\n",
       "0                                      Documentaries   \n",
       "1    International TV Shows, TV Dramas, TV Mysteries   \n",
       "2  Crime TV Shows, International TV Shows, TV Act...   \n",
       "3                             Docuseries, Reality TV   \n",
       "4  International TV Shows, Romantic TV Shows, TV ...   \n",
       "\n",
       "                                         description  \n",
       "0  As her father nears the end of his life, filmm...  \n",
       "1  After crossing paths at a party, a Cape Town t...  \n",
       "2  To protect his family from a powerful drug lor...  \n",
       "3  Feuds, flirtations and toilet talk go down amo...  \n",
       "4  In a city of coaching centers known to train I...  "
      ]
     },
     "execution_count": 48,
     "metadata": {},
     "output_type": "execute_result"
    }
   ],
   "source": [
    "netflix = pd.read_csv('netflix.csv')\n",
    "netflix.head()"
   ]
  },
  {
   "cell_type": "markdown",
   "id": "8ab300c5",
   "metadata": {},
   "source": [
    "#### Data Information <a class=\"anchor\" id=\"section1_2\"></a>\n",
    "\n",
    "This tabular dataset consists of all the movies and tv shows available on Netflix, along with details such as - cast, directors, ratings, release year, duration, etc.\n",
    "\n",
    "Some immediate insights are:\n",
    "* There are 12 columns and 8807 rows.\n",
    "* Datypes: 1 column has integers and the others strings\n",
    "* 6 of the 12 columns have missing data, numeric values that are strings and an extra spaces in the strings, so some cleaning will be necessary for this column prior to conducting EDA. \n",
    "* Some datypes will be changed to get insights about the data"
   ]
  },
  {
   "cell_type": "code",
   "execution_count": 49,
   "id": "9e0e149e",
   "metadata": {},
   "outputs": [
    {
     "name": "stdout",
     "output_type": "stream",
     "text": [
      "<class 'pandas.core.frame.DataFrame'>\n",
      "RangeIndex: 8807 entries, 0 to 8806\n",
      "Data columns (total 12 columns):\n",
      " #   Column        Non-Null Count  Dtype \n",
      "---  ------        --------------  ----- \n",
      " 0   show_id       8807 non-null   object\n",
      " 1   type          8807 non-null   object\n",
      " 2   title         8807 non-null   object\n",
      " 3   director      6173 non-null   object\n",
      " 4   cast          7982 non-null   object\n",
      " 5   country       7976 non-null   object\n",
      " 6   date_added    8797 non-null   object\n",
      " 7   release_year  8807 non-null   int64 \n",
      " 8   rating        8800 non-null   object\n",
      " 9   duration      8807 non-null   object\n",
      " 10  listed_in     8807 non-null   object\n",
      " 11  description   8807 non-null   object\n",
      "dtypes: int64(1), object(11)\n",
      "memory usage: 825.8+ KB\n"
     ]
    }
   ],
   "source": [
    "netflix.info()"
   ]
  },
  {
   "cell_type": "markdown",
   "id": "46ee9cb2",
   "metadata": {},
   "source": [
    "### Data Cleaning <a class=\"anchor\" id=\"cleaning\"></a>\n",
    "\n",
    "To perform the analysis, first, we need to prepare and clean the data. We wil:\n",
    "* Fill missing data with \"No data\" in columns with strings\n",
    "* Drop duplicate titles\n",
    "* Convert the datatype of the column 'date_added' from string to datetime\n",
    "* We will add a column name count to help us with some charts\n",
    "* Separate 'duration' into two columns, one for TV shows (duration is presented in seasons) and one for movies (duration is presented in minutes)."
   ]
  },
  {
   "cell_type": "code",
   "execution_count": 50,
   "id": "5a1aab0d",
   "metadata": {},
   "outputs": [],
   "source": [
    "#missing data\n",
    "netflix['director'].fillna('No data', inplace = True)\n",
    "netflix['cast'].fillna('No data', inplace = True)\n",
    "netflix['country'].fillna('No data', inplace = True)\n",
    "netflix['rating'].fillna('No data', inplace = True)"
   ]
  },
  {
   "cell_type": "code",
   "execution_count": 51,
   "id": "ab4a521c",
   "metadata": {
    "scrolled": true
   },
   "outputs": [
    {
     "data": {
      "text/plain": [
       "show_id          0\n",
       "type             0\n",
       "title            0\n",
       "director         0\n",
       "cast             0\n",
       "country          0\n",
       "date_added      10\n",
       "release_year     0\n",
       "rating           0\n",
       "duration         0\n",
       "listed_in        0\n",
       "description      0\n",
       "dtype: int64"
      ]
     },
     "execution_count": 51,
     "metadata": {},
     "output_type": "execute_result"
    }
   ],
   "source": [
    "netflix.isnull().sum()"
   ]
  },
  {
   "cell_type": "code",
   "execution_count": 52,
   "id": "8b749a7f",
   "metadata": {},
   "outputs": [],
   "source": [
    "#drop duplicates\n",
    "netflix.drop_duplicates(subset=('title'), inplace = True)"
   ]
  },
  {
   "cell_type": "code",
   "execution_count": 53,
   "id": "86398a23",
   "metadata": {},
   "outputs": [],
   "source": [
    "#change datatype date_added\n",
    "netflix['date_added'] = netflix['date_added'].str.strip()\n",
    "netflix['date_added']= pd.to_datetime(netflix['date_added'])"
   ]
  },
  {
   "cell_type": "code",
   "execution_count": 54,
   "id": "31a17106",
   "metadata": {
    "scrolled": true
   },
   "outputs": [
    {
     "name": "stdout",
     "output_type": "stream",
     "text": [
      "<class 'pandas.core.frame.DataFrame'>\n",
      "Int64Index: 8807 entries, 0 to 8806\n",
      "Data columns (total 12 columns):\n",
      " #   Column        Non-Null Count  Dtype         \n",
      "---  ------        --------------  -----         \n",
      " 0   show_id       8807 non-null   object        \n",
      " 1   type          8807 non-null   object        \n",
      " 2   title         8807 non-null   object        \n",
      " 3   director      8807 non-null   object        \n",
      " 4   cast          8807 non-null   object        \n",
      " 5   country       8807 non-null   object        \n",
      " 6   date_added    8797 non-null   datetime64[ns]\n",
      " 7   release_year  8807 non-null   int64         \n",
      " 8   rating        8807 non-null   object        \n",
      " 9   duration      8807 non-null   object        \n",
      " 10  listed_in     8807 non-null   object        \n",
      " 11  description   8807 non-null   object        \n",
      "dtypes: datetime64[ns](1), int64(1), object(10)\n",
      "memory usage: 894.5+ KB\n"
     ]
    }
   ],
   "source": [
    "netflix.info()"
   ]
  },
  {
   "cell_type": "code",
   "execution_count": 55,
   "id": "5e52a1bd",
   "metadata": {},
   "outputs": [],
   "source": [
    "# Helper column for various plots\n",
    "netflix['count'] = 1"
   ]
  },
  {
   "cell_type": "code",
   "execution_count": 56,
   "id": "e3328eb1",
   "metadata": {},
   "outputs": [
    {
     "data": {
      "text/html": [
       "<div>\n",
       "<style scoped>\n",
       "    .dataframe tbody tr th:only-of-type {\n",
       "        vertical-align: middle;\n",
       "    }\n",
       "\n",
       "    .dataframe tbody tr th {\n",
       "        vertical-align: top;\n",
       "    }\n",
       "\n",
       "    .dataframe thead th {\n",
       "        text-align: right;\n",
       "    }\n",
       "</style>\n",
       "<table border=\"1\" class=\"dataframe\">\n",
       "  <thead>\n",
       "    <tr style=\"text-align: right;\">\n",
       "      <th></th>\n",
       "      <th>show_id</th>\n",
       "      <th>type</th>\n",
       "      <th>title</th>\n",
       "      <th>director</th>\n",
       "      <th>cast</th>\n",
       "      <th>country</th>\n",
       "      <th>date_added</th>\n",
       "      <th>release_year</th>\n",
       "      <th>rating</th>\n",
       "      <th>duration</th>\n",
       "      <th>listed_in</th>\n",
       "      <th>description</th>\n",
       "      <th>count</th>\n",
       "    </tr>\n",
       "  </thead>\n",
       "  <tbody>\n",
       "    <tr>\n",
       "      <th>0</th>\n",
       "      <td>s1</td>\n",
       "      <td>Movie</td>\n",
       "      <td>Dick Johnson Is Dead</td>\n",
       "      <td>Kirsten Johnson</td>\n",
       "      <td>No data</td>\n",
       "      <td>United States</td>\n",
       "      <td>2021-09-25</td>\n",
       "      <td>2020</td>\n",
       "      <td>PG-13</td>\n",
       "      <td>90 min</td>\n",
       "      <td>Documentaries</td>\n",
       "      <td>As her father nears the end of his life, filmm...</td>\n",
       "      <td>1</td>\n",
       "    </tr>\n",
       "    <tr>\n",
       "      <th>1</th>\n",
       "      <td>s2</td>\n",
       "      <td>TV Show</td>\n",
       "      <td>Blood &amp; Water</td>\n",
       "      <td>No data</td>\n",
       "      <td>Ama Qamata, Khosi Ngema, Gail Mabalane, Thaban...</td>\n",
       "      <td>South Africa</td>\n",
       "      <td>2021-09-24</td>\n",
       "      <td>2021</td>\n",
       "      <td>TV-MA</td>\n",
       "      <td>2 Seasons</td>\n",
       "      <td>International TV Shows, TV Dramas, TV Mysteries</td>\n",
       "      <td>After crossing paths at a party, a Cape Town t...</td>\n",
       "      <td>1</td>\n",
       "    </tr>\n",
       "    <tr>\n",
       "      <th>2</th>\n",
       "      <td>s3</td>\n",
       "      <td>TV Show</td>\n",
       "      <td>Ganglands</td>\n",
       "      <td>Julien Leclercq</td>\n",
       "      <td>Sami Bouajila, Tracy Gotoas, Samuel Jouy, Nabi...</td>\n",
       "      <td>No data</td>\n",
       "      <td>2021-09-24</td>\n",
       "      <td>2021</td>\n",
       "      <td>TV-MA</td>\n",
       "      <td>1 Season</td>\n",
       "      <td>Crime TV Shows, International TV Shows, TV Act...</td>\n",
       "      <td>To protect his family from a powerful drug lor...</td>\n",
       "      <td>1</td>\n",
       "    </tr>\n",
       "    <tr>\n",
       "      <th>3</th>\n",
       "      <td>s4</td>\n",
       "      <td>TV Show</td>\n",
       "      <td>Jailbirds New Orleans</td>\n",
       "      <td>No data</td>\n",
       "      <td>No data</td>\n",
       "      <td>No data</td>\n",
       "      <td>2021-09-24</td>\n",
       "      <td>2021</td>\n",
       "      <td>TV-MA</td>\n",
       "      <td>1 Season</td>\n",
       "      <td>Docuseries, Reality TV</td>\n",
       "      <td>Feuds, flirtations and toilet talk go down amo...</td>\n",
       "      <td>1</td>\n",
       "    </tr>\n",
       "    <tr>\n",
       "      <th>4</th>\n",
       "      <td>s5</td>\n",
       "      <td>TV Show</td>\n",
       "      <td>Kota Factory</td>\n",
       "      <td>No data</td>\n",
       "      <td>Mayur More, Jitendra Kumar, Ranjan Raj, Alam K...</td>\n",
       "      <td>India</td>\n",
       "      <td>2021-09-24</td>\n",
       "      <td>2021</td>\n",
       "      <td>TV-MA</td>\n",
       "      <td>2 Seasons</td>\n",
       "      <td>International TV Shows, Romantic TV Shows, TV ...</td>\n",
       "      <td>In a city of coaching centers known to train I...</td>\n",
       "      <td>1</td>\n",
       "    </tr>\n",
       "  </tbody>\n",
       "</table>\n",
       "</div>"
      ],
      "text/plain": [
       "  show_id     type                  title         director  \\\n",
       "0      s1    Movie   Dick Johnson Is Dead  Kirsten Johnson   \n",
       "1      s2  TV Show          Blood & Water          No data   \n",
       "2      s3  TV Show              Ganglands  Julien Leclercq   \n",
       "3      s4  TV Show  Jailbirds New Orleans          No data   \n",
       "4      s5  TV Show           Kota Factory          No data   \n",
       "\n",
       "                                                cast        country  \\\n",
       "0                                            No data  United States   \n",
       "1  Ama Qamata, Khosi Ngema, Gail Mabalane, Thaban...   South Africa   \n",
       "2  Sami Bouajila, Tracy Gotoas, Samuel Jouy, Nabi...        No data   \n",
       "3                                            No data        No data   \n",
       "4  Mayur More, Jitendra Kumar, Ranjan Raj, Alam K...          India   \n",
       "\n",
       "  date_added  release_year rating   duration  \\\n",
       "0 2021-09-25          2020  PG-13     90 min   \n",
       "1 2021-09-24          2021  TV-MA  2 Seasons   \n",
       "2 2021-09-24          2021  TV-MA   1 Season   \n",
       "3 2021-09-24          2021  TV-MA   1 Season   \n",
       "4 2021-09-24          2021  TV-MA  2 Seasons   \n",
       "\n",
       "                                           listed_in  \\\n",
       "0                                      Documentaries   \n",
       "1    International TV Shows, TV Dramas, TV Mysteries   \n",
       "2  Crime TV Shows, International TV Shows, TV Act...   \n",
       "3                             Docuseries, Reality TV   \n",
       "4  International TV Shows, Romantic TV Shows, TV ...   \n",
       "\n",
       "                                         description  count  \n",
       "0  As her father nears the end of his life, filmm...      1  \n",
       "1  After crossing paths at a party, a Cape Town t...      1  \n",
       "2  To protect his family from a powerful drug lor...      1  \n",
       "3  Feuds, flirtations and toilet talk go down amo...      1  \n",
       "4  In a city of coaching centers known to train I...      1  "
      ]
     },
     "execution_count": 56,
     "metadata": {},
     "output_type": "execute_result"
    }
   ],
   "source": [
    "netflix.head()"
   ]
  },
  {
   "cell_type": "markdown",
   "id": "1fac7f3e",
   "metadata": {},
   "source": [
    "### Exploratory Data Analysis <a class=\"anchor\" id=\"EDA\"></a>\n",
    "\n",
    "Now that we have cleaned the data, let's explore Netflix's content\n",
    "\n",
    "Interesting Insights\n",
    "\n",
    "* Does Netflix focus more on TV shows or movies?\n",
    "* Distribution of ratings\n",
    "* Releases by month\n",
    "* Content by genre"
   ]
  },
  {
   "cell_type": "markdown",
   "id": "dd4a9e12",
   "metadata": {},
   "source": [
    "#### Does Netflix focus more on TV shows or movies?<a class=\"anchor\" id=\"section3_1\"></a>\n",
    "\n",
    "First, let's take a general look at all the content available in the dataframe"
   ]
  },
  {
   "cell_type": "code",
   "execution_count": 117,
   "id": "b9f8a16b",
   "metadata": {},
   "outputs": [
    {
     "data": {
      "image/png": "[encoded data removed]",
      "text/plain": [
       "<Figure size 504x360 with 1 Axes>"
      ]
     },
     "metadata": {},
     "output_type": "display_data"
    },
    {
     "data": {
      "text/plain": [
       "<Figure size 432x288 with 0 Axes>"
      ]
     },
     "metadata": {},
     "output_type": "display_data"
    }
   ],
   "source": [
    "palette_2c = ['#E50914', '#303030']\n",
    "fig, ax = plt.subplots(figsize=(7, 5))\n",
    "plt.pie(netflix['type'].value_counts(), colors = palette_2c, labels = netflix['type'].unique(), \n",
    "        autopct = '%.01f%%', pctdistance = 1.2, labeldistance = 1.3)\n",
    "plt.axis('equal')\n",
    "plt.title('TV shows vs Movies', fontsize = 15, y = 1.04)\n",
    "plt.savefig(\"TV shows vs Movies.png\")\n",
    "plt.show()\n",
    "plt.clf()"
   ]
  },
  {
   "cell_type": "markdown",
   "id": "4ca75e11",
   "metadata": {},
   "source": [
    "We can see that up until 2021, Netflix had more Movies than TV shows on the platform. Now, let's check that this is true also over the years"
   ]
  },
  {
   "cell_type": "code",
   "execution_count": 58,
   "id": "f3843585",
   "metadata": {},
   "outputs": [
    {
     "data": {
      "image/png": "[encoded data removed]",
      "text/plain": [
       "<Figure size 1080x864 with 1 Axes>"
      ]
     },
     "metadata": {
      "needs_background": "light"
     },
     "output_type": "display_data"
    },
    {
     "data": {
      "text/plain": [
       "<Figure size 432x288 with 0 Axes>"
      ]
     },
     "metadata": {},
     "output_type": "display_data"
    }
   ],
   "source": [
    "fig, ax = plt.subplots(figsize=(15, 12))\n",
    "sns.countplot(data = netflix, x = 'release_year', hue = 'type', palette = palette_2c)\n",
    "plt.xticks(rotation = 90)\n",
    "plt.title('Movies vs TV Shows over the years')\n",
    "plt.legend(loc='upper left')\n",
    "plt.xlabel('Release Year')\n",
    "plt.show()\n",
    "plt.clf()"
   ]
  },
  {
   "cell_type": "markdown",
   "id": "6e48a4c2",
   "metadata": {},
   "source": [
    "We can see Netflix started producing TV shows in 1990. Let's plot the chart starting at this year so we can see the difference between TV shows and Movies more clearly"
   ]
  },
  {
   "cell_type": "code",
   "execution_count": 118,
   "id": "e3f70e83",
   "metadata": {},
   "outputs": [
    {
     "data": {
      "image/png": "[encoded data removed]",
      "text/plain": [
       "<Figure size 1080x864 with 1 Axes>"
      ]
     },
     "metadata": {
      "needs_background": "light"
     },
     "output_type": "display_data"
    },
    {
     "data": {
      "text/plain": [
       "<Figure size 432x288 with 0 Axes>"
      ]
     },
     "metadata": {},
     "output_type": "display_data"
    }
   ],
   "source": [
    "netflix_1990 = netflix[netflix['release_year'] >= 1990]\n",
    "fig, ax = plt.subplots(figsize=(15, 12))\n",
    "sns.countplot(data = netflix_1990, x = 'release_year', hue = 'type', palette = palette_2c)\n",
    "plt.xticks(rotation = 90)\n",
    "plt.title('Movies vs TV Shows since 1990')\n",
    "plt.legend(loc='upper left')\n",
    "plt.xlabel('Release Year')\n",
    "plt.savefig(\"Movies vs TV Shows since 1990.png\")\n",
    "plt.show()\n",
    "plt.clf()"
   ]
  },
  {
   "cell_type": "markdown",
   "id": "90a5e71f",
   "metadata": {},
   "source": [
    "Although, in total Netflix still has more movies than TV shows, we can see the tendency starting to change in 2019, and in 2021, Netflix already released more TV shows than movies. "
   ]
  },
  {
   "cell_type": "markdown",
   "id": "af6b4ca5",
   "metadata": {},
   "source": [
    "#### Content by country<a class=\"anchor\" id=\"section3_2\"></a>\n",
    "\n",
    "In this section, we will analyze:\n",
    "- Which are the 10 countries which procude more content avaible in Netflix\n",
    "- If the tendency, we have seen in the chart TV Shows vs Movies, is the same in every country"
   ]
  },
  {
   "cell_type": "markdown",
   "id": "d315daa4",
   "metadata": {},
   "source": [
    "First, let's focus on finding out what countries provide more content to the platform. \n",
    "\n",
    "Some titles have more than one country listed. To do the analysis, we will take into consideration the first one mentioned. \n",
    "\n",
    "To achieve this, we will need to add a column showing the first country in each row."
   ]
  },
  {
   "cell_type": "code",
   "execution_count": 60,
   "id": "a92180d9",
   "metadata": {
    "scrolled": false
   },
   "outputs": [
    {
     "data": {
      "text/html": [
       "<div>\n",
       "<style scoped>\n",
       "    .dataframe tbody tr th:only-of-type {\n",
       "        vertical-align: middle;\n",
       "    }\n",
       "\n",
       "    .dataframe tbody tr th {\n",
       "        vertical-align: top;\n",
       "    }\n",
       "\n",
       "    .dataframe thead th {\n",
       "        text-align: right;\n",
       "    }\n",
       "</style>\n",
       "<table border=\"1\" class=\"dataframe\">\n",
       "  <thead>\n",
       "    <tr style=\"text-align: right;\">\n",
       "      <th></th>\n",
       "      <th>show_id</th>\n",
       "      <th>type</th>\n",
       "      <th>title</th>\n",
       "      <th>director</th>\n",
       "      <th>cast</th>\n",
       "      <th>country</th>\n",
       "      <th>date_added</th>\n",
       "      <th>release_year</th>\n",
       "      <th>rating</th>\n",
       "      <th>duration</th>\n",
       "      <th>listed_in</th>\n",
       "      <th>description</th>\n",
       "      <th>count</th>\n",
       "      <th>first_country</th>\n",
       "    </tr>\n",
       "  </thead>\n",
       "  <tbody>\n",
       "    <tr>\n",
       "      <th>0</th>\n",
       "      <td>s1</td>\n",
       "      <td>Movie</td>\n",
       "      <td>Dick Johnson Is Dead</td>\n",
       "      <td>Kirsten Johnson</td>\n",
       "      <td>No data</td>\n",
       "      <td>United States</td>\n",
       "      <td>2021-09-25</td>\n",
       "      <td>2020</td>\n",
       "      <td>PG-13</td>\n",
       "      <td>90 min</td>\n",
       "      <td>Documentaries</td>\n",
       "      <td>As her father nears the end of his life, filmm...</td>\n",
       "      <td>1</td>\n",
       "      <td>United States</td>\n",
       "    </tr>\n",
       "    <tr>\n",
       "      <th>1</th>\n",
       "      <td>s2</td>\n",
       "      <td>TV Show</td>\n",
       "      <td>Blood &amp; Water</td>\n",
       "      <td>No data</td>\n",
       "      <td>Ama Qamata, Khosi Ngema, Gail Mabalane, Thaban...</td>\n",
       "      <td>South Africa</td>\n",
       "      <td>2021-09-24</td>\n",
       "      <td>2021</td>\n",
       "      <td>TV-MA</td>\n",
       "      <td>2 Seasons</td>\n",
       "      <td>International TV Shows, TV Dramas, TV Mysteries</td>\n",
       "      <td>After crossing paths at a party, a Cape Town t...</td>\n",
       "      <td>1</td>\n",
       "      <td>South Africa</td>\n",
       "    </tr>\n",
       "    <tr>\n",
       "      <th>2</th>\n",
       "      <td>s3</td>\n",
       "      <td>TV Show</td>\n",
       "      <td>Ganglands</td>\n",
       "      <td>Julien Leclercq</td>\n",
       "      <td>Sami Bouajila, Tracy Gotoas, Samuel Jouy, Nabi...</td>\n",
       "      <td>No data</td>\n",
       "      <td>2021-09-24</td>\n",
       "      <td>2021</td>\n",
       "      <td>TV-MA</td>\n",
       "      <td>1 Season</td>\n",
       "      <td>Crime TV Shows, International TV Shows, TV Act...</td>\n",
       "      <td>To protect his family from a powerful drug lor...</td>\n",
       "      <td>1</td>\n",
       "      <td>No data</td>\n",
       "    </tr>\n",
       "    <tr>\n",
       "      <th>3</th>\n",
       "      <td>s4</td>\n",
       "      <td>TV Show</td>\n",
       "      <td>Jailbirds New Orleans</td>\n",
       "      <td>No data</td>\n",
       "      <td>No data</td>\n",
       "      <td>No data</td>\n",
       "      <td>2021-09-24</td>\n",
       "      <td>2021</td>\n",
       "      <td>TV-MA</td>\n",
       "      <td>1 Season</td>\n",
       "      <td>Docuseries, Reality TV</td>\n",
       "      <td>Feuds, flirtations and toilet talk go down amo...</td>\n",
       "      <td>1</td>\n",
       "      <td>No data</td>\n",
       "    </tr>\n",
       "    <tr>\n",
       "      <th>4</th>\n",
       "      <td>s5</td>\n",
       "      <td>TV Show</td>\n",
       "      <td>Kota Factory</td>\n",
       "      <td>No data</td>\n",
       "      <td>Mayur More, Jitendra Kumar, Ranjan Raj, Alam K...</td>\n",
       "      <td>India</td>\n",
       "      <td>2021-09-24</td>\n",
       "      <td>2021</td>\n",
       "      <td>TV-MA</td>\n",
       "      <td>2 Seasons</td>\n",
       "      <td>International TV Shows, Romantic TV Shows, TV ...</td>\n",
       "      <td>In a city of coaching centers known to train I...</td>\n",
       "      <td>1</td>\n",
       "      <td>India</td>\n",
       "    </tr>\n",
       "  </tbody>\n",
       "</table>\n",
       "</div>"
      ],
      "text/plain": [
       "  show_id     type                  title         director  \\\n",
       "0      s1    Movie   Dick Johnson Is Dead  Kirsten Johnson   \n",
       "1      s2  TV Show          Blood & Water          No data   \n",
       "2      s3  TV Show              Ganglands  Julien Leclercq   \n",
       "3      s4  TV Show  Jailbirds New Orleans          No data   \n",
       "4      s5  TV Show           Kota Factory          No data   \n",
       "\n",
       "                                                cast        country  \\\n",
       "0                                            No data  United States   \n",
       "1  Ama Qamata, Khosi Ngema, Gail Mabalane, Thaban...   South Africa   \n",
       "2  Sami Bouajila, Tracy Gotoas, Samuel Jouy, Nabi...        No data   \n",
       "3                                            No data        No data   \n",
       "4  Mayur More, Jitendra Kumar, Ranjan Raj, Alam K...          India   \n",
       "\n",
       "  date_added  release_year rating   duration  \\\n",
       "0 2021-09-25          2020  PG-13     90 min   \n",
       "1 2021-09-24          2021  TV-MA  2 Seasons   \n",
       "2 2021-09-24          2021  TV-MA   1 Season   \n",
       "3 2021-09-24          2021  TV-MA   1 Season   \n",
       "4 2021-09-24          2021  TV-MA  2 Seasons   \n",
       "\n",
       "                                           listed_in  \\\n",
       "0                                      Documentaries   \n",
       "1    International TV Shows, TV Dramas, TV Mysteries   \n",
       "2  Crime TV Shows, International TV Shows, TV Act...   \n",
       "3                             Docuseries, Reality TV   \n",
       "4  International TV Shows, Romantic TV Shows, TV ...   \n",
       "\n",
       "                                         description  count  first_country  \n",
       "0  As her father nears the end of his life, filmm...      1  United States  \n",
       "1  After crossing paths at a party, a Cape Town t...      1   South Africa  \n",
       "2  To protect his family from a powerful drug lor...      1        No data  \n",
       "3  Feuds, flirtations and toilet talk go down amo...      1        No data  \n",
       "4  In a city of coaching centers known to train I...      1          India  "
      ]
     },
     "execution_count": 60,
     "metadata": {},
     "output_type": "execute_result"
    }
   ],
   "source": [
    "netflix['first_country'] = netflix['country'].apply(lambda x: x.split(\",\")[0])\n",
    "netflix.head()"
   ]
  },
  {
   "cell_type": "code",
   "execution_count": 61,
   "id": "91016493",
   "metadata": {
    "scrolled": false
   },
   "outputs": [
    {
     "data": {
      "image/png": "[encoded data removed]",
      "text/plain": [
       "<Figure size 720x576 with 1 Axes>"
      ]
     },
     "metadata": {
      "needs_background": "light"
     },
     "output_type": "display_data"
    }
   ],
   "source": [
    "netflix_10_countries = pd.DataFrame(netflix.groupby('first_country')\n",
    "                                    ['count'].sum().sort_values(ascending=False)[:11])\n",
    "\n",
    "f, ax = plt.subplots(figsize= (10, 8))\n",
    "sns.barplot(data = netflix_10_countries, x = 'count', y = netflix_10_countries.index, palette = palette_2c)\n",
    "plt.title('Content per country')\n",
    "plt.ylabel('Country')\n",
    "plt.show()"
   ]
  },
  {
   "cell_type": "markdown",
   "id": "d4a42756",
   "metadata": {},
   "source": [
    "It is not a surprise that USA is the top country producing content for Netflix, and possible to all other major platforms. Also, we can see that within the dataframe there is a lot of the titles with the country missing."
   ]
  },
  {
   "cell_type": "code",
   "execution_count": 62,
   "id": "82e648ce",
   "metadata": {
    "scrolled": true
   },
   "outputs": [
    {
     "data": {
      "text/html": [
       "<div>\n",
       "<style scoped>\n",
       "    .dataframe tbody tr th:only-of-type {\n",
       "        vertical-align: middle;\n",
       "    }\n",
       "\n",
       "    .dataframe tbody tr th {\n",
       "        vertical-align: top;\n",
       "    }\n",
       "\n",
       "    .dataframe thead th {\n",
       "        text-align: right;\n",
       "    }\n",
       "</style>\n",
       "<table border=\"1\" class=\"dataframe\">\n",
       "  <thead>\n",
       "    <tr style=\"text-align: right;\">\n",
       "      <th>type</th>\n",
       "      <th>Movie</th>\n",
       "      <th>TV Show</th>\n",
       "    </tr>\n",
       "  </thead>\n",
       "  <tbody>\n",
       "    <tr>\n",
       "      <th>United States</th>\n",
       "      <td>2364.0</td>\n",
       "      <td>847.0</td>\n",
       "    </tr>\n",
       "    <tr>\n",
       "      <th>India</th>\n",
       "      <td>927.0</td>\n",
       "      <td>81.0</td>\n",
       "    </tr>\n",
       "    <tr>\n",
       "      <th>No data</th>\n",
       "      <td>440.0</td>\n",
       "      <td>391.0</td>\n",
       "    </tr>\n",
       "    <tr>\n",
       "      <th>United Kingdom</th>\n",
       "      <td>382.0</td>\n",
       "      <td>246.0</td>\n",
       "    </tr>\n",
       "    <tr>\n",
       "      <th>Canada</th>\n",
       "      <td>187.0</td>\n",
       "      <td>84.0</td>\n",
       "    </tr>\n",
       "    <tr>\n",
       "      <th>Japan</th>\n",
       "      <td>85.0</td>\n",
       "      <td>174.0</td>\n",
       "    </tr>\n",
       "    <tr>\n",
       "      <th>France</th>\n",
       "      <td>148.0</td>\n",
       "      <td>64.0</td>\n",
       "    </tr>\n",
       "    <tr>\n",
       "      <th>South Korea</th>\n",
       "      <td>47.0</td>\n",
       "      <td>164.0</td>\n",
       "    </tr>\n",
       "    <tr>\n",
       "      <th>Spain</th>\n",
       "      <td>129.0</td>\n",
       "      <td>52.0</td>\n",
       "    </tr>\n",
       "    <tr>\n",
       "      <th>Mexico</th>\n",
       "      <td>86.0</td>\n",
       "      <td>48.0</td>\n",
       "    </tr>\n",
       "    <tr>\n",
       "      <th>Australia</th>\n",
       "      <td>61.0</td>\n",
       "      <td>56.0</td>\n",
       "    </tr>\n",
       "  </tbody>\n",
       "</table>\n",
       "</div>"
      ],
      "text/plain": [
       "type             Movie  TV Show\n",
       "United States   2364.0    847.0\n",
       "India            927.0     81.0\n",
       "No data          440.0    391.0\n",
       "United Kingdom   382.0    246.0\n",
       "Canada           187.0     84.0\n",
       "Japan             85.0    174.0\n",
       "France           148.0     64.0\n",
       "South Korea       47.0    164.0\n",
       "Spain            129.0     52.0\n",
       "Mexico            86.0     48.0\n",
       "Australia         61.0     56.0"
      ]
     },
     "execution_count": 62,
     "metadata": {},
     "output_type": "execute_result"
    }
   ],
   "source": [
    "country_order = netflix['first_country'].value_counts()[:11].index\n",
    "data_country_type = netflix[['type', 'first_country']].groupby('first_country')['type']\\\n",
    ".value_counts().unstack().loc[country_order]\n",
    "data_country_type"
   ]
  },
  {
   "cell_type": "code",
   "execution_count": 119,
   "id": "bdf74442",
   "metadata": {},
   "outputs": [
    {
     "data": {
      "image/png": "[encoded data removed]",
      "text/plain": [
       "<Figure size 720x576 with 1 Axes>"
      ]
     },
     "metadata": {
      "needs_background": "light"
     },
     "output_type": "display_data"
    },
    {
     "data": {
      "text/plain": [
       "<Figure size 432x288 with 0 Axes>"
      ]
     },
     "metadata": {},
     "output_type": "display_data"
    }
   ],
   "source": [
    "ax = data_country_type.plot(kind = 'bar', figsize=(10,8), \n",
    "                               stacked=True, color = ['#E50914', '#303030'])\n",
    "plt.title('Content per country and type')\n",
    "plt.savefig(\"Content per country and type.png\")\n",
    "plt.show()\n",
    "plt.clf()"
   ]
  },
  {
   "cell_type": "markdown",
   "id": "5625aacf",
   "metadata": {},
   "source": [
    "Most of the countries produce more Movies than TV shows. The country following this trend with the biggest difference is India. However, there are 2 countries which had more TV shows than movies added to the Netflix platform, Japan and South Korea.  "
   ]
  },
  {
   "cell_type": "markdown",
   "id": "558180d0",
   "metadata": {},
   "source": [
    "#### Distribution of ratings<a class=\"anchor\" id=\"section3_3\"></a>\n",
    "\n",
    "Most people don't know what the abbrevations for the ratings mean so first we will explain the concepts."
   ]
  },
  {
   "cell_type": "code",
   "execution_count": 64,
   "id": "15707d06",
   "metadata": {},
   "outputs": [
    {
     "data": {
      "text/plain": [
       "array(['PG-13', 'TV-MA', 'PG', 'TV-14', 'TV-PG', 'TV-Y', 'TV-Y7', 'R',\n",
       "       'TV-G', 'G', 'NC-17', 'No data', 'NR', 'TV-Y7-FV', 'UR'],\n",
       "      dtype=object)"
      ]
     },
     "execution_count": 64,
     "metadata": {},
     "output_type": "execute_result"
    }
   ],
   "source": [
    "netflix['rating'].unique()"
   ]
  },
  {
   "cell_type": "markdown",
   "id": "509383d0",
   "metadata": {},
   "source": [
    "* PG-13: Parents Strongly Cautioned. Some material may be inappropriate for children under 13. Parents are urged to be cautious. Some material may be inappropriate for pre-teenagers.\n",
    "* TV-MA: V-MA Mature Audience Only This program is specifically designed to be viewed by adults and therefore may be unsuitable for children under 17.\n",
    "* PG: Parental Guidance Sugested. Some material may not be suitable for children. Parents urged to give \"parental guidance\". May contain some material parents might not like for their young children.\n",
    "* TV-14: Parents Strongly Cautioned This program contains some material that many parents would find unsuitable for children under 14 years of age.\n",
    "* TV-PG: Parental Guidance Suggested This program contains material that parents may find unsuitable for younger children.\n",
    "* TV-Y: All Children This program is designed to be appropriate for all children. \n",
    "* TV-Y7: Directed to Older Children This program is designed for children age 7 and above.\n",
    "* R: Restricted. Under 17 requires accompanying parent or adult guardian. Contains some adult material. Parents are urged to learn more about the film before taking their young children with them. \n",
    "* TV-G: General Audience Most parents would find this program suitable for all ages.\n",
    "* G:General Audiences. All ages admitted. Nothing that would offend parents for viewing by children.\n",
    "* NC-17: Adults only. No One 17 and Under Admitted. Clearly adult. Children are not admitted.\n",
    "* NR:Not rated\n",
    "* TV-Y7-FV: Directed to Older Children - Fantasy Violence\n",
    "* UR:Unrated "
   ]
  },
  {
   "cell_type": "code",
   "execution_count": 65,
   "id": "643e9871",
   "metadata": {},
   "outputs": [
    {
     "data": {
      "image/png": "[encoded data removed]",
      "text/plain": [
       "<Figure size 1080x864 with 1 Axes>"
      ]
     },
     "metadata": {
      "needs_background": "light"
     },
     "output_type": "display_data"
    },
    {
     "data": {
      "text/plain": [
       "<Figure size 432x288 with 0 Axes>"
      ]
     },
     "metadata": {},
     "output_type": "display_data"
    }
   ],
   "source": [
    "fig, ax = plt.subplots(figsize=(15, 12))\n",
    "sns.countplot(data = netflix, x = 'rating', hue = 'type', palette = palette_2c, \n",
    "              order=netflix['rating'].value_counts().index[0:15])\n",
    "plt.title('Ratings by type')\n",
    "plt.legend(loc='upper right')\n",
    "plt.show()\n",
    "plt.clf()"
   ]
  },
  {
   "cell_type": "markdown",
   "id": "97873264",
   "metadata": {},
   "source": [
    "The most common ratings are TV-MA (content for mature audiences) and TV-14 (unsuitable for children under 14 years of age). "
   ]
  },
  {
   "cell_type": "markdown",
   "id": "a8975304",
   "metadata": {},
   "source": [
    "To make things easier and more clear, we could group the ratings by age group:\n",
    "- Children: TV-Y, TV-G, G\n",
    "- Older Children: PG, TV-PG,TV-Y7, TV-Y7-FV\n",
    "- Teenagers: PG-13, TV-14 \n",
    "- Adults: TV-MA, R, NC-17\n",
    "- Not rated: NR, UR, No data"
   ]
  },
  {
   "cell_type": "code",
   "execution_count": 66,
   "id": "1cfe7d45",
   "metadata": {},
   "outputs": [],
   "source": [
    "ratings_group = {'TV-Y': 'Children', 'TV-G' : 'Children', 'G' : 'Children', 'PG-13' : 'Teenagers', \n",
    "                 'PG' : 'Older Children', 'TV-14' : 'Teenagers', 'TV-PG' : 'Older Children', 'TV-Y7' : 'Older Children', \n",
    "                 'TV-Y7-FV' : 'Older Children', 'TV-MA' : 'Adults', 'R' : 'Adults', 'NC-17' : 'Adults',\n",
    "                 'NR' : 'Not rated', 'UR' : 'Not rated', 'No data' : 'Not rated'}\n",
    "\n",
    "netflix['ratings_group'] = netflix['rating'].replace(ratings_group)"
   ]
  },
  {
   "cell_type": "code",
   "execution_count": 67,
   "id": "b51dee83",
   "metadata": {},
   "outputs": [
    {
     "data": {
      "text/plain": [
       "Adults            4009\n",
       "Teenagers         2650\n",
       "Older Children    1490\n",
       "Children           568\n",
       "Not rated           90\n",
       "Name: ratings_group, dtype: int64"
      ]
     },
     "execution_count": 67,
     "metadata": {},
     "output_type": "execute_result"
    }
   ],
   "source": [
    "netflix['ratings_group'].value_counts()"
   ]
  },
  {
   "cell_type": "code",
   "execution_count": 120,
   "id": "f64b1ff8",
   "metadata": {},
   "outputs": [
    {
     "data": {
      "image/png": "[encoded data removed]",
      "text/plain": [
       "<Figure size 720x576 with 1 Axes>"
      ]
     },
     "metadata": {
      "needs_background": "light"
     },
     "output_type": "display_data"
    },
    {
     "data": {
      "text/plain": [
       "<Figure size 432x288 with 0 Axes>"
      ]
     },
     "metadata": {},
     "output_type": "display_data"
    }
   ],
   "source": [
    "fig, ax = plt.subplots(figsize=(10, 8))\n",
    "sns.countplot(data = netflix, x = 'ratings_group', hue = 'type', palette = palette_2c)\n",
    "plt.title('Ratings by age and type')\n",
    "plt.legend(loc='upper right')\n",
    "plt.savefig(\"Ratings by age and type.png\")\n",
    "plt.show()\n",
    "plt.clf()"
   ]
  },
  {
   "cell_type": "markdown",
   "id": "54aeebbe",
   "metadata": {},
   "source": [
    "It is not surprising that most of the content is addressed to adults. However, it is interesting that as age decreases,the difference between the offer of movies and TV shows also decreases."
   ]
  },
  {
   "cell_type": "markdown",
   "id": "24087b2c",
   "metadata": {},
   "source": [
    "#### Releases by month<a class=\"anchor\" id=\"section3_4\"></a>\n",
    "\n",
    "In this section, we will analyze which month are the most popular to release a movie or a tv show."
   ]
  },
  {
   "cell_type": "code",
   "execution_count": 69,
   "id": "5e417f0b",
   "metadata": {},
   "outputs": [
    {
     "data": {
      "text/html": [
       "<div>\n",
       "<style scoped>\n",
       "    .dataframe tbody tr th:only-of-type {\n",
       "        vertical-align: middle;\n",
       "    }\n",
       "\n",
       "    .dataframe tbody tr th {\n",
       "        vertical-align: top;\n",
       "    }\n",
       "\n",
       "    .dataframe thead th {\n",
       "        text-align: right;\n",
       "    }\n",
       "</style>\n",
       "<table border=\"1\" class=\"dataframe\">\n",
       "  <thead>\n",
       "    <tr style=\"text-align: right;\">\n",
       "      <th>year</th>\n",
       "      <th>2008</th>\n",
       "      <th>2009</th>\n",
       "      <th>2010</th>\n",
       "      <th>2011</th>\n",
       "      <th>2012</th>\n",
       "      <th>2013</th>\n",
       "      <th>2014</th>\n",
       "      <th>2015</th>\n",
       "      <th>2016</th>\n",
       "      <th>2017</th>\n",
       "      <th>2018</th>\n",
       "      <th>2019</th>\n",
       "      <th>2020</th>\n",
       "      <th>2021</th>\n",
       "    </tr>\n",
       "    <tr>\n",
       "      <th>month</th>\n",
       "      <th></th>\n",
       "      <th></th>\n",
       "      <th></th>\n",
       "      <th></th>\n",
       "      <th></th>\n",
       "      <th></th>\n",
       "      <th></th>\n",
       "      <th></th>\n",
       "      <th></th>\n",
       "      <th></th>\n",
       "      <th></th>\n",
       "      <th></th>\n",
       "      <th></th>\n",
       "      <th></th>\n",
       "    </tr>\n",
       "  </thead>\n",
       "  <tbody>\n",
       "    <tr>\n",
       "      <th>1</th>\n",
       "      <td>1.0</td>\n",
       "      <td>0.0</td>\n",
       "      <td>0.0</td>\n",
       "      <td>0.0</td>\n",
       "      <td>0.0</td>\n",
       "      <td>0.0</td>\n",
       "      <td>2.0</td>\n",
       "      <td>1.0</td>\n",
       "      <td>43.0</td>\n",
       "      <td>72.0</td>\n",
       "      <td>129.0</td>\n",
       "      <td>153.0</td>\n",
       "      <td>205.0</td>\n",
       "      <td>132.0</td>\n",
       "    </tr>\n",
       "    <tr>\n",
       "      <th>2</th>\n",
       "      <td>1.0</td>\n",
       "      <td>0.0</td>\n",
       "      <td>0.0</td>\n",
       "      <td>0.0</td>\n",
       "      <td>1.0</td>\n",
       "      <td>0.0</td>\n",
       "      <td>2.0</td>\n",
       "      <td>4.0</td>\n",
       "      <td>15.0</td>\n",
       "      <td>82.0</td>\n",
       "      <td>87.0</td>\n",
       "      <td>148.0</td>\n",
       "      <td>114.0</td>\n",
       "      <td>109.0</td>\n",
       "    </tr>\n",
       "    <tr>\n",
       "      <th>3</th>\n",
       "      <td>0.0</td>\n",
       "      <td>0.0</td>\n",
       "      <td>0.0</td>\n",
       "      <td>0.0</td>\n",
       "      <td>0.0</td>\n",
       "      <td>1.0</td>\n",
       "      <td>0.0</td>\n",
       "      <td>5.0</td>\n",
       "      <td>17.0</td>\n",
       "      <td>125.0</td>\n",
       "      <td>173.0</td>\n",
       "      <td>172.0</td>\n",
       "      <td>137.0</td>\n",
       "      <td>112.0</td>\n",
       "    </tr>\n",
       "    <tr>\n",
       "      <th>4</th>\n",
       "      <td>0.0</td>\n",
       "      <td>0.0</td>\n",
       "      <td>0.0</td>\n",
       "      <td>0.0</td>\n",
       "      <td>0.0</td>\n",
       "      <td>0.0</td>\n",
       "      <td>2.0</td>\n",
       "      <td>5.0</td>\n",
       "      <td>22.0</td>\n",
       "      <td>93.0</td>\n",
       "      <td>115.0</td>\n",
       "      <td>162.0</td>\n",
       "      <td>177.0</td>\n",
       "      <td>188.0</td>\n",
       "    </tr>\n",
       "    <tr>\n",
       "      <th>5</th>\n",
       "      <td>0.0</td>\n",
       "      <td>1.0</td>\n",
       "      <td>0.0</td>\n",
       "      <td>1.0</td>\n",
       "      <td>0.0</td>\n",
       "      <td>0.0</td>\n",
       "      <td>0.0</td>\n",
       "      <td>6.0</td>\n",
       "      <td>13.0</td>\n",
       "      <td>86.0</td>\n",
       "      <td>97.0</td>\n",
       "      <td>139.0</td>\n",
       "      <td>157.0</td>\n",
       "      <td>132.0</td>\n",
       "    </tr>\n",
       "    <tr>\n",
       "      <th>6</th>\n",
       "      <td>0.0</td>\n",
       "      <td>0.0</td>\n",
       "      <td>0.0</td>\n",
       "      <td>0.0</td>\n",
       "      <td>0.0</td>\n",
       "      <td>0.0</td>\n",
       "      <td>1.0</td>\n",
       "      <td>6.0</td>\n",
       "      <td>18.0</td>\n",
       "      <td>94.0</td>\n",
       "      <td>78.0</td>\n",
       "      <td>168.0</td>\n",
       "      <td>156.0</td>\n",
       "      <td>207.0</td>\n",
       "    </tr>\n",
       "    <tr>\n",
       "      <th>7</th>\n",
       "      <td>0.0</td>\n",
       "      <td>0.0</td>\n",
       "      <td>0.0</td>\n",
       "      <td>0.0</td>\n",
       "      <td>0.0</td>\n",
       "      <td>0.0</td>\n",
       "      <td>1.0</td>\n",
       "      <td>7.0</td>\n",
       "      <td>28.0</td>\n",
       "      <td>79.0</td>\n",
       "      <td>152.0</td>\n",
       "      <td>157.0</td>\n",
       "      <td>146.0</td>\n",
       "      <td>257.0</td>\n",
       "    </tr>\n",
       "    <tr>\n",
       "      <th>8</th>\n",
       "      <td>0.0</td>\n",
       "      <td>0.0</td>\n",
       "      <td>0.0</td>\n",
       "      <td>0.0</td>\n",
       "      <td>0.0</td>\n",
       "      <td>1.0</td>\n",
       "      <td>1.0</td>\n",
       "      <td>2.0</td>\n",
       "      <td>34.0</td>\n",
       "      <td>115.0</td>\n",
       "      <td>164.0</td>\n",
       "      <td>131.0</td>\n",
       "      <td>129.0</td>\n",
       "      <td>178.0</td>\n",
       "    </tr>\n",
       "    <tr>\n",
       "      <th>9</th>\n",
       "      <td>0.0</td>\n",
       "      <td>0.0</td>\n",
       "      <td>0.0</td>\n",
       "      <td>1.0</td>\n",
       "      <td>0.0</td>\n",
       "      <td>2.0</td>\n",
       "      <td>1.0</td>\n",
       "      <td>7.0</td>\n",
       "      <td>48.0</td>\n",
       "      <td>113.0</td>\n",
       "      <td>124.0</td>\n",
       "      <td>123.0</td>\n",
       "      <td>168.0</td>\n",
       "      <td>183.0</td>\n",
       "    </tr>\n",
       "    <tr>\n",
       "      <th>10</th>\n",
       "      <td>0.0</td>\n",
       "      <td>0.0</td>\n",
       "      <td>0.0</td>\n",
       "      <td>11.0</td>\n",
       "      <td>0.0</td>\n",
       "      <td>3.0</td>\n",
       "      <td>4.0</td>\n",
       "      <td>14.0</td>\n",
       "      <td>51.0</td>\n",
       "      <td>126.0</td>\n",
       "      <td>191.0</td>\n",
       "      <td>193.0</td>\n",
       "      <td>167.0</td>\n",
       "      <td>0.0</td>\n",
       "    </tr>\n",
       "    <tr>\n",
       "      <th>11</th>\n",
       "      <td>0.0</td>\n",
       "      <td>1.0</td>\n",
       "      <td>1.0</td>\n",
       "      <td>0.0</td>\n",
       "      <td>1.0</td>\n",
       "      <td>2.0</td>\n",
       "      <td>4.0</td>\n",
       "      <td>4.0</td>\n",
       "      <td>44.0</td>\n",
       "      <td>85.0</td>\n",
       "      <td>154.0</td>\n",
       "      <td>255.0</td>\n",
       "      <td>154.0</td>\n",
       "      <td>0.0</td>\n",
       "    </tr>\n",
       "    <tr>\n",
       "      <th>12</th>\n",
       "      <td>0.0</td>\n",
       "      <td>0.0</td>\n",
       "      <td>0.0</td>\n",
       "      <td>0.0</td>\n",
       "      <td>1.0</td>\n",
       "      <td>2.0</td>\n",
       "      <td>6.0</td>\n",
       "      <td>21.0</td>\n",
       "      <td>96.0</td>\n",
       "      <td>118.0</td>\n",
       "      <td>185.0</td>\n",
       "      <td>215.0</td>\n",
       "      <td>169.0</td>\n",
       "      <td>0.0</td>\n",
       "    </tr>\n",
       "  </tbody>\n",
       "</table>\n",
       "</div>"
      ],
      "text/plain": [
       "year   2008  2009  2010  2011  2012  2013  2014  2015  2016   2017   2018  \\\n",
       "month                                                                       \n",
       "1       1.0   0.0   0.0   0.0   0.0   0.0   2.0   1.0  43.0   72.0  129.0   \n",
       "2       1.0   0.0   0.0   0.0   1.0   0.0   2.0   4.0  15.0   82.0   87.0   \n",
       "3       0.0   0.0   0.0   0.0   0.0   1.0   0.0   5.0  17.0  125.0  173.0   \n",
       "4       0.0   0.0   0.0   0.0   0.0   0.0   2.0   5.0  22.0   93.0  115.0   \n",
       "5       0.0   1.0   0.0   1.0   0.0   0.0   0.0   6.0  13.0   86.0   97.0   \n",
       "6       0.0   0.0   0.0   0.0   0.0   0.0   1.0   6.0  18.0   94.0   78.0   \n",
       "7       0.0   0.0   0.0   0.0   0.0   0.0   1.0   7.0  28.0   79.0  152.0   \n",
       "8       0.0   0.0   0.0   0.0   0.0   1.0   1.0   2.0  34.0  115.0  164.0   \n",
       "9       0.0   0.0   0.0   1.0   0.0   2.0   1.0   7.0  48.0  113.0  124.0   \n",
       "10      0.0   0.0   0.0  11.0   0.0   3.0   4.0  14.0  51.0  126.0  191.0   \n",
       "11      0.0   1.0   1.0   0.0   1.0   2.0   4.0   4.0  44.0   85.0  154.0   \n",
       "12      0.0   0.0   0.0   0.0   1.0   2.0   6.0  21.0  96.0  118.0  185.0   \n",
       "\n",
       "year    2019   2020   2021  \n",
       "month                       \n",
       "1      153.0  205.0  132.0  \n",
       "2      148.0  114.0  109.0  \n",
       "3      172.0  137.0  112.0  \n",
       "4      162.0  177.0  188.0  \n",
       "5      139.0  157.0  132.0  \n",
       "6      168.0  156.0  207.0  \n",
       "7      157.0  146.0  257.0  \n",
       "8      131.0  129.0  178.0  \n",
       "9      123.0  168.0  183.0  \n",
       "10     193.0  167.0    0.0  \n",
       "11     255.0  154.0    0.0  \n",
       "12     215.0  169.0    0.0  "
      ]
     },
     "execution_count": 69,
     "metadata": {},
     "output_type": "execute_result"
    }
   ],
   "source": [
    "netflix['month'] = netflix['date_added'].dt.month.fillna(0).astype(int)\n",
    "netflix['year'] = netflix['date_added'].dt.year.fillna(0).astype(int)\n",
    "\n",
    "netflix_date = netflix[(netflix['month'] != 0) & (netflix['year'] != 0)]\\\n",
    ".groupby('month').year.value_counts().unstack().fillna(0)\n",
    "\n",
    "netflix_date"
   ]
  },
  {
   "cell_type": "code",
   "execution_count": 121,
   "id": "7d8ccc31",
   "metadata": {},
   "outputs": [
    {
     "data": {
      "image/png": "[encoded data removed]",
      "text/plain": [
       "<Figure size 1080x864 with 2 Axes>"
      ]
     },
     "metadata": {
      "needs_background": "light"
     },
     "output_type": "display_data"
    },
    {
     "data": {
      "text/plain": [
       "<Figure size 432x288 with 0 Axes>"
      ]
     },
     "metadata": {},
     "output_type": "display_data"
    }
   ],
   "source": [
    "net_pal_ext = ['#ffe6e6', '#ff3333', '#E50914', '#B00710','#660000', '#303030', '#000000']\n",
    "\n",
    "fig, ax = plt.subplots(figsize=(15, 12))\n",
    "sns.heatmap(netflix_date, cmap = net_pal_ext)\n",
    "plt.title('Netflix releases by month')\n",
    "plt.savefig(\"Netflix releases by month.png\")\n",
    "plt.show()\n",
    "plt.clf()"
   ]
  },
  {
   "cell_type": "markdown",
   "id": "3dc7bf5a",
   "metadata": {},
   "source": [
    "In general, according to the heatmap, from october to january are the months when more content is realease. However, the last 2 years, 2020 and 2021, we can see an increase in the content realeased during spring and early summer months."
   ]
  },
  {
   "cell_type": "markdown",
   "id": "1e07da06",
   "metadata": {},
   "source": [
    "#### Content by genre<a class=\"anchor\" id=\"section3_5\"></a>\n",
    "\n",
    "Finally, our last chart will analyze the netfilz content by genre. "
   ]
  },
  {
   "cell_type": "code",
   "execution_count": 114,
   "id": "427e4df3",
   "metadata": {
    "scrolled": true
   },
   "outputs": [
    {
     "data": {
      "text/html": [
       "<div>\n",
       "<style scoped>\n",
       "    .dataframe tbody tr th:only-of-type {\n",
       "        vertical-align: middle;\n",
       "    }\n",
       "\n",
       "    .dataframe tbody tr th {\n",
       "        vertical-align: top;\n",
       "    }\n",
       "\n",
       "    .dataframe thead th {\n",
       "        text-align: right;\n",
       "    }\n",
       "</style>\n",
       "<table border=\"1\" class=\"dataframe\">\n",
       "  <thead>\n",
       "    <tr style=\"text-align: right;\">\n",
       "      <th></th>\n",
       "      <th>index</th>\n",
       "      <th>genre</th>\n",
       "      <th>count</th>\n",
       "    </tr>\n",
       "  </thead>\n",
       "  <tbody>\n",
       "    <tr>\n",
       "      <th>0</th>\n",
       "      <td>35</td>\n",
       "      <td>TVShows</td>\n",
       "      <td>16</td>\n",
       "    </tr>\n",
       "    <tr>\n",
       "      <th>1</th>\n",
       "      <td>41</td>\n",
       "      <td>Classic&amp;CultTV</td>\n",
       "      <td>28</td>\n",
       "    </tr>\n",
       "    <tr>\n",
       "      <th>2</th>\n",
       "      <td>40</td>\n",
       "      <td>Stand-UpComedy&amp;TalkShows</td>\n",
       "      <td>56</td>\n",
       "    </tr>\n",
       "    <tr>\n",
       "      <th>3</th>\n",
       "      <td>39</td>\n",
       "      <td>Movies</td>\n",
       "      <td>57</td>\n",
       "    </tr>\n",
       "    <tr>\n",
       "      <th>4</th>\n",
       "      <td>23</td>\n",
       "      <td>TVThrillers</td>\n",
       "      <td>57</td>\n",
       "    </tr>\n",
       "    <tr>\n",
       "      <th>5</th>\n",
       "      <td>36</td>\n",
       "      <td>Faith&amp;Spirituality</td>\n",
       "      <td>65</td>\n",
       "    </tr>\n",
       "    <tr>\n",
       "      <th>6</th>\n",
       "      <td>33</td>\n",
       "      <td>TeenTVShows</td>\n",
       "      <td>69</td>\n",
       "    </tr>\n",
       "    <tr>\n",
       "      <th>7</th>\n",
       "      <td>34</td>\n",
       "      <td>CultMovies</td>\n",
       "      <td>71</td>\n",
       "    </tr>\n",
       "    <tr>\n",
       "      <th>8</th>\n",
       "      <td>28</td>\n",
       "      <td>AnimeFeatures</td>\n",
       "      <td>71</td>\n",
       "    </tr>\n",
       "    <tr>\n",
       "      <th>9</th>\n",
       "      <td>10</td>\n",
       "      <td>TVHorror</td>\n",
       "      <td>75</td>\n",
       "    </tr>\n",
       "    <tr>\n",
       "      <th>10</th>\n",
       "      <td>26</td>\n",
       "      <td>TVSci-Fi&amp;Fantasy</td>\n",
       "      <td>84</td>\n",
       "    </tr>\n",
       "    <tr>\n",
       "      <th>11</th>\n",
       "      <td>32</td>\n",
       "      <td>Science&amp;NatureTV</td>\n",
       "      <td>92</td>\n",
       "    </tr>\n",
       "    <tr>\n",
       "      <th>12</th>\n",
       "      <td>3</td>\n",
       "      <td>TVMysteries</td>\n",
       "      <td>98</td>\n",
       "    </tr>\n",
       "    <tr>\n",
       "      <th>13</th>\n",
       "      <td>37</td>\n",
       "      <td>LGBTQMovies</td>\n",
       "      <td>102</td>\n",
       "    </tr>\n",
       "    <tr>\n",
       "      <th>14</th>\n",
       "      <td>27</td>\n",
       "      <td>ClassicMovies</td>\n",
       "      <td>116</td>\n",
       "    </tr>\n",
       "    <tr>\n",
       "      <th>15</th>\n",
       "      <td>31</td>\n",
       "      <td>KoreanTVShows</td>\n",
       "      <td>151</td>\n",
       "    </tr>\n",
       "    <tr>\n",
       "      <th>16</th>\n",
       "      <td>5</td>\n",
       "      <td>TVAction&amp;Adventure</td>\n",
       "      <td>168</td>\n",
       "    </tr>\n",
       "    <tr>\n",
       "      <th>17</th>\n",
       "      <td>17</td>\n",
       "      <td>Spanish-LanguageTVShows</td>\n",
       "      <td>174</td>\n",
       "    </tr>\n",
       "    <tr>\n",
       "      <th>18</th>\n",
       "      <td>30</td>\n",
       "      <td>AnimeSeries</td>\n",
       "      <td>176</td>\n",
       "    </tr>\n",
       "    <tr>\n",
       "      <th>19</th>\n",
       "      <td>29</td>\n",
       "      <td>SportsMovies</td>\n",
       "      <td>219</td>\n",
       "    </tr>\n",
       "    <tr>\n",
       "      <th>20</th>\n",
       "      <td>22</td>\n",
       "      <td>Sci-Fi&amp;Fantasy</td>\n",
       "      <td>243</td>\n",
       "    </tr>\n",
       "    <tr>\n",
       "      <th>21</th>\n",
       "      <td>15</td>\n",
       "      <td>BritishTVShows</td>\n",
       "      <td>253</td>\n",
       "    </tr>\n",
       "    <tr>\n",
       "      <th>22</th>\n",
       "      <td>7</td>\n",
       "      <td>RealityTV</td>\n",
       "      <td>255</td>\n",
       "    </tr>\n",
       "    <tr>\n",
       "      <th>23</th>\n",
       "      <td>38</td>\n",
       "      <td>Stand-UpComedy</td>\n",
       "      <td>343</td>\n",
       "    </tr>\n",
       "    <tr>\n",
       "      <th>24</th>\n",
       "      <td>21</td>\n",
       "      <td>HorrorMovies</td>\n",
       "      <td>357</td>\n",
       "    </tr>\n",
       "    <tr>\n",
       "      <th>25</th>\n",
       "      <td>8</td>\n",
       "      <td>RomanticTVShows</td>\n",
       "      <td>370</td>\n",
       "    </tr>\n",
       "    <tr>\n",
       "      <th>26</th>\n",
       "      <td>20</td>\n",
       "      <td>Music&amp;Musicals</td>\n",
       "      <td>375</td>\n",
       "    </tr>\n",
       "    <tr>\n",
       "      <th>27</th>\n",
       "      <td>6</td>\n",
       "      <td>Docuseries</td>\n",
       "      <td>395</td>\n",
       "    </tr>\n",
       "    <tr>\n",
       "      <th>28</th>\n",
       "      <td>24</td>\n",
       "      <td>Kids'TV</td>\n",
       "      <td>451</td>\n",
       "    </tr>\n",
       "    <tr>\n",
       "      <th>29</th>\n",
       "      <td>4</td>\n",
       "      <td>CrimeTVShows</td>\n",
       "      <td>470</td>\n",
       "    </tr>\n",
       "    <tr>\n",
       "      <th>30</th>\n",
       "      <td>18</td>\n",
       "      <td>Thrillers</td>\n",
       "      <td>577</td>\n",
       "    </tr>\n",
       "    <tr>\n",
       "      <th>31</th>\n",
       "      <td>9</td>\n",
       "      <td>TVComedies</td>\n",
       "      <td>581</td>\n",
       "    </tr>\n",
       "    <tr>\n",
       "      <th>32</th>\n",
       "      <td>19</td>\n",
       "      <td>RomanticMovies</td>\n",
       "      <td>616</td>\n",
       "    </tr>\n",
       "    <tr>\n",
       "      <th>33</th>\n",
       "      <td>11</td>\n",
       "      <td>Children&amp;FamilyMovies</td>\n",
       "      <td>641</td>\n",
       "    </tr>\n",
       "    <tr>\n",
       "      <th>34</th>\n",
       "      <td>13</td>\n",
       "      <td>IndependentMovies</td>\n",
       "      <td>756</td>\n",
       "    </tr>\n",
       "    <tr>\n",
       "      <th>35</th>\n",
       "      <td>2</td>\n",
       "      <td>TVDramas</td>\n",
       "      <td>763</td>\n",
       "    </tr>\n",
       "    <tr>\n",
       "      <th>36</th>\n",
       "      <td>25</td>\n",
       "      <td>Action&amp;Adventure</td>\n",
       "      <td>859</td>\n",
       "    </tr>\n",
       "    <tr>\n",
       "      <th>37</th>\n",
       "      <td>0</td>\n",
       "      <td>Documentaries</td>\n",
       "      <td>869</td>\n",
       "    </tr>\n",
       "    <tr>\n",
       "      <th>38</th>\n",
       "      <td>1</td>\n",
       "      <td>InternationalTVShows</td>\n",
       "      <td>1351</td>\n",
       "    </tr>\n",
       "    <tr>\n",
       "      <th>39</th>\n",
       "      <td>16</td>\n",
       "      <td>Comedies</td>\n",
       "      <td>1674</td>\n",
       "    </tr>\n",
       "    <tr>\n",
       "      <th>40</th>\n",
       "      <td>12</td>\n",
       "      <td>Dramas</td>\n",
       "      <td>2427</td>\n",
       "    </tr>\n",
       "    <tr>\n",
       "      <th>41</th>\n",
       "      <td>14</td>\n",
       "      <td>InternationalMovies</td>\n",
       "      <td>2752</td>\n",
       "    </tr>\n",
       "  </tbody>\n",
       "</table>\n",
       "</div>"
      ],
      "text/plain": [
       "    index                     genre  count\n",
       "0      35                   TVShows     16\n",
       "1      41            Classic&CultTV     28\n",
       "2      40  Stand-UpComedy&TalkShows     56\n",
       "3      39                    Movies     57\n",
       "4      23               TVThrillers     57\n",
       "5      36        Faith&Spirituality     65\n",
       "6      33               TeenTVShows     69\n",
       "7      34                CultMovies     71\n",
       "8      28             AnimeFeatures     71\n",
       "9      10                  TVHorror     75\n",
       "10     26          TVSci-Fi&Fantasy     84\n",
       "11     32          Science&NatureTV     92\n",
       "12      3               TVMysteries     98\n",
       "13     37               LGBTQMovies    102\n",
       "14     27             ClassicMovies    116\n",
       "15     31             KoreanTVShows    151\n",
       "16      5        TVAction&Adventure    168\n",
       "17     17   Spanish-LanguageTVShows    174\n",
       "18     30               AnimeSeries    176\n",
       "19     29              SportsMovies    219\n",
       "20     22            Sci-Fi&Fantasy    243\n",
       "21     15            BritishTVShows    253\n",
       "22      7                 RealityTV    255\n",
       "23     38            Stand-UpComedy    343\n",
       "24     21              HorrorMovies    357\n",
       "25      8           RomanticTVShows    370\n",
       "26     20            Music&Musicals    375\n",
       "27      6                Docuseries    395\n",
       "28     24                   Kids'TV    451\n",
       "29      4              CrimeTVShows    470\n",
       "30     18                 Thrillers    577\n",
       "31      9                TVComedies    581\n",
       "32     19            RomanticMovies    616\n",
       "33     11     Children&FamilyMovies    641\n",
       "34     13         IndependentMovies    756\n",
       "35      2                  TVDramas    763\n",
       "36     25          Action&Adventure    859\n",
       "37      0             Documentaries    869\n",
       "38      1      InternationalTVShows   1351\n",
       "39     16                  Comedies   1674\n",
       "40     12                    Dramas   2427\n",
       "41     14       InternationalMovies   2752"
      ]
     },
     "execution_count": 114,
     "metadata": {},
     "output_type": "execute_result"
    }
   ],
   "source": [
    "from collections import Counter\n",
    "\n",
    "genres_byrow = list(netflix['listed_in'])\n",
    "genres = []\n",
    "\n",
    "for genre in genres_byrow:\n",
    "    genre = list(genre.split(','))\n",
    "    for i in genre:\n",
    "        genres.append(i.replace(' ',\"\"))\n",
    "\n",
    "g=Counter(genres)\n",
    "\n",
    "genres_df = pd.DataFrame.from_dict(g, orient='index').reset_index()\n",
    "genres_df = genres_df.rename(columns={'index':'genre', 0:'count'})\n",
    "genres_df = genres_df.sort_values(by='count').reset_index()\n",
    "\n",
    "genres_df"
   ]
  },
  {
   "cell_type": "code",
   "execution_count": 122,
   "id": "fc23d092",
   "metadata": {},
   "outputs": [
    {
     "data": {
      "image/png": "[encoded data removed]",
      "text/plain": [
       "<Figure size 1080x864 with 1 Axes>"
      ]
     },
     "metadata": {
      "needs_background": "light"
     },
     "output_type": "display_data"
    },
    {
     "data": {
      "text/plain": [
       "<Figure size 432x288 with 0 Axes>"
      ]
     },
     "metadata": {},
     "output_type": "display_data"
    }
   ],
   "source": [
    "fig, ax = plt.subplots(figsize=(15, 12))\n",
    "plt.hlines(y = genres_df['genre'], xmin = 0, xmax = genres_df['count'], color = '#E50914')\n",
    "plt.plot(genres_df['count'], genres_df['genre'], \"ok\")\n",
    "ax.set_xlim(0)\n",
    "plt.xlabel('Count')\n",
    "plt.ylabel('Genre')\n",
    "plt.title('Content by genre')\n",
    "plt.savefig(\"Content by genre.png\")\n",
    "plt.show()\n",
    "plt.clf()"
   ]
  },
  {
   "cell_type": "markdown",
   "id": "c0b13eee",
   "metadata": {},
   "source": [
    "Most of the Netflix content is included withing the genres \"International Movies\", \"Dramas\" or \"Comedies\"."
   ]
  },
  {
   "cell_type": "markdown",
   "id": "e22b292b",
   "metadata": {},
   "source": [
    "### Future analysis <a class=\"anchor\" id=\"conclusion\"></a>\n",
    "\n",
    "We have focused the analyses on the different content available on Netflix. However, for future analysis, it will be interesting to do an analysis on the content focus on gender, for example, merging a dataset that included the Bechdel scores, gender of directors and main characters and profit of the movies. "
   ]
  },
  {
   "cell_type": "code",
   "execution_count": null,
   "id": "b8884fff",
   "metadata": {},
   "outputs": [],
   "source": []
  }
 ],
 "metadata": {
  "kernelspec": {
   "display_name": "Python 3 (ipykernel)",
   "language": "python",
   "name": "python3"
  },
  "language_info": {
   "codemirror_mode": {
    "name": "ipython",
    "version": 3
   },
   "file_extension": ".py",
   "mimetype": "text/x-python",
   "name": "python",
   "nbconvert_exporter": "python",
   "pygments_lexer": "ipython3",
   "version": "3.8.8"
  }
 },
 "nbformat": 4,
 "nbformat_minor": 5
}
