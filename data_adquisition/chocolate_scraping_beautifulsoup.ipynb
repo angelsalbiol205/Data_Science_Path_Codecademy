{
 "cells": [
  {
   "cell_type": "code",
   "execution_count": 2,
   "id": "704649f7-153a-495e-85a3-2d8ac91ad14b",
   "metadata": {},
   "outputs": [],
   "source": [
    "import seaborn\n",
    "from bs4 import BeautifulSoup\n",
    "import requests\n",
    "import pandas as pd\n",
    "import matplotlib.pyplot as plt\n",
    "import numpy as np"
   ]
  },
  {
   "cell_type": "markdown",
   "id": "7b9112c9-2362-4925-a2de-173026ed4718",
   "metadata": {},
   "source": [
    "Let’s make a request to this site to get the raw HTML, which we can later turn into a BeautifulSoup object.\n",
    "\n",
    "The URL is:\n",
    "https://content.codecademy.com/courses/beautifulsoup/cacao/index.html\n",
    "\n",
    "You can pass this into the .get() method of the requests module to get the HTML."
   ]
  },
  {
   "cell_type": "code",
   "execution_count": 3,
   "id": "7fb39a26-47bd-4a2f-964f-df28d93b9e0d",
   "metadata": {},
   "outputs": [],
   "source": [
    "webpage = requests.get(\"https://content.codecademy.com/courses/beautifulsoup/cacao/index.html\")"
   ]
  },
  {
   "cell_type": "markdown",
   "id": "d9fc0e2f-7691-4099-b9c2-20505d71bf6a",
   "metadata": {},
   "source": [
    "Create a BeautifulSoup object called soup to traverse this HTML.\n",
    "\n",
    "Use \"html.parser\" as the parser, and the content of the response you got from your request as the document."
   ]
  },
  {
   "cell_type": "code",
   "execution_count": 4,
   "id": "af19d93a-ac15-4dad-9472-d7dfef8eca1b",
   "metadata": {},
   "outputs": [],
   "source": [
    "soup = BeautifulSoup(webpage.content, \"html.parser\")"
   ]
  },
  {
   "cell_type": "markdown",
   "id": "7c32b949-f822-4ba1-8c9c-b2a68b17315e",
   "metadata": {},
   "source": [
    "How many terrible chocolate bars are out there? And how many earned a perfect 5? Let’s make a histogram of this data.\n",
    "\n",
    "The first thing to do is to put all of the ratings into a list.\n",
    "\n",
    "Use a command on the soup object to get all of the tags that contain the ratings.\n",
    "\n",
    "Create an empty list called ratings to store all the ratings in."
   ]
  },
  {
   "cell_type": "code",
   "execution_count": 29,
   "id": "024476e1-b63a-4ec3-a424-aae674ccb68b",
   "metadata": {},
   "outputs": [],
   "source": [
    "ratings_tags = soup.find_all(attrs={\"class\": \"Rating\"})\n",
    "ratings= []"
   ]
  },
  {
   "cell_type": "markdown",
   "id": "fb13d7cf-b023-4ed9-bf00-2c2e7d2e7fb0",
   "metadata": {},
   "source": [
    "Loop through the ratings tags and get the text contained in each one. Add it to the ratings list.\n",
    "\n",
    "As you do this, convert the rating to a float, so that the ratings list will be numerical. This should help with calculations later."
   ]
  },
  {
   "cell_type": "code",
   "execution_count": 30,
   "id": "f7d904d2-0f25-4a88-b367-956291b748c6",
   "metadata": {
    "scrolled": true,
    "tags": []
   },
   "outputs": [
    {
     "name": "stdout",
     "output_type": "stream",
     "text": [
      "[3.75, 2.75, 3.0, 3.5, 3.5, 2.75, 3.5, 3.5, 3.75, 4.0, 2.75, 3.0, 3.25, 3.75, 2.75, 3.0, 3.25, 4.0, 3.25, 3.5, 4.0, 3.5, 3.75, 3.75, 3.75, 2.75, 3.25, 3.5, 3.5, 2.75, 3.0, 3.0, 3.75, 2.75, 2.75, 2.75, 2.75, 3.0, 2.5, 2.5, 3.5, 3.5, 3.5, 3.5, 2.75, 3.0, 2.5, 2.5, 2.75, 2.5, 3.0, 3.25, 3.0, 3.25, 4.0, 3.75, 4.0, 3.0, 3.0, 2.75, 3.5, 3.0, 3.75, 3.0, 2.75, 2.75, 3.0, 3.25, 3.5, 3.0, 3.25, 3.25, 3.25, 3.25, 3.5, 3.75, 4.0, 4.0, 5.0, 3.0, 3.0, 3.5, 3.75, 4.0, 3.5, 3.5, 5.0, 4.0, 3.25, 2.75, 3.75, 3.75, 4.0, 3.0, 3.5, 3.0, 2.5, 2.75, 3.0, 3.5, 3.75, 3.5, 3.25, 3.25, 3.5, 3.75, 3.5, 4.0, 4.0, 3.75, 3.25, 3.25, 3.5, 3.5, 3.75, 3.5, 3.75, 4.0, 2.75, 3.25, 3.5, 3.25, 3.75, 4.0, 2.75, 1.75, 3.75, 3.25, 3.25, 3.5, 2.5, 2.75, 1.75, 3.0, 3.0, 3.25, 3.75, 2.75, 3.75, 3.75, 3.75, 3.75, 2.5, 3.0, 3.25, 3.5, 3.0, 2.5, 2.5, 2.75, 3.5, 3.5, 4.0, 3.25, 3.5, 3.75, 2.75, 3.5, 3.75, 3.25, 3.0, 3.25, 2.75, 2.75, 2.75, 2.75, 2.75, 2.75, 2.75, 3.5, 3.5, 3.25, 3.5, 2.75, 3.0, 3.5, 3.5, 3.5, 3.5, 4.0, 4.0, 3.75, 2.75, 3.0, 3.0, 3.5, 4.0, 3.25, 3.25, 3.5, 3.5, 2.5, 2.5, 2.5, 3.25, 3.5, 3.25, 3.75, 2.75, 3.0, 3.0, 3.0, 3.5, 3.25, 3.5, 3.0, 3.5, 3.75, 3.0, 2.75, 2.75, 3.0, 2.75, 3.5, 2.75, 3.5, 2.75, 3.5, 3.0, 3.5, 3.75, 3.5, 4.0, 3.25, 3.75, 3.5, 3.25, 3.5, 3.5, 3.5, 3.75, 4.0, 4.0, 3.5, 3.25, 3.0, 2.75, 3.0, 3.0, 4.0, 2.5, 3.75, 4.0, 4.0, 4.0, 1.5, 3.0, 4.0, 3.25, 1.5, 2.75, 2.75, 3.5, 3.75, 3.75, 3.75, 4.0, 3.0, 3.25, 3.5, 3.5, 3.0, 3.25, 3.5, 2.75, 3.25, 3.25, 3.0, 3.0, 3.5, 3.5, 2.75, 3.25, 2.75, 3.25, 3.5, 3.25, 3.25, 2.5, 2.5, 2.5, 2.5, 2.75, 2.25, 3.5, 3.0, 2.0, 2.0, 3.0, 3.5, 3.25, 2.5, 3.25, 3.5, 3.75, 3.25, 3.75, 3.75, 3.75, 3.5, 3.5, 2.75, 3.25, 3.5, 3.75, 3.0, 3.75, 3.25, 3.5, 3.5, 3.75, 4.0, 3.25, 3.5, 3.5, 4.0, 4.0, 3.0, 3.25, 3.5, 3.25, 3.5, 3.5, 2.5, 1.5, 2.75, 1.0, 2.5, 3.0, 3.5, 3.5, 3.0, 2.25, 2.5, 2.5, 2.75, 3.0, 3.0, 3.25, 2.0, 2.5, 2.75, 3.0, 3.25, 3.5, 3.5, 3.75, 3.5, 3.25, 3.5, 3.0, 2.75, 3.0, 3.25, 3.25, 3.5, 3.5, 4.0, 3.5, 3.75, 3.5, 3.5, 3.5, 2.75, 3.0, 3.5, 2.5, 3.25, 3.25, 2.75, 3.0, 2.5, 2.75, 2.75, 3.0, 2.75, 2.75, 3.25, 2.75, 3.0, 3.5, 3.5, 3.25, 3.0, 3.25, 2.75, 3.5, 2.5, 2.75, 2.5, 3.75, 3.75, 2.5, 2.5, 2.5, 2.75, 3.0, 3.0, 3.0, 3.25, 2.75, 2.75, 3.25, 3.5, 3.75, 3.75, 3.75, 3.75, 2.5, 2.75, 3.25, 2.5, 3.0, 3.25, 3.25, 3.5, 3.25, 3.25, 3.5, 2.5, 2.5, 3.0, 2.5, 2.5, 2.5, 2.75, 3.0, 3.0, 3.0, 2.75, 3.25, 3.75, 3.0, 2.75, 3.75, 3.0, 4.0, 1.0, 3.5, 3.0, 3.25, 2.75, 3.25, 3.75, 2.75, 3.5, 2.75, 3.25, 3.5, 1.5, 3.75, 3.5, 3.25, 3.0, 2.5, 3.0, 3.25, 3.25, 3.0, 3.25, 3.5, 3.75, 3.0, 3.0, 3.0, 1.0, 2.5, 2.75, 3.25, 3.25, 3.25, 3.25, 3.5, 3.25, 3.75, 2.75, 3.25, 2.75, 3.0, 3.5, 2.25, 2.75, 3.75, 3.0, 3.5, 3.5, 2.75, 3.75, 2.75, 3.25, 3.5, 3.5, 3.0, 3.25, 3.75, 3.25, 3.25, 3.25, 3.25, 3.0, 3.75, 3.75, 4.0, 3.25, 3.5, 3.0, 3.25, 2.75, 3.0, 3.25, 3.25, 3.0, 3.25, 3.0, 3.25, 2.5, 2.75, 2.75, 3.25, 3.5, 3.5, 2.5, 3.0, 2.5, 3.0, 3.0, 3.0, 3.0, 3.0, 3.0, 3.75, 2.5, 2.75, 3.5, 3.5, 3.75, 3.5, 3.75, 3.5, 3.25, 3.5, 2.75, 2.75, 2.75, 3.0, 2.75, 3.0, 3.25, 3.0, 3.25, 3.25, 3.5, 3.75, 3.0, 1.5, 3.75, 3.75, 3.0, 3.5, 3.75, 3.5, 3.0, 3.0, 3.0, 3.5, 3.75, 4.0, 3.25, 3.25, 3.5, 3.5, 3.75, 4.0, 4.0, 3.0, 3.25, 3.5, 2.75, 2.5, 2.75, 2.75, 4.0, 3.5, 3.75, 3.75, 3.75, 3.5, 3.0, 3.25, 3.5, 3.5, 3.75, 2.5, 3.75, 3.25, 2.75, 3.5, 3.5, 3.25, 3.25, 4.0, 3.25, 3.5, 3.75, 3.25, 3.25, 2.75, 3.0, 3.75, 2.75, 3.75, 2.75, 3.0, 2.5, 2.5, 3.0, 2.75, 2.75, 3.25, 3.0, 3.5, 3.25, 3.25, 3.25, 3.0, 3.25, 2.75, 2.0, 3.5, 2.75, 3.0, 2.5, 2.5, 2.5, 2.75, 2.5, 3.0, 3.5, 3.75, 2.75, 3.0, 2.5, 2.75, 3.5, 2.0, 3.0, 3.0, 3.0, 3.5, 4.0, 2.25, 3.0, 3.25, 2.5, 2.75, 2.75, 2.75, 2.75, 3.5, 3.75, 3.5, 3.75, 3.75, 3.5, 3.5, 3.5, 3.0, 3.5, 3.5, 3.5, 3.5, 3.0, 3.25, 3.5, 2.5, 3.5, 2.0, 3.5, 3.5, 3.0, 3.5, 3.5, 3.5, 3.25, 3.75, 3.75, 4.0, 3.5, 3.5, 4.0, 4.0, 3.0, 2.75, 3.25, 3.5, 3.5, 2.75, 3.25, 3.0, 3.25, 4.0, 2.75, 3.0, 3.25, 3.5, 3.5, 3.0, 3.25, 3.5, 3.25, 3.5, 3.25, 3.25, 3.25, 3.75, 3.25, 3.5, 3.5, 3.75, 4.0, 3.75, 3.0, 3.75, 3.0, 2.5, 3.25, 3.0, 2.5, 3.25, 4.0, 3.5, 3.5, 3.5, 3.5, 3.0, 2.75, 3.25, 3.25, 3.0, 2.5, 3.5, 3.25, 2.75, 2.5, 3.0, 3.0, 3.0, 3.0, 3.25, 3.75, 2.75, 2.75, 3.25, 3.5, 2.75, 3.25, 3.25, 3.0, 3.0, 3.0, 3.5, 3.0, 3.0, 3.5, 3.5, 3.0, 2.5, 3.5, 3.5, 3.5, 3.0, 2.75, 2.75, 3.25, 3.5, 2.75, 3.0, 3.0, 3.25, 2.0, 2.5, 2.75, 3.0, 3.0, 3.25, 3.0, 3.5, 3.5, 2.75, 3.25, 3.5, 3.5, 3.0, 3.75, 3.75, 3.5, 3.5, 3.5, 3.75, 4.0, 2.75, 3.5, 2.75, 3.0, 3.0, 3.25, 3.25, 2.75, 2.75, 3.25, 3.5, 2.0, 2.5, 3.0, 3.25, 3.5, 2.75, 3.5, 3.5, 3.5, 3.5, 2.5, 2.75, 3.5, 3.75, 2.5, 2.75, 4.0, 1.75, 3.0, 3.5, 3.0, 3.0, 3.5, 2.75, 2.5, 2.75, 3.5, 3.0, 3.0, 3.25, 2.75, 3.0, 2.75, 3.0, 2.5, 2.75, 3.0, 3.5, 3.0, 3.0, 3.0, 3.75, 3.5, 3.25, 3.75, 3.75, 3.75, 3.75, 3.25, 3.75, 4.0, 3.5, 4.0, 4.0, 4.0, 2.5, 3.25, 2.75, 3.0, 2.75, 3.0, 3.5, 2.25, 3.25, 3.25, 3.5, 2.75, 2.0, 2.75, 3.5, 3.5, 4.0, 3.5, 3.0, 3.25, 3.25, 2.5, 3.75, 3.0, 3.5, 2.75, 2.5, 2.75, 3.0, 2.5, 3.0, 2.75, 2.75, 3.75, 2.0, 3.0, 2.5, 2.75, 3.0, 3.25, 3.25, 3.25, 3.25, 3.25, 2.75, 3.75, 3.75, 2.5, 3.0, 2.5, 3.0, 3.25, 4.0, 3.75, 3.75, 3.25, 3.75, 3.0, 3.5, 3.0, 2.25, 2.5, 3.0, 3.0, 2.75, 3.25, 3.25, 3.5, 3.5, 3.25, 3.5, 3.0, 3.75, 3.5, 2.5, 3.25, 2.75, 2.75, 3.0, 3.25, 3.0, 3.5, 3.25, 3.75, 2.75, 2.75, 3.5, 2.5, 3.5, 3.0, 3.0, 3.0, 3.5, 3.25, 3.25, 3.25, 3.5, 3.0, 3.25, 3.5, 3.5, 3.5, 3.0, 3.5, 3.5, 3.75, 2.75, 3.0, 3.5, 3.0, 2.5, 3.75, 3.25, 3.75, 3.0, 3.0, 3.5, 2.0, 2.75, 3.0, 3.0, 3.5, 1.5, 2.25, 3.5, 3.75, 4.0, 3.5, 3.5, 2.75, 3.5, 2.75, 2.75, 3.25, 3.25, 3.5, 2.5, 2.75, 2.75, 2.0, 3.0, 3.25, 3.75, 2.0, 2.75, 3.5, 3.5, 3.5, 2.75, 3.0, 2.5, 2.5, 2.75, 3.75, 2.75, 3.5, 3.75, 3.75, 3.25, 2.75, 3.0, 3.25, 3.75, 3.5, 3.75, 3.5, 3.25, 3.5, 3.25, 3.25, 3.5, 3.5, 3.5, 2.75, 3.5, 3.5, 2.75, 3.0, 3.5, 3.0, 2.75, 3.0, 3.25, 3.25, 3.5, 3.75, 3.5, 3.5, 3.5, 3.5, 3.5, 3.0, 3.5, 3.0, 3.0, 3.25, 3.5, 2.25, 2.5, 2.75, 3.0, 3.25, 3.0, 3.25, 3.75, 3.5, 2.5, 2.75, 3.5, 3.0, 3.0, 2.75, 3.5, 2.75, 3.0, 3.25, 3.75, 2.75, 3.0, 3.25, 3.5, 4.0, 4.0, 3.75, 3.25, 3.25, 3.25, 3.5, 3.0, 2.5, 2.75, 3.0, 3.0, 3.5, 2.5, 2.5, 2.75, 3.0, 3.25, 3.5, 3.25, 3.5, 3.0, 3.5, 3.5, 3.75, 3.5, 3.5, 2.0, 2.0, 3.0, 4.0, 4.0, 4.0, 2.0, 3.5, 3.5, 3.75, 3.75, 3.25, 3.5, 2.5, 3.25, 1.5, 2.0, 2.5, 2.5, 3.5, 2.75, 2.75, 3.5, 3.75, 3.5, 2.5, 3.25, 3.0, 2.75, 3.0, 2.75, 3.25, 2.75, 2.75, 3.25, 3.5, 3.25, 3.25, 3.5, 3.5, 3.5, 3.5, 2.75, 2.75, 2.75, 3.0, 2.5, 3.0, 3.75, 3.75, 2.5, 3.25, 2.75, 3.0, 3.5, 2.25, 2.5, 2.5, 3.5, 2.5, 3.75, 1.0, 2.0, 2.75, 3.0, 2.25, 2.75, 3.0, 3.0, 2.75, 3.5, 3.0, 3.0, 3.25, 3.0, 3.0, 3.0, 2.75, 3.25, 3.75, 2.75, 3.0, 3.5, 3.75, 3.5, 2.5, 3.75, 3.75, 3.75, 4.0, 2.75, 3.5, 2.75, 3.0, 3.25, 3.5, 2.75, 3.0, 3.5, 3.0, 3.0, 2.75, 3.0, 2.0, 2.75, 2.75, 3.0, 2.75, 3.75, 3.0, 3.5, 2.75, 2.75, 2.75, 3.0, 3.0, 2.75, 3.25, 3.75, 3.0, 3.0, 3.25, 3.0, 3.0, 3.0, 3.0, 4.0, 3.25, 3.5, 3.75, 4.0, 2.75, 4.0, 3.5, 2.5, 2.75, 3.0, 2.0, 3.5, 2.75, 3.0, 3.25, 3.25, 3.5, 3.75, 2.75, 3.75, 2.75, 3.5, 3.75, 3.0, 3.5, 3.25, 3.5, 3.0, 3.5, 2.5, 2.75, 3.75, 4.0, 3.5, 3.5, 4.0, 4.0, 2.25, 2.75, 3.0, 3.25, 3.0, 3.25, 3.75, 3.0, 3.0, 3.0, 4.0, 3.75, 4.0, 3.5, 4.0, 3.0, 4.0, 2.5, 2.5, 2.75, 2.75, 2.75, 3.25, 3.25, 2.5, 3.25, 3.5, 2.5, 2.75, 3.75, 3.75, 3.5, 3.0, 2.75, 3.5, 3.75, 3.25, 3.25, 3.5, 2.0, 3.0, 3.0, 2.0, 3.5, 4.0, 3.0, 3.5, 3.5, 3.5, 3.75, 3.5, 3.5, 4.0, 3.0, 3.0, 3.25, 3.5, 4.0, 3.0, 3.0, 3.5, 3.5, 3.5, 3.5, 2.75, 2.75, 3.0, 3.25, 2.75, 2.75, 3.25, 3.5, 2.75, 3.25, 3.0, 3.25, 2.75, 3.0, 3.0, 2.75, 3.25, 3.5, 2.75, 3.0, 2.5, 3.25, 3.5, 3.25, 2.5, 3.25, 2.5, 3.0, 3.5, 3.75, 3.75, 3.5, 3.5, 3.75, 3.0, 4.0, 3.25, 3.5, 3.5, 3.25, 3.25, 3.25, 3.25, 3.25, 3.5, 3.75, 3.75, 3.25, 3.75, 3.5, 3.5, 4.0, 3.75, 3.75, 3.0, 3.75, 3.5, 2.75, 2.75, 2.75, 3.0, 2.5, 2.25, 2.5, 3.5, 2.5, 3.5, 2.75, 3.5, 1.5, 3.0, 3.5, 3.5, 2.75, 3.25, 3.5, 3.5, 3.5, 3.5, 2.75, 3.0, 2.0, 3.0, 4.0, 2.75, 4.0, 3.75, 3.5, 3.75, 3.75, 4.0, 3.75, 3.0, 3.0, 3.0, 3.75, 3.0, 2.0, 3.5, 2.0, 2.0, 3.0, 2.75, 2.75, 3.25, 3.5, 2.75, 3.5, 3.0, 3.25, 2.0, 2.5, 3.25, 3.5, 3.25, 3.5, 2.5, 3.0, 3.25, 3.25, 3.0, 3.5, 3.5, 3.75, 3.0, 3.0, 3.0, 3.25, 3.25, 3.75, 3.75, 3.75, 2.75, 3.0, 3.5, 3.75, 4.0, 3.75, 3.0, 3.75, 3.25, 3.25, 3.5, 3.75, 3.75, 4.0, 2.75, 3.5, 3.0, 3.75, 1.5, 3.0, 3.25, 3.5, 3.0, 2.75, 2.75, 3.25, 3.25, 3.0, 3.0, 3.0, 3.25, 3.25, 3.5, 3.5, 3.5, 3.5, 3.75, 3.75, 4.0, 3.25, 3.5, 4.0, 3.5, 3.75, 3.25, 3.5, 3.75, 3.25, 3.75, 3.25, 2.75, 3.75, 3.25, 3.75, 4.0, 4.0, 4.0, 3.25, 4.0, 3.25, 3.75, 4.0, 4.0, 3.5, 3.75, 3.5, 3.5, 2.75, 3.5, 4.0, 4.0, 3.75, 3.5, 3.75, 3.0, 3.5, 3.0, 3.5, 3.75, 3.75, 3.25, 3.5, 3.25, 3.5, 3.5, 3.25, 3.25, 3.5, 3.0, 3.0, 3.25, 3.75, 3.5, 2.75, 3.5, 3.75, 3.75, 2.75, 3.0, 3.0, 2.25, 3.0, 3.0, 3.0, 3.0, 3.0, 2.75, 3.25, 3.5, 3.5, 2.5, 2.5, 2.75, 2.75, 3.25, 2.5, 3.0, 2.75, 3.0, 2.75, 3.25, 3.25, 3.25, 3.75, 3.25, 3.5, 3.5, 3.75, 3.5, 3.5, 3.25, 3.25, 3.25, 3.75, 3.0, 2.75, 2.75, 2.5, 3.0, 3.0, 3.25, 3.25, 2.75, 3.25, 3.0, 3.25, 2.75, 3.0, 2.0, 3.25, 2.75, 3.0, 2.5, 2.5, 2.75, 2.5, 2.75, 3.0, 3.0, 3.5, 3.25, 2.0, 3.25, 2.75, 3.0, 3.25, 2.75, 3.0, 3.25, 3.5, 2.75, 3.75, 3.75, 3.25, 3.5, 3.75, 3.25, 3.75, 3.75, 3.0, 3.25, 3.5, 2.5, 3.0, 2.0, 3.0, 3.25, 3.75, 3.25, 4.0, 3.0, 2.75, 3.0, 3.0, 3.5, 2.75, 3.5, 3.5, 3.25, 2.5, 2.75, 3.0, 3.75, 2.75, 3.0, 3.0, 3.25, 3.25, 4.0, 3.5, 3.5, 4.0, 3.25, 4.0, 3.75, 3.75, 3.5, 3.0, 3.75, 4.0, 1.5, 2.5, 2.75, 3.25, 3.0, 4.0, 2.5, 3.0, 3.5, 2.5, 2.75, 2.75, 2.75, 2.75, 3.0, 3.0, 3.25, 3.25, 3.25, 3.25, 3.5, 3.5, 3.75, 3.25, 3.5, 3.0, 2.0, 2.0, 3.0, 3.0, 2.75, 3.0, 3.0, 3.25, 2.75, 2.5, 2.5, 3.0, 3.5, 3.5, 2.5, 2.5, 2.75, 3.25, 2.75, 4.0, 3.0, 2.25, 3.0, 3.5, 3.75, 3.0, 3.25, 3.0, 3.5, 3.75, 3.0, 3.25, 3.5, 2.5, 3.0, 3.25, 4.0, 3.5, 3.0, 2.75, 2.5, 3.0, 3.25, 3.25, 3.25, 3.5, 3.0, 3.5, 2.75, 2.75, 3.0, 3.5, 3.5, 3.75, 3.25, 3.5, 3.5, 3.75, 2.75, 3.5, 3.5, 3.0, 3.5, 3.75, 3.0, 3.0, 3.25, 3.75, 3.25, 3.5, 3.75, 3.0, 3.5, 3.25, 3.0]\n"
     ]
    }
   ],
   "source": [
    "for text in ratings_tags[1:]:\n",
    "    ratings.append(float(text.get_text()))\n",
    "print(ratings)"
   ]
  },
  {
   "cell_type": "markdown",
   "id": "d456ffd7-e6c3-4653-8db5-b2d2535c70eb",
   "metadata": {},
   "source": [
    "Using Matplotlib, create a histogram of the ratings values:\n",
    "\n",
    "plt.hist(ratings)\n",
    "Remember to show the plot using plt.show()!\n",
    "\n",
    "Your plot will show up at localhost in the web browser. You will have to navigate away from the cacao ratings webpage to see it."
   ]
  },
  {
   "cell_type": "code",
   "execution_count": 32,
   "id": "8c6a4f09-442d-4d51-aec9-a30f9346279f",
   "metadata": {},
   "outputs": [
    {
     "data": {
      "image/png": "[encoded data removed]",
      "text/plain": [
       "<Figure size 432x288 with 1 Axes>"
      ]
     },
     "metadata": {
      "needs_background": "light"
     },
     "output_type": "display_data"
    }
   ],
   "source": [
    "plt.hist(ratings)\n",
    "plt.show()"
   ]
  },
  {
   "cell_type": "markdown",
   "id": "90bed5f2-30e3-46b7-8f27-8d9d1107120f",
   "metadata": {},
   "source": [
    "We want to now find the 10 most highly rated chocolatiers. One way to do this is to make a DataFrame that has the chocolate companies in one column, and the ratings in another. Then, we can do a groupby to find the ones with the highest average rating.\n",
    "\n",
    "First, let’s find all the tags on the webpage that contain the company names."
   ]
  },
  {
   "cell_type": "code",
   "execution_count": 34,
   "id": "9691ca79-db03-4f32-b56d-4627e404ee76",
   "metadata": {},
   "outputs": [],
   "source": [
    "company_names_tags = soup.find_all(attrs={\"class\": \"Company\"})\n",
    "\n",
    "#also soup.select(\".Company\")"
   ]
  },
  {
   "cell_type": "markdown",
   "id": "f35e051f-88ef-4a84-98e1-f10938ebc2d3",
   "metadata": {},
   "source": [
    "Just like we did with ratings, we now want to make an empty list to hold company names.\n",
    "\n",
    "Loop through the tags containing company names, and add the text from each tag to the list you just created."
   ]
  },
  {
   "cell_type": "code",
   "execution_count": 35,
   "id": "18a5f567-7e5a-4cf4-9383-c601a3e57c73",
   "metadata": {
    "scrolled": true,
    "tags": []
   },
   "outputs": [
    {
     "name": "stdout",
     "output_type": "stream",
     "text": [
      "['A. Morin', 'A. Morin', 'A. Morin', 'A. Morin', 'A. Morin', 'A. Morin', 'A. Morin', 'A. Morin', 'A. Morin', 'A. Morin', 'A. Morin', 'A. Morin', 'A. Morin', 'A. Morin', 'A. Morin', 'A. Morin', 'A. Morin', 'A. Morin', 'A. Morin', 'A. Morin', 'A. Morin', 'A. Morin', 'A. Morin', 'Acalli', 'Acalli', 'Adi', 'Adi', 'Adi', 'Adi', 'Aequare (Gianduja)', 'Aequare (Gianduja)', 'Ah Cacao', \"Akesson's (Pralus)\", \"Akesson's (Pralus)\", \"Akesson's (Pralus)\", 'Alain Ducasse', 'Alain Ducasse', 'Alain Ducasse', 'Alain Ducasse', 'Alain Ducasse', 'Alexandre', 'Alexandre', 'Alexandre', 'Alexandre', 'Altus aka Cao Artisan', 'Altus aka Cao Artisan', 'Altus aka Cao Artisan', 'Altus aka Cao Artisan', 'Altus aka Cao Artisan', 'Altus aka Cao Artisan', 'Altus aka Cao Artisan', 'Altus aka Cao Artisan', 'Altus aka Cao Artisan', 'Altus aka Cao Artisan', 'Amano', 'Amano', 'Amano', 'Amano', 'Amano', 'Amano', 'Amano', 'Amano', 'Amano', 'Amatller (Simon Coll)', 'Amatller (Simon Coll)', 'Amatller (Simon Coll)', 'Amatller (Simon Coll)', 'Amazona', 'Amazona', 'Ambrosia', 'Ambrosia', 'Ambrosia', 'Ambrosia', 'Ambrosia', 'Ambrosia', 'Amedei', 'Amedei', 'Amedei', 'Amedei', 'Amedei', 'Amedei', 'Amedei', 'Amedei', 'Amedei', 'Amedei', 'Amedei', 'Amedei', 'Amedei', 'AMMA', 'AMMA', 'AMMA', 'AMMA', 'AMMA', 'Anahata', 'Animas', 'Ara', 'Ara', 'Ara', 'Ara', 'Arete', 'Arete', 'Arete', 'Arete', 'Arete', 'Arete', 'Arete', 'Arete', 'Arete', 'Arete', 'Arete', 'Arete', 'Arete', 'Arete', 'Arete', 'Arete', 'Arete', 'Arete', 'Arete', 'Arete', 'Arete', 'Arete', 'Artisan du Chocolat', 'Artisan du Chocolat', 'Artisan du Chocolat', 'Artisan du Chocolat', 'Artisan du Chocolat', 'Artisan du Chocolat', 'Artisan du Chocolat', 'Artisan du Chocolat', 'Artisan du Chocolat', 'Artisan du Chocolat', 'Artisan du Chocolat', 'Artisan du Chocolat', 'Artisan du Chocolat', 'Artisan du Chocolat', 'Artisan du Chocolat', 'Artisan du Chocolat', 'Artisan du Chocolat (Casa Luker)', 'Askinosie', 'Askinosie', 'Askinosie', 'Askinosie', 'Askinosie', 'Askinosie', 'Bahen & Co.', 'Bahen & Co.', 'Bahen & Co.', 'Bahen & Co.', 'Bahen & Co.', 'Bakau', 'Bakau', 'Bar Au Chocolat', 'Bar Au Chocolat', 'Bar Au Chocolat', 'Bar Au Chocolat', 'Bar Au Chocolat', \"Baravelli's\", 'Batch', 'Batch', 'Batch', 'Beau Cacao', 'Beau Cacao', 'Beehive', 'Beehive', 'Beehive', 'Beehive', 'Belcolade', 'Belcolade', 'Belcolade', 'Belcolade', 'Bellflower', 'Bellflower', 'Bellflower', 'Belyzium', 'Belyzium', 'Belyzium', 'Benoit Nihant', 'Benoit Nihant', 'Benoit Nihant', 'Benoit Nihant', 'Benoit Nihant', 'Benoit Nihant', 'Bernachon', 'Beschle (Felchlin)', 'Beschle (Felchlin)', 'Beschle (Felchlin)', 'Beschle (Felchlin)', 'Beschle (Felchlin)', 'Beschle (Felchlin)', 'Beschle (Felchlin)', 'Beschle (Felchlin)', 'Bisou', 'Bisou', 'Bisou', 'Bisou', 'Bittersweet Origins', 'Bittersweet Origins', 'Bittersweet Origins', 'Bittersweet Origins', 'Bittersweet Origins', 'Bittersweet Origins', 'Bittersweet Origins', 'Bittersweet Origins', 'Bittersweet Origins', 'Bittersweet Origins', 'Bittersweet Origins', 'Bittersweet Origins', 'Bittersweet Origins', 'Bittersweet Origins', 'Black Mountain', 'Black Mountain', 'Black Mountain', 'Black River (A. Morin)', 'Blanxart', 'Blanxart', 'Blue Bandana', 'Blue Bandana', 'Blue Bandana', 'Blue Bandana', 'Blue Bandana', 'Blue Bandana', 'Bonnat', 'Bonnat', 'Bonnat', 'Bonnat', 'Bonnat', 'Bonnat', 'Bonnat', 'Bonnat', 'Bonnat', 'Bonnat', 'Bonnat', 'Bonnat', 'Bonnat', 'Bonnat', 'Bonnat', 'Bonnat', 'Bonnat', 'Bonnat', 'Bonnat', 'Bonnat', 'Bonnat', 'Bonnat', 'Bonnat', 'Bonnat', 'Bonnat', 'Bonnat', 'Bonnat', 'Bouga Cacao (Tulicorp)', 'Bouga Cacao (Tulicorp)', 'Bowler Man', 'Bowler Man', \"Brasstown aka It's Chocolate\", \"Brasstown aka It's Chocolate\", \"Brasstown aka It's Chocolate\", \"Brasstown aka It's Chocolate\", \"Brasstown aka It's Chocolate\", \"Brasstown aka It's Chocolate\", \"Brasstown aka It's Chocolate\", \"Brasstown aka It's Chocolate\", \"Brasstown aka It's Chocolate\", 'Brazen', 'Brazen', 'Brazen', 'Brazen', 'Brazen', 'Brazen', 'Breeze Mill', 'Bright', 'Bright', 'Bright', 'Bright', 'Britarev', 'Bronx Grrl Chocolate', 'Burnt Fork Bend', 'Burnt Fork Bend', 'Burnt Fork Bend', 'Burnt Fork Bend', 'Burnt Fork Bend', 'Cacao Arabuco', 'Cacao Atlanta', 'Cacao Atlanta', 'Cacao Atlanta', 'Cacao Atlanta', 'Cacao Barry', 'Cacao Barry', 'Cacao Barry', 'Cacao Barry', 'Cacao Barry', 'Cacao de Origen', 'Cacao de Origen', 'Cacao de Origen', 'Cacao de Origen', 'Cacao de Origen', 'Cacao de Origen', 'Cacao de Origin', 'Cacao Hunters', 'Cacao Hunters', 'Cacao Hunters', 'Cacao Hunters', 'Cacao Hunters', 'Cacao Hunters', 'Cacao Hunters', 'Cacao Market', 'Cacao Prieto', 'Cacao Prieto', 'Cacao Prieto', 'Cacao Prieto', 'Cacao Sampaka', 'Cacao Sampaka', 'Cacao Sampaka', 'Cacao Sampaka', 'Cacao Sampaka', 'Cacao Sampaka', 'Cacao Sampaka', 'Cacao Sampaka', 'Cacao Sampaka', 'Cacao Store', 'Cacao Store', 'Cacao Store', 'Cacaosuyo (Theobroma Inversiones)', 'Cacaoyere (Ecuatoriana)', 'Cacaoyere (Ecuatoriana)', 'Cacaoyere (Ecuatoriana)', 'Cacaoyere (Ecuatoriana)', 'Callebaut', 'Callebaut', 'C-Amaro', 'C-Amaro', 'C-Amaro', 'C-Amaro', 'C-Amaro', 'C-Amaro', 'C-Amaro', 'Cao', 'Cao', 'Cao', 'Cao', 'Cao', 'Caoni (Tulicorp)', 'Caoni (Tulicorp)', 'Caoni (Tulicorp)', 'Caoni (Tulicorp)', 'Caoni (Tulicorp)', 'Caoni (Tulicorp)', 'Captain Pembleton', 'Captain Pembleton', 'Caribeans', 'Caribeans', 'Caribeans', 'Caribeans', 'Caribeans', 'Carlotta Chocolat', 'Carlotta Chocolat', 'Carlotta Chocolat', 'Carlotta Chocolat', 'Carlotta Chocolat', 'Castronovo', 'Castronovo', 'Castronovo', 'Castronovo', 'Castronovo', 'Castronovo', 'Castronovo', 'Castronovo', 'Castronovo', 'Castronovo', 'Castronovo', 'Castronovo', 'Castronovo', 'Castronovo', 'Cello', 'Cello', 'Cello', 'Cello', 'Cemoi', 'Chaleur B', 'Charm School', 'Chchukululu (Tulicorp)', 'Chchukululu (Tulicorp)', 'Chequessett', 'Chloe Chocolat', 'Chocablog', 'Choco Del Sol', 'Choco Del Sol', 'Choco Dong', 'Choco Dong', 'Chocolarder', 'Chocolarder', 'Chocolarder', \"Chocola'te\", \"Chocola'te\", 'Chocolate Alchemist-Philly', 'Chocolate Alchemist-Philly', 'Chocolate Con Amor', 'Chocolate Con Amor', 'Chocolate Con Amor', 'Chocolate Con Amor', 'Chocolate Con Amor', 'Chocolate Con Amor', 'Chocolate Con Amor', 'Chocolate Conspiracy', 'Chocolate Makers', 'Chocolate Makers', 'Chocolate Makers', 'Chocolate Tree, The', 'Chocolate Tree, The', 'Chocolate Tree, The', 'Chocolate Tree, The', 'Chocolate Tree, The', 'Chocolate Tree, The', 'Chocolats Privilege', 'ChocoReko', 'Chocosol', 'Chocovic', 'Chocovic', 'Chocovic', 'Chocovic', 'Chocovic', 'Chocovic', 'Chocovic', 'Chocovic', 'Chocovivo', 'Chocovivo', 'Choklat', 'Choklat', 'Choklat', 'Choklat', 'Choklat', 'Chokolat Elot (Girard)', 'Choocsol', 'Christopher Morel (Felchlin)', 'Chuao Chocolatier', 'Chuao Chocolatier (Pralus)', 'Claudio Corallo', 'Claudio Corallo', 'Claudio Corallo', 'Claudio Corallo', 'Cloudforest', 'Coleman & Davis', 'Compania de Chocolate (Salgado)', 'Compania de Chocolate (Salgado)', 'Compania de Chocolate (Salgado)', 'Compania de Chocolate (Salgado)', 'Compania de Chocolate (Salgado)', 'Condor', 'Confluence', 'Coppeneur', 'Coppeneur', 'Coppeneur', 'Coppeneur', 'Coppeneur', 'Coppeneur', 'Coppeneur', 'Coppeneur', 'Coppeneur', 'Coppeneur', 'Coppeneur', 'Coppeneur', 'Coppeneur', 'Coppeneur', 'Coppeneur', 'Coppeneur', 'Coppeneur', 'Coppeneur', \"Cote d' Or (Kraft)\", 'Cravve', 'Cravve', 'Cravve', 'Cravve', 'Cravve', 'Cravve', 'Cravve', 'Creo', 'Creo', 'Daintree', 'Daintree', 'Dalloway', 'Damson', 'Damson', 'Damson', 'Damson', 'Dandelion', 'Dandelion', 'Dandelion', 'Dandelion', 'Dandelion', 'Dandelion', 'Dandelion', 'Dandelion', 'Dandelion', 'Dandelion', 'Dandelion', 'Dandelion', 'Dandelion', 'Dandelion', 'Dandelion', 'Dandelion', 'Danta', 'Danta', 'Danta', 'Danta', 'Danta', 'Danta', 'Danta', 'Danta', 'Danta', 'DAR', 'DAR', 'DAR', 'Dark Forest', 'Dark Forest', 'Dark Forest', 'Dark Forest', 'Dark Forest', 'Davis', 'Davis', 'Davis', 'Davis', 'De Mendes', 'De Mendes', 'De Villiers', 'De Villiers', 'Dean and Deluca (Belcolade)', 'Dean and Deluca (Belcolade)', 'Dean and Deluca (Belcolade)', 'Dean and Deluca (Belcolade)', 'Dean and Deluca (Belcolade)', 'Dean and Deluca (Belcolade)', 'Debauve & Gallais (Michel Cluizel)', 'Debauve & Gallais (Michel Cluizel)', 'Desbarres', 'DeVries', 'DeVries', 'DeVries', 'Dick Taylor', 'Dick Taylor', 'Dick Taylor', 'Dick Taylor', 'Dick Taylor', 'Dick Taylor', 'Dick Taylor', 'Dick Taylor', 'Dick Taylor', 'Dick Taylor', 'Dick Taylor', 'Dick Taylor', 'Dick Taylor', 'Doble & Bignall', 'Doble & Bignall', 'Doble & Bignall', 'Doble & Bignall', 'Dole (Guittard)', 'Dolfin (Belcolade)', 'Dolfin (Belcolade)', 'Domori', 'Domori', 'Domori', 'Domori', 'Domori', 'Domori', 'Domori', 'Domori', 'Domori', 'Domori', 'Domori', 'Domori', 'Domori', 'Domori', 'Domori', 'Domori', 'Domori', 'Domori', 'Domori', 'Domori', 'Domori', 'Domori', 'Dormouse', 'Dormouse', 'Dormouse', 'Dormouse', \"Duffy's\", \"Duffy's\", \"Duffy's\", \"Duffy's\", \"Duffy's\", \"Duffy's\", \"Duffy's\", \"Duffy's\", \"Duffy's\", \"Duffy's\", \"Duffy's\", \"Duffy's\", \"Duffy's\", 'Dulcinea', 'Durand', 'Durci', 'Durci', 'Durci', 'Durci', 'Durci', 'East Van Roasters', 'East Van Roasters', 'East Van Roasters', 'Eau de Rose', 'Eau de Rose', 'Eclat (Felchlin)', 'Edelmond', 'El Ceibo', 'El Ceibo', 'El Rey', 'El Rey', 'El Rey', 'El Rey', 'El Rey', 'El Rey', 'El Rey', 'Emerald Estate', 'Emerald Estate', \"Emily's\", \"Emily's\", 'ENNA', 'Enric Rovira (Claudio Corallo)', 'Erithaj (A. Morin)', 'Erithaj (A. Morin)', 'Erithaj (A. Morin)', 'Escazu', 'Escazu', 'Escazu', 'Escazu', 'Escazu', \"Ethel's Artisan (Mars)\", \"Ethel's Artisan (Mars)\", \"Ethel's Artisan (Mars)\", \"Ethel's Artisan (Mars)\", \"Ethel's Artisan (Mars)\", 'Ethereal', 'Ethereal', 'Ethereal', 'Fearless (AMMA)', 'Feitoria Cacao', 'Feitoria Cacao', 'Feitoria Cacao', 'Felchlin', 'Felchlin', 'Felchlin', 'Felchlin', 'Felchlin', 'Felchlin', 'Felchlin', 'Finca', 'Finca', 'Finca', 'Finca', 'Forever Cacao', 'Forteza (Cortes)', 'Forteza (Cortes)', 'Fossa', 'Fossa', 'Fossa', 'Franceschi', 'Franceschi', 'Franceschi', 'Franceschi', 'Frederic Blondeel', 'Frederic Blondeel', 'Frederic Blondeel', 'Frederic Blondeel', 'Frederic Blondeel', 'French Broad', 'French Broad', 'French Broad', 'French Broad', 'French Broad', 'French Broad', 'French Broad', 'French Broad', 'French Broad', 'French Broad', 'Fresco', 'Fresco', 'Fresco', 'Fresco', 'Fresco', 'Fresco', 'Fresco', 'Fresco', 'Fresco', 'Fresco', 'Fresco', 'Fresco', 'Fresco', 'Fresco', 'Fresco', 'Fresco', 'Fresco', 'Fresco', 'Fresco', 'Fresco', 'Fresco', 'Fresco', 'Fresco', 'Fresco', 'Fresco', 'Fresco', 'Friis Holm', 'Friis Holm (Bonnat)', 'Friis Holm (Bonnat)', 'Friis Holm (Bonnat)', 'Friis Holm (Bonnat)', 'Friis Holm (Bonnat)', 'Friis Holm (Bonnat)', 'Friis Holm (Bonnat)', 'Friis Holm (Bonnat)', 'Friis Holm (Bonnat)', 'Friis Holm (Bonnat)', 'Friis Holm (Bonnat)', 'Friis Holm (Bonnat)', 'Fruition', 'Fruition', 'Fruition', 'Fruition', 'Fruition', 'Fruition', 'Fruition', 'Fruition', 'Fruition', 'Garden Island', 'Georgia Ramon', 'Georgia Ramon', 'Georgia Ramon', 'Georgia Ramon', 'Georgia Ramon', 'Glennmade', 'Glennmade', 'Goodnow Farms', 'Goodnow Farms', 'Goodnow Farms', 'Grand Place', \"Green & Black's (ICAM)\", 'Green Bean to Bar', 'Grenada Chocolate Co.', 'Grenada Chocolate Co.', 'Grenada Chocolate Co.', 'Guido Castagna', 'Guido Castagna', 'Guido Castagna', 'Guido Castagna', 'Guido Castagna', 'Guittard', 'Guittard', 'Guittard', 'Guittard', 'Guittard', 'Guittard', 'Guittard', 'Guittard', 'Guittard', 'Guittard', 'Guittard', 'Guittard', 'Guittard', 'Guittard', 'Guittard', 'Guittard', 'Guittard', 'Guittard', 'Guittard', 'Guittard', 'Guittard', 'Guittard', 'Habitual', 'Habitual', 'Habitual', 'Habitual', 'Habitual', 'Habitual', 'Habitual', 'Habitual', 'Habitual', 'Hachez', 'Hacienda El Castillo', 'Hacienda El Castillo', 'Haigh', 'Harper Macaw', 'Harper Macaw', 'Harper Macaw', 'Harper Macaw', 'Heilemann', 'Heirloom Cacao Preservation (Brasstown)', 'Heirloom Cacao Preservation (Fruition)', 'Heirloom Cacao Preservation (Guittard)', 'Heirloom Cacao Preservation (Guittard)', 'Heirloom Cacao Preservation (Guittard)', 'Heirloom Cacao Preservation (Guittard)', 'Heirloom Cacao Preservation (Manoa)', 'Heirloom Cacao Preservation (Millcreek)', 'Heirloom Cacao Preservation (Mindo)', 'Heirloom Cacao Preservation (Zokoko)', 'Heirloom Cacao Preservation (Zokoko)', 'hello cocoa', 'hello cocoa', 'hexx', 'hexx', 'hexx', 'hexx', 'hexx', 'Hogarth', 'Hogarth', 'Hogarth', 'Hogarth', 'Hoja Verde (Tulicorp)', 'Hoja Verde (Tulicorp)', 'Hoja Verde (Tulicorp)', 'Hoja Verde (Tulicorp)', 'Hoja Verde (Tulicorp)', 'Holy Cacao', 'Holy Cacao', 'Holy Cacao', 'Holy Cacao', 'Holy Cacao', 'Holy Cacao', 'Holy Cacao', 'Holy Cacao', 'Holy Cacao', 'Honest', 'Hotel Chocolat', 'Hotel Chocolat', 'Hotel Chocolat', 'Hotel Chocolat (Coppeneur)', 'Hotel Chocolat (Coppeneur)', 'Hotel Chocolat (Coppeneur)', 'Hotel Chocolat (Coppeneur)', 'Hotel Chocolat (Coppeneur)', 'Hotel Chocolat (Coppeneur)', 'Hotel Chocolat (Coppeneur)', 'Hotel Chocolat (Coppeneur)', 'Hotel Chocolat (Coppeneur)', 'Hotel Chocolat (Coppeneur)', 'Hotel Chocolat (Coppeneur)', 'Hotel Chocolat (Coppeneur)', 'Hotel Chocolat (Coppeneur)', 'Hotel Chocolat (Coppeneur)', 'Hotel Chocolat (Coppeneur)', 'Hotel Chocolat (Coppeneur)', 'Hotel Chocolat (Coppeneur)', 'Hotel Chocolat (Coppeneur)', 'Hotel Chocolat (Coppeneur)', 'Hummingbird', 'Hummingbird', 'Hummingbird', 'Hummingbird', 'Hummingbird', 'Hummingbird', 'Hummingbird', 'Hummingbird', 'Idilio (Felchlin)', 'Idilio (Felchlin)', 'Idilio (Felchlin)', 'Idilio (Felchlin)', 'Idilio (Felchlin)', 'Idilio (Felchlin)', 'Idilio (Felchlin)', 'Idilio (Felchlin)', 'Idilio (Felchlin)', 'Idilio (Felchlin)', 'Indah', 'Indaphoria', 'Indaphoria', 'Indi', 'iQ Chocolate', 'iQ Chocolate', 'Isidro', 'Isidro', 'Isidro', 'Isidro', 'Izard', 'Izard', 'Jacque Torres', 'Jordis', 'Just Good Chocolate', 'Just Good Chocolate', 'Just Good Chocolate', 'Kah Kow', 'Kah Kow', 'Kah Kow', 'Kah Kow', 'Kakao', 'Kakao', 'Kallari (Ecuatoriana)', 'Kallari (Ecuatoriana)', 'Kallari (Ecuatoriana)', 'Kallari (Ecuatoriana)', 'Kallari (Ecuatoriana)', 'Kallari (Ecuatoriana)', 'Kallari (Ecuatoriana)', 'Kallari (Ecuatoriana)', 'Kaoka (Cemoi)', 'Kaoka (Cemoi)', 'Kerchner', \"Ki' Xocolatl\", 'Kiskadee', 'Kto', 'Kto', 'Kto', 'Kto', 'Kto', 'Kto', 'Kto', \"K'ul\", \"K'ul\", \"K'ul\", \"K'ul\", 'Kyya', 'Kyya', 'Kyya', 'Kyya', 'L.A. Burdick (Felchlin)', 'L.A. Burdick (Felchlin)', 'L.A. Burdick (Felchlin)', 'L.A. Burdick (Felchlin)', 'L.A. Burdick (Felchlin)', 'L.A. Burdick (Felchlin)', 'L.A. Burdick (Felchlin)', 'L.A. Burdick (Felchlin)', 'L.A. Burdick (Felchlin)', 'La Chocolaterie Nanairo', 'La Chocolaterie Nanairo', 'La Chocolaterie Nanairo', 'La Chocolaterie Nanairo', 'La Maison du Chocolat (Valrhona)', 'La Maison du Chocolat (Valrhona)', 'La Maison du Chocolat (Valrhona)', 'La Maison du Chocolat (Valrhona)', 'La Maison du Chocolat (Valrhona)', 'La Maison du Chocolat (Valrhona)', 'La Maison du Chocolat (Valrhona)', 'La Maison du Chocolat (Valrhona)', 'La Maison du Chocolat (Valrhona)', 'La Maison du Chocolat (Valrhona)', 'La Oroquidea', 'La Pepa de Oro', 'Laia aka Chat-Noir', 'Laia aka Chat-Noir', 'Laia aka Chat-Noir', 'Laia aka Chat-Noir', 'Laia aka Chat-Noir', 'Laia aka Chat-Noir', 'Laia aka Chat-Noir', 'Laia aka Chat-Noir', 'Laia aka Chat-Noir', 'Laia aka Chat-Noir', 'Lajedo do Ouro', 'Lake Champlain (Callebaut)', \"L'Amourette\", \"L'Amourette\", \"L'Amourette\", \"L'Amourette\", 'Letterpress', 'Letterpress', 'Letterpress', 'Letterpress', 'Letterpress', 'Letterpress', 'Letterpress', 'Letterpress', 'Letterpress', 'Levy', 'Lilla', 'Lillie Belle', 'Lillie Belle', 'Lillie Belle', 'Lillie Belle', 'Lillie Belle', 'Lillie Belle', 'Lindt & Sprungli', 'Loiza', 'Lonohana', 'Lonohana', 'Lonohana', 'Lonohana', 'Lonohana', 'Lonohana', 'Love Bar', 'Luker', 'Luker', 'Luker', 'Luker', 'Machu Picchu Trading Co.', 'Machu Picchu Trading Co.', 'Madecasse (Cinagra)', 'Madecasse (Cinagra)', 'Madecasse (Cinagra)', 'Madecasse (Cinagra)', 'Madre', 'Madre', 'Madre', 'Madre', 'Madre', 'Madre', 'Madre', 'Madre', 'Madre', 'Madre', 'Madre', 'Maglio', 'Maglio', 'Maglio', 'Maglio', 'Majani', 'Malagasy (Chocolaterie Robert)', 'Malagasy (Chocolaterie Robert)', 'Malagos', 'Malie Kai (Guittard)', 'Malie Kai (Guittard)', 'Malmo', 'Mana', 'Mana', 'Mana', 'Mana', 'Manifesto Cacao', 'Manoa', 'Manoa', 'Manoa', 'Manoa', 'Manoa', 'Manoa', 'Manoa', 'Manufaktura Czekolady', 'Manufaktura Czekolady', 'Manufaktura Czekolady', 'Manufaktura Czekolady', 'Manufaktura Czekolady', 'Manufaktura Czekolady', 'Manufaktura Czekolady', 'Map Chocolate', 'Map Chocolate', 'Map Chocolate', 'Map Chocolate', 'Map Chocolate', 'Map Chocolate', 'Map Chocolate', 'Map Chocolate', 'Map Chocolate', 'Map Chocolate', 'Marana', 'Marana', 'Marana', \"Marigold's Finest\", 'Marou', 'Marou', 'Marou', 'Marou', 'Marou', 'Marou', 'Marou', 'Marou', 'Marou', 'Marou', 'Mars', 'Mars', 'Mars', 'Mars', 'Marsatta', 'Marsatta', 'Martin Mayer', 'Martin Mayer', 'Martin Mayer', 'Mast Brothers', 'Mast Brothers', 'Mast Brothers', 'Mast Brothers', 'Mast Brothers', 'Mast Brothers', 'Mast Brothers', 'Mast Brothers', 'Mast Brothers', 'Mast Brothers', 'Mast Brothers', 'Mast Brothers', 'Mast Brothers', 'Mast Brothers', 'Mast Brothers', 'Mast Brothers', 'Mast Brothers', 'Mast Brothers', 'Matale', 'Matale', 'Matale', 'Matale', 'Maverick', 'Maverick', 'Maverick', 'Maverick', 'Mayacama', 'Meadowlands', 'Meadowlands', 'Meadowlands', 'Meadowlands', 'Meadowlands', 'Menakao (aka Cinagra)', 'Menakao (aka Cinagra)', 'Mesocacao', 'Mesocacao', 'Mesocacao', 'Mesocacao', 'Mesocacao', 'Mesocacao', 'Metiisto', 'Metiisto', 'Metropolitan', 'Michel Cluizel', 'Michel Cluizel', 'Michel Cluizel', 'Michel Cluizel', 'Michel Cluizel', 'Michel Cluizel', 'Michel Cluizel', 'Michel Cluizel', 'Michel Cluizel', 'Michel Cluizel', 'Middlebury', 'Middlebury', 'Middlebury', 'Middlebury', 'Middlebury', 'Middlebury', 'Middlebury', 'Middlebury', 'Middlebury', 'Middlebury', 'Middlebury', 'Millcreek Cacao Roasters', 'Millcreek Cacao Roasters', 'Mindo', 'Mindo', 'Minimal', 'Mission', 'Mission', 'Mita', 'Moho', 'Moho', 'Moho', 'Molucca', 'Molucca', 'Molucca', 'Momotombo', 'Momotombo', 'Momotombo', 'Monarque', 'Monsieur Truffe', 'Montecristi', 'Montecristi', 'Montecristi', 'Muchomas (Mesocacao)', 'Muchomas (Mesocacao)', 'Mutari', 'Mutari', 'Mutari', 'Mutari', 'Nahua', 'Nahua', 'Naive', 'Naive', 'Naive', 'Na�ve', 'Na�ve', 'Na�ve', 'Nanea', 'Nathan Miller', 'Nathan Miller', 'Nathan Miller', 'Nathan Miller', 'Neuhaus (Callebaut)', 'Neuhaus (Callebaut)', 'Neuhaus (Callebaut)', 'Neuhaus (Callebaut)', 'Neuhaus (Callebaut)', 'Neuhaus (Callebaut)', 'Nibble', 'Nibble', 'Nibble', 'Nibble', 'Night Owl', 'Night Owl', 'Noble Bean aka Jerjobo', 'Noble Bean aka Jerjobo', 'Noble Bean aka Jerjobo', \"Noir d' Ebine\", \"Noir d' Ebine\", 'Nova Monda', 'Nova Monda', 'Nova Monda', 'Nuance', 'Nuance', 'Nuance', 'Nuance', 'Nuance', 'Nugali', 'Oakland Chocolate Co.', 'Obolo', 'Obolo', 'Ocelot', 'Ocelot', 'Ocho', 'Ocho', 'Ocho', 'Ocho', 'Ocho', 'Ocho', 'Ohiyo', 'Ohiyo', 'Oialla by Bojessen (Malmo)', 'Olive and Sinclair', 'Olive and Sinclair', 'Olive and Sinclair', 'Olive and Sinclair', 'Olivia', 'Olivia', 'Olivia', 'Olivia', 'Omanhene', 'Omnom', 'Omnom', 'Omnom', 'organicfair', 'organicfair', 'organicfair', 'organicfair', 'organicfair', 'Original Beans (Felchlin)', 'Original Beans (Felchlin)', 'Original Beans (Felchlin)', 'Original Beans (Felchlin)', 'Original Beans (Felchlin)', 'Original Beans (Felchlin)', 'Original Hawaiin Chocolate Factory', 'Original Hawaiin Chocolate Factory', 'Orquidea', 'Orquidea', 'Pacari', 'Pacari', 'Pacari', 'Pacari', 'Pacari', 'Pacari', 'Pacari', 'Pacari', 'Pacari', 'Pacari', 'Pacari', 'Pacari', 'Pacari', 'Palette de Bine', 'Palette de Bine', 'Palette de Bine', 'Palette de Bine', 'Palette de Bine', 'Palette de Bine', 'Palette de Bine', 'Palette de Bine', 'Palette de Bine', 'Palette de Bine', 'Palette de Bine', 'Pangea', 'Park 75', 'Parliament', 'Parliament', 'Parliament', 'Parliament', 'Pascha', 'Pascha', 'Patric', 'Patric', 'Patric', 'Patric', 'Patric', 'Patric', 'Paul Young', 'Paul Young', 'Peppalo', 'Pierre Marcolini', 'Pierre Marcolini', 'Pierre Marcolini', 'Pierre Marcolini', 'Pierre Marcolini', 'Pierre Marcolini', 'Pierre Marcolini', 'Pierre Marcolini', 'Pierre Marcolini', 'Pierre Marcolini', 'Pierre Marcolini', 'Pierre Marcolini', 'Pierre Marcolini', 'Pierre Marcolini', 'Pinellas', 'Pitch Dark', 'Pitch Dark', 'Pitch Dark', 'Pitch Dark', 'Pitch Dark', 'Pitch Dark', 'Pitch Dark', 'Pitch Dark', 'Pitch Dark', 'Pomm (aka Dead Dog)', 'Pomm (aka Dead Dog)', 'Potomac', 'Potomac', 'Potomac', 'Potomac', 'Potomac', 'Potomac', 'Potomac', 'Pralus', 'Pralus', 'Pralus', 'Pralus', 'Pralus', 'Pralus', 'Pralus', 'Pralus', 'Pralus', 'Pralus', 'Pralus', 'Pralus', 'Pralus', 'Pralus', 'Pralus', 'Pralus', 'Pralus', 'Pralus', 'Pralus', 'Pralus', 'Pralus', 'Pralus', 'Pralus', 'Pralus', 'Pralus', 'Pump Street Bakery', 'Pump Street Bakery', 'Pump Street Bakery', 'Pump Street Bakery', 'Pump Street Bakery', 'Pump Street Bakery', 'Pump Street Bakery', 'Pump Street Bakery', 'Pura Delizia', 'Q Chocolate', 'Q Chocolate', 'Q Chocolate', 'Q Chocolate', 'Q Chocolate', 'Q Chocolate', 'Quetzalli (Wolter)', 'Quetzalli (Wolter)', 'Raaka', 'Raaka', 'Raaka', 'Raaka', 'Rain Republic', 'Rancho San Jacinto', 'Ranger', 'Ranger', 'Ranger', 'Raoul Boulanger', 'Raw Cocoa', 'Republica del Cacao (aka Confecta)', 'Republica del Cacao (aka Confecta)', 'Republica del Cacao (aka Confecta)', 'Republica del Cacao (aka Confecta)', 'Republica del Cacao (aka Confecta)', 'Ritual', 'Ritual', 'Ritual', 'Ritual', 'Ritual', 'Ritual', 'Ritual', 'Ritual', 'Ritual', 'Roasting Masters', 'Roasting Masters', 'Roasting Masters', 'Robert (aka Chocolaterie Robert)', 'Robert (aka Chocolaterie Robert)', 'Rococo (Grenada Chocolate Co.)', 'Rogue', 'Rogue', 'Rogue', 'Rogue', 'Rogue', 'Rogue', 'Rogue', 'Rogue', 'Rogue', 'Rogue', 'Rogue', 'Rogue', 'Rogue', 'Rogue', 'Rogue', 'Rogue', 'Rozsavolgyi', 'Rozsavolgyi', 'Rozsavolgyi', 'Rozsavolgyi', 'Rozsavolgyi', 'Rozsavolgyi', 'Rozsavolgyi', 'S.A.I.D.', 'S.A.I.D.', 'S.A.I.D.', 'S.A.I.D.', 'S.A.I.D.', 'Sacred', 'Sacred', 'Salgado', 'Salgado', 'Salgado', 'Salgado', 'Santander (Compania Nacional)', 'Santander (Compania Nacional)', 'Santander (Compania Nacional)', 'Santander (Compania Nacional)', 'Santander (Compania Nacional)', 'Santome', 'Scharffen Berger', 'Scharffen Berger', 'Scharffen Berger', 'Scharffen Berger', 'Scharffen Berger', 'Scharffen Berger', 'Scharffen Berger', 'Scharffen Berger', 'Scharffen Berger', 'Scharffen Berger', 'Scharffen Berger', 'Scharffen Berger', 'Scharffen Berger', 'Scharffen Berger', 'Scharffen Berger', 'Scharffen Berger', 'Scharffen Berger', 'Seaforth', 'Seaforth', 'Shark Mountain', 'Shark Mountain', 'Shark Mountain', 'Shark Mountain', 'Shark Mountain', 'Shark Mountain', \"Shark's\", \"Shark's\", 'Shattel', 'Shattell', 'Sibu', 'Sibu', 'Sibu Sura', 'Silvio Bessone', 'Silvio Bessone', 'Silvio Bessone', 'Silvio Bessone', 'Sirene', 'Sirene', 'Sirene', 'Sirene', 'Sirene', 'Sirene', 'Sirene', 'Sirene', 'Sirene', 'Sirene', 'Sirene', 'Sjolinds', 'Sjolinds', 'Smooth Chocolator, The', 'Smooth Chocolator, The', 'Smooth Chocolator, The', 'Smooth Chocolator, The', 'Smooth Chocolator, The', 'Smooth Chocolator, The', 'Smooth Chocolator, The', 'Smooth Chocolator, The', 'Smooth Chocolator, The', 'Smooth Chocolator, The', 'Smooth Chocolator, The', 'Smooth Chocolator, The', 'Smooth Chocolator, The', 'Smooth Chocolator, The', 'Smooth Chocolator, The', 'Smooth Chocolator, The', 'Snake & Butterfly', 'Snake & Butterfly', 'Snake & Butterfly', 'Sol Cacao', 'Sol Cacao', 'Solkiki', 'Solkiki', 'Solomons Gold', 'Solomons Gold', 'Solstice', 'Solstice', 'Solstice', 'Solstice', 'Solstice', 'Solstice', 'Soma', 'Soma', 'Soma', 'Soma', 'Soma', 'Soma', 'Soma', 'Soma', 'Soma', 'Soma', 'Soma', 'Soma', 'Soma', 'Soma', 'Soma', 'Soma', 'Soma', 'Soma', 'Soma', 'Soma', 'Soma', 'Soma', 'Soma', 'Soma', 'Soma', 'Soma', 'Soma', 'Soma', 'Soma', 'Soma', 'Soma', 'Soma', 'Soma', 'Soma', 'Soma', 'Soma', 'Soma', 'Soma', 'Soma', 'Soma', 'Soma', 'Soma', 'Soma', 'Soma', 'Soma', 'Soma', 'Soma', 'Somerville', 'Somerville', 'Soul', 'Soul', 'Soul', 'Soul', 'Soul', 'Soul', 'Spagnvola', 'Spagnvola', 'Spagnvola', 'Spencer', 'Spencer', 'Spencer', 'Spencer', 'Spencer', 'Spencer', 'Spencer', 'Sprungli (Felchlin)', 'SRSLY', 'SRSLY', 'Starchild', 'Starchild', 'Starchild', 'Starchild', 'Starchild', 'Stella (aka Bernrain)', 'Stella (aka Bernrain)', 'Stone Grindz', 'Stone Grindz', 'StRita Supreme', 'StRita Supreme', 'StRita Supreme', 'Sublime Origins', 'Sublime Origins', 'Summerbird', 'Summerbird', 'Suruca Chocolate', 'Suruca Chocolate', 'Svenska Kakaobolaget', 'Szanto Tibor', 'Szanto Tibor', 'Szanto Tibor', 'Szanto Tibor', 'Szanto Tibor', 'Szanto Tibor', 'Szanto Tibor', 'Szanto Tibor', 'Szanto Tibor', 'Szanto Tibor', 'Szanto Tibor', 'Szanto Tibor', 'Szanto Tibor', 'Szanto Tibor', 'Szanto Tibor', 'Tabal', 'Tabal', 'Tabal', 'Tabal', 'Tablette (aka Vanillabeans)', 'Tablette (aka Vanillabeans)', 'Tablette (aka Vanillabeans)', 'Tablette (aka Vanillabeans)', 'Tan Ban Skrati', 'Taza', 'Taza', 'Taza', 'Taza', 'TCHO', 'TCHO', 'TCHO', 'TCHO', 'TCHO', 'TCHO', 'TCHO', 'TCHO', 'Tejas', 'Tejas', 'Tejas', 'Tejas', 'Tejas', 'Tejas', 'Tejas', 'Tejas', 'Tejas', 'Tejas', 'Tejas', 'Tejas', 'Tejas', 'Tejas', 'Terroir', 'Terroir', 'Terroir', 'Terroir', 'Terroir', 'Terroir', 'Terroir', 'Terroir', 'Terroir', 'The Barn', 'Theo', 'Theo', 'Theo', 'Theo', 'Theo', 'Theo', 'Theobroma', 'Timo A. Meyer', \"To'ak (Ecuatoriana)\", 'Tobago Estate (Pralus)', 'Tocoti', 'Tocoti', 'Tocoti', 'Treehouse', 'Tsara (Cinagra)', 'twenty-four blackbirds', 'twenty-four blackbirds', 'twenty-four blackbirds', 'twenty-four blackbirds', 'twenty-four blackbirds', 'twenty-four blackbirds', 'Two Ravens', 'Un Dimanche A Paris', 'Undone', 'Undone', 'Upchurch', 'Upchurch', 'Urzi', 'Valrhona', 'Valrhona', 'Valrhona', 'Valrhona', 'Valrhona', 'Valrhona', 'Valrhona', 'Valrhona', 'Valrhona', 'Valrhona', 'Valrhona', 'Valrhona', 'Valrhona', 'Valrhona', 'Valrhona', 'Valrhona', 'Valrhona', 'Valrhona', 'Valrhona', 'Valrhona', 'Valrhona', 'Vanleer (Barry Callebaut)', 'Vanleer (Barry Callebaut)', 'Vao Vao (Chocolaterie Robert)', 'Vao Vao (Chocolaterie Robert)', 'Vao Vao (Chocolaterie Robert)', 'Vao Vao (Chocolaterie Robert)', 'Vao Vao (Chocolaterie Robert)', 'Vao Vao (Chocolaterie Robert)', 'Vicuna', 'Vicuna', 'Videri', 'Videri', 'Videri', 'Videri', 'Videri', 'Vietcacao (A. Morin)', 'Vintage Plantations', 'Vintage Plantations (Tulicorp)', 'Vintage Plantations (Tulicorp)', 'Vintage Plantations (Tulicorp)', 'Vintage Plantations (Tulicorp)', 'Violet Sky', 'Violet Sky', 'Violet Sky', 'Violet Sky', 'Violet Sky', 'Vivra', 'Vivra', 'Vivra', 'Wellington Chocolate Factory', 'Wellington Chocolate Factory', 'Whittakers', \"Wilkie's Organic\", \"Wilkie's Organic\", \"Wilkie's Organic\", \"Wilkie's Organic\", \"Willie's Cacao\", \"Willie's Cacao\", \"Willie's Cacao\", \"Willie's Cacao\", \"Willie's Cacao\", \"Willie's Cacao\", \"Willie's Cacao\", \"Willie's Cacao\", 'Wm', 'Wm', 'Wm', 'Woodblock', 'Woodblock', 'Woodblock', 'Woodblock', 'Woodblock', 'Woodblock', 'Woodblock', 'Woodblock', 'Xocolat', 'Xocolla', 'Xocolla', \"Zak's\", \"Zak's\", \"Zak's\", \"Zak's\", \"Zak's\", \"Zak's\", 'Zart Pralinen', 'Zart Pralinen', 'Zart Pralinen', 'Zart Pralinen', 'Zart Pralinen', 'Zart Pralinen', 'Zokoko', 'Zokoko', 'Zokoko', 'Zokoko', 'Zokoko', 'Zotter', 'Zotter', 'Zotter', 'Zotter', 'Zotter', 'Zotter', 'Zotter', 'Zotter', 'Zotter', 'Zotter', 'Zotter', 'Zotter', 'Zotter', 'Zotter', 'Zotter', 'Zotter', 'Zotter']\n"
     ]
    }
   ],
   "source": [
    "company_names = []\n",
    "for name in company_names_tags[1:]:\n",
    "    company_names.append(name.get_text())\n",
    "print(company_names)"
   ]
  },
  {
   "cell_type": "markdown",
   "id": "d6d680ca-0b3e-4de3-9bda-9479af33ffd6",
   "metadata": {},
   "source": [
    "Create a DataFrame with a column “Company” corresponding to your companies list, and a column “Ratings” corresponding to your ratings list."
   ]
  },
  {
   "cell_type": "code",
   "execution_count": 40,
   "id": "cc1c76f4-0160-48c5-9057-3076314dd4f1",
   "metadata": {},
   "outputs": [],
   "source": [
    "cacao_df = pd.DataFrame.from_dict({\"Company\": company_names, \"Rating\": ratings})"
   ]
  },
  {
   "cell_type": "markdown",
   "id": "2d863de7-8aec-48ba-9abb-fd73a4c985be",
   "metadata": {},
   "source": [
    "Use .groupby to group your DataFrame by Company and take the average of the grouped ratings.\n",
    "\n",
    "Then, use the .nlargest command to get the 10 highest rated chocolate companies. Print them out."
   ]
  },
  {
   "cell_type": "code",
   "execution_count": 43,
   "id": "dc53f619-7337-4486-9ed7-2db0b6eaa437",
   "metadata": {},
   "outputs": [
    {
     "name": "stdout",
     "output_type": "stream",
     "text": [
      "Company\n",
      "Tobago Estate (Pralus)                  4.000000\n",
      "Heirloom Cacao Preservation (Zokoko)    3.875000\n",
      "Ocelot                                  3.875000\n",
      "Amedei                                  3.846154\n",
      "Matale                                  3.812500\n",
      "Patric                                  3.791667\n",
      "Idilio (Felchlin)                       3.775000\n",
      "Acalli                                  3.750000\n",
      "Chocola'te                              3.750000\n",
      "Christopher Morel (Felchlin)            3.750000\n",
      "Name: Rating, dtype: float64\n"
     ]
    }
   ],
   "source": [
    "mean_ratings = cacao_df.groupby(\"Company\").Rating.mean()\n",
    "ten_best = mean_ratings.nlargest(10)\n",
    "print(ten_best)"
   ]
  },
  {
   "cell_type": "markdown",
   "id": "12ee9c49-d400-4791-a1bf-e4bd22d228a3",
   "metadata": {},
   "source": [
    "We want to see if the chocolate experts tend to rate chocolate bars with higher levels of cacoa to be better than those with lower levels of cacoa.\n",
    "\n",
    "It looks like the cocoa percentages are in the table under the Cocoa Percent column (note we are looking at cocoa not cocao!).\n",
    "\n",
    "Using the same methods you used in the last couple of tasks, create a list that contains all of the cocoa percentages. Store each percent as a float, after stripping off the % character."
   ]
  },
  {
   "cell_type": "code",
   "execution_count": 45,
   "id": "682679a7-fa96-4c6d-91a9-ea94c3eb5bd5",
   "metadata": {
    "scrolled": true,
    "tags": []
   },
   "outputs": [
    {
     "name": "stdout",
     "output_type": "stream",
     "text": [
      "[63.0, 70.0, 70.0, 70.0, 70.0, 70.0, 70.0, 70.0, 70.0, 70.0, 70.0, 70.0, 70.0, 70.0, 70.0, 70.0, 70.0, 70.0, 70.0, 70.0, 63.0, 70.0, 63.0, 70.0, 70.0, 60.0, 80.0, 88.0, 72.0, 55.0, 70.0, 70.0, 75.0, 75.0, 75.0, 65.0, 75.0, 75.0, 75.0, 75.0, 70.0, 70.0, 70.0, 70.0, 60.0, 60.0, 60.0, 60.0, 60.0, 60.0, 60.0, 80.0, 60.0, 60.0, 70.0, 70.0, 70.0, 70.0, 70.0, 70.0, 70.0, 70.0, 70.0, 70.0, 70.0, 85.0, 85.0, 72.0, 73.0, 64.0, 66.0, 75.0, 63.0, 70.0, 68.0, 70.0, 70.0, 75.0, 70.0, 70.0, 70.0, 70.0, 70.0, 70.0, 70.0, 63.0, 70.0, 66.0, 75.0, 85.0, 50.0, 75.0, 60.0, 75.0, 75.0, 75.0, 72.0, 75.0, 75.0, 70.0, 70.0, 73.0, 70.0, 70.0, 70.0, 70.0, 70.0, 70.0, 70.0, 70.0, 70.0, 73.0, 70.0, 68.0, 70.0, 70.0, 70.0, 70.0, 75.0, 70.0, 75.0, 72.0, 72.0, 72.0, 72.0, 100.0, 72.0, 72.0, 72.0, 72.0, 75.0, 72.0, 72.0, 80.0, 75.0, 72.0, 72.0, 72.0, 68.0, 72.0, 70.0, 77.0, 75.0, 70.0, 80.0, 70.0, 70.0, 70.0, 70.0, 70.0, 70.0, 70.0, 70.0, 70.0, 70.0, 70.0, 80.0, 65.0, 70.0, 65.0, 73.0, 72.0, 80.0, 70.0, 70.0, 90.0, 64.0, 64.0, 64.0, 71.0, 70.0, 70.0, 70.0, 83.0, 78.0, 83.0, 74.0, 74.0, 74.0, 73.0, 72.0, 72.0, 55.0, 64.0, 88.0, 72.0, 72.0, 70.0, 74.0, 64.0, 72.0, 76.0, 76.0, 78.0, 86.0, 72.0, 75.0, 70.0, 65.0, 70.0, 78.0, 75.0, 65.0, 75.0, 65.0, 71.0, 75.0, 68.0, 70.0, 70.0, 70.0, 70.0, 70.0, 82.0, 72.0, 82.0, 75.0, 75.0, 75.0, 70.0, 70.0, 75.0, 75.0, 75.0, 65.0, 75.0, 75.0, 75.0, 75.0, 75.0, 75.0, 75.0, 75.0, 75.0, 75.0, 75.0, 75.0, 75.0, 75.0, 75.0, 75.0, 75.0, 75.0, 75.0, 75.0, 100.0, 75.0, 75.0, 77.0, 100.0, 70.0, 70.0, 70.0, 70.0, 68.0, 70.0, 70.0, 72.0, 70.0, 75.0, 85.0, 60.0, 80.0, 70.0, 80.0, 80.0, 60.0, 70.0, 72.0, 70.0, 72.0, 68.0, 70.0, 68.0, 72.0, 72.0, 72.0, 72.0, 60.0, 70.0, 75.0, 75.0, 75.0, 75.0, 65.0, 70.0, 75.0, 72.0, 66.0, 77.0, 75.0, 75.0, 74.0, 75.0, 70.0, 74.0, 71.0, 74.0, 72.0, 64.0, 70.0, 69.0, 70.0, 70.0, 72.0, 72.0, 66.0, 65.0, 70.0, 71.0, 71.0, 71.0, 71.0, 71.0, 77.0, 70.0, 70.0, 70.0, 70.0, 70.0, 70.0, 63.0, 71.0, 82.0, 91.0, 60.0, 70.0, 75.0, 72.0, 70.0, 100.0, 80.0, 78.0, 70.0, 75.0, 73.0, 70.0, 75.0, 70.0, 77.0, 77.0, 77.0, 55.0, 55.0, 55.0, 70.0, 70.0, 72.0, 72.0, 72.0, 72.0, 80.0, 65.0, 65.0, 65.0, 65.0, 65.0, 72.0, 72.0, 70.0, 72.0, 72.0, 76.0, 70.0, 70.0, 73.0, 70.0, 70.0, 72.0, 70.0, 72.0, 70.0, 70.0, 70.0, 70.0, 72.0, 70.0, 70.0, 55.0, 75.0, 70.0, 70.0, 70.0, 75.0, 82.0, 70.0, 70.0, 65.0, 65.0, 80.0, 70.0, 68.0, 90.0, 80.0, 70.0, 70.0, 60.0, 75.0, 80.0, 70.0, 80.0, 74.0, 75.0, 68.0, 80.0, 69.0, 80.0, 70.0, 82.0, 68.0, 72.0, 70.0, 77.0, 65.0, 71.0, 71.0, 60.0, 75.0, 71.0, 71.0, 71.0, 70.0, 65.0, 75.0, 80.0, 70.0, 70.0, 80.0, 70.0, 42.0, 75.0, 68.0, 61.0, 77.0, 73.5, 80.0, 75.0, 100.0, 73.0, 75.0, 70.0, 80.0, 72.0, 70.0, 88.0, 76.0, 78.0, 65.0, 85.0, 100.0, 72.0, 70.0, 72.0, 70.0, 72.0, 72.0, 72.0, 72.0, 72.0, 62.0, 70.0, 70.0, 72.0, 72.0, 72.0, 70.0, 70.0, 83.0, 75.0, 65.0, 67.0, 64.0, 75.0, 85.0, 73.0, 70.0, 70.0, 72.0, 70.0, 70.0, 70.0, 70.0, 70.0, 70.0, 70.0, 70.0, 70.0, 70.0, 70.0, 70.0, 70.0, 70.0, 70.0, 70.0, 70.0, 70.0, 70.0, 70.0, 82.0, 75.0, 70.0, 70.0, 70.0, 70.0, 60.0, 75.0, 60.0, 72.0, 72.0, 70.0, 75.0, 70.0, 70.0, 70.0, 70.0, 70.0, 70.0, 70.0, 58.0, 72.0, 65.0, 70.0, 70.0, 66.0, 64.0, 71.0, 60.0, 64.0, 64.0, 64.0, 66.0, 72.0, 80.0, 77.0, 77.0, 70.0, 78.0, 70.0, 74.0, 70.0, 76.0, 75.0, 72.0, 80.0, 72.0, 75.0, 74.0, 70.0, 85.0, 72.0, 72.0, 72.0, 70.0, 88.0, 70.0, 70.0, 70.0, 100.0, 70.0, 70.0, 70.0, 70.0, 70.0, 70.0, 78.0, 70.0, 70.0, 75.0, 60.0, 70.0, 70.0, 70.0, 70.0, 70.0, 70.0, 70.0, 70.0, 75.0, 70.0, 80.0, 77.0, 70.0, 70.0, 76.0, 72.0, 72.0, 65.0, 72.0, 71.0, 71.0, 70.0, 72.0, 70.0, 70.0, 70.0, 82.0, 70.0, 70.0, 70.0, 70.0, 70.0, 70.0, 70.0, 70.0, 70.0, 70.0, 72.0, 68.0, 75.0, 71.0, 70.0, 60.5, 70.0, 74.0, 58.0, 61.0, 70.0, 60.0, 70.0, 79.0, 78.0, 75.0, 80.0, 70.0, 80.0, 74.0, 70.0, 65.0, 81.0, 74.0, 72.0, 55.0, 55.0, 70.0, 62.0, 62.0, 80.0, 80.0, 80.0, 75.0, 76.0, 76.0, 76.0, 58.0, 62.0, 74.0, 64.0, 65.0, 72.0, 68.0, 65.0, 80.0, 70.0, 85.0, 72.0, 70.0, 80.0, 70.0, 75.0, 67.0, 70.0, 70.0, 70.0, 60.0, 70.0, 75.0, 80.0, 60.0, 65.0, 70.0, 73.0, 80.0, 68.0, 66.0, 70.0, 61.0, 81.0, 70.0, 65.0, 70.0, 70.0, 70.0, 70.0, 72.0, 72.0, 70.0, 70.0, 69.0, 69.0, 74.0, 69.0, 69.0, 74.0, 70.0, 72.0, 70.0, 74.0, 72.0, 74.0, 76.0, 70.0, 80.0, 70.0, 70.0, 65.0, 70.0, 60.0, 85.0, 70.0, 70.0, 70.0, 70.0, 70.0, 70.0, 70.0, 70.0, 70.0, 70.0, 74.0, 74.0, 70.0, 76.0, 70.0, 75.0, 70.0, 66.0, 70.0, 85.0, 65.0, 70.0, 70.0, 80.0, 75.0, 70.0, 66.0, 77.0, 77.0, 77.0, 72.0, 70.0, 70.0, 82.0, 60.0, 71.0, 64.0, 64.0, 64.0, 76.0, 64.0, 70.0, 65.0, 65.0, 65.0, 65.0, 72.0, 61.0, 72.0, 65.0, 55.0, 91.0, 70.0, 65.0, 64.0, 65.0, 72.0, 65.0, 65.0, 65.0, 65.0, 61.0, 61.0, 80.0, 74.0, 75.0, 70.0, 65.0, 70.0, 80.0, 66.0, 100.0, 77.0, 55.0, 70.0, 70.0, 85.0, 67.0, 77.0, 74.0, 64.0, 70.0, 74.0, 67.0, 67.0, 67.0, 67.0, 72.0, 70.0, 77.0, 68.0, 72.0, 57.0, 74.0, 70.0, 74.0, 70.0, 73.0, 70.0, 70.0, 72.0, 75.0, 66.0, 80.0, 80.0, 72.0, 58.0, 58.0, 70.0, 70.0, 70.0, 70.0, 70.0, 70.0, 70.0, 70.0, 75.0, 72.0, 70.0, 70.0, 100.0, 75.0, 80.0, 90.0, 72.0, 82.0, 100.0, 100.0, 100.0, 66.0, 80.0, 65.0, 65.0, 70.0, 70.0, 70.0, 72.0, 80.0, 75.0, 72.0, 70.0, 70.0, 70.0, 70.0, 70.0, 70.0, 70.0, 70.0, 72.0, 72.0, 72.0, 72.0, 72.0, 74.0, 72.0, 70.0, 72.0, 72.0, 61.0, 70.0, 70.0, 77.0, 72.0, 72.0, 72.0, 72.0, 72.0, 72.0, 70.0, 70.0, 71.0, 63.0, 70.0, 70.0, 70.0, 70.0, 82.0, 55.0, 62.0, 64.0, 65.0, 70.0, 70.0, 75.0, 85.0, 85.0, 85.0, 75.0, 85.0, 70.0, 80.0, 70.0, 72.0, 60.0, 72.0, 72.0, 72.0, 72.0, 90.0, 72.0, 72.0, 70.0, 70.0, 70.0, 70.0, 72.5, 72.5, 72.5, 72.5, 74.0, 70.0, 68.0, 74.0, 75.0, 74.0, 71.0, 64.0, 68.0, 70.0, 70.0, 70.0, 70.0, 74.0, 60.0, 56.0, 66.0, 68.0, 68.0, 69.0, 60.0, 60.0, 74.0, 72.0, 60.0, 75.0, 75.0, 75.0, 75.0, 75.0, 75.0, 75.0, 75.0, 70.0, 68.0, 70.0, 75.0, 80.0, 75.0, 75.0, 72.0, 70.0, 70.0, 70.0, 70.0, 70.0, 70.0, 70.0, 70.0, 70.0, 71.0, 70.0, 65.0, 68.0, 68.0, 75.0, 74.0, 68.0, 85.0, 65.0, 70.0, 65.0, 75.0, 71.0, 72.0, 70.0, 75.0, 46.0, 60.0, 58.0, 65.0, 70.0, 55.0, 67.0, 70.0, 63.0, 75.0, 73.0, 70.0, 70.0, 70.0, 70.0, 70.0, 70.0, 70.0, 70.0, 70.0, 72.0, 75.0, 70.0, 70.0, 70.0, 70.0, 75.0, 73.0, 65.0, 55.0, 55.0, 70.0, 74.0, 74.0, 74.0, 74.0, 70.0, 72.0, 72.0, 72.0, 72.0, 72.0, 72.0, 72.0, 70.0, 70.0, 70.0, 85.0, 70.0, 70.0, 70.0, 75.0, 70.0, 62.0, 70.0, 70.0, 70.0, 68.0, 75.0, 72.0, 78.0, 70.0, 70.0, 70.0, 75.0, 85.0, 68.0, 70.0, 75.0, 76.0, 72.0, 70.0, 78.0, 80.0, 74.0, 65.0, 65.0, 65.0, 65.0, 74.0, 89.0, 76.0, 82.0, 74.0, 76.0, 74.0, 75.0, 73.0, 72.0, 73.0, 72.0, 76.0, 70.0, 81.0, 70.0, 71.0, 75.0, 73.0, 74.0, 81.0, 75.0, 70.0, 72.0, 68.0, 74.0, 70.0, 70.0, 70.0, 82.0, 63.0, 72.0, 70.0, 70.0, 70.0, 70.0, 70.0, 80.0, 72.0, 80.0, 70.0, 80.0, 70.0, 70.0, 80.0, 70.0, 72.0, 70.0, 66.0, 66.0, 67.0, 60.0, 85.0, 70.0, 67.0, 65.0, 64.0, 99.0, 80.0, 70.0, 75.0, 75.0, 75.0, 70.0, 75.0, 80.0, 65.0, 75.0, 70.0, 70.0, 70.0, 67.0, 77.0, 70.0, 75.0, 70.0, 65.0, 73.0, 72.0, 67.0, 70.0, 70.0, 70.0, 70.0, 70.0, 70.0, 72.0, 70.0, 70.0, 63.0, 85.0, 70.0, 80.0, 68.0, 71.0, 68.0, 80.0, 58.0, 70.0, 70.0, 78.0, 71.0, 70.0, 75.0, 70.0, 85.0, 72.0, 70.0, 73.5, 70.0, 70.0, 67.0, 73.0, 73.0, 75.0, 71.0, 72.0, 72.0, 72.0, 72.0, 75.0, 75.0, 75.0, 75.0, 75.0, 70.0, 70.0, 70.0, 75.0, 80.0, 70.0, 70.0, 70.0, 70.0, 70.0, 70.0, 70.0, 70.0, 70.0, 70.0, 75.0, 100.0, 70.0, 66.0, 70.0, 88.0, 74.0, 70.0, 70.0, 70.0, 72.0, 72.0, 67.0, 75.0, 76.0, 76.0, 85.0, 85.0, 80.0, 70.0, 70.0, 66.0, 74.0, 72.0, 72.0, 72.0, 72.0, 68.0, 80.0, 66.0, 70.0, 75.0, 68.0, 60.0, 60.0, 65.0, 72.0, 70.0, 70.0, 70.0, 70.0, 70.0, 85.0, 70.0, 70.0, 60.0, 65.0, 72.0, 100.0, 70.0, 70.0, 72.0, 70.0, 70.0, 72.0, 72.0, 72.0, 78.0, 75.0, 75.0, 70.0, 76.0, 65.0, 70.0, 70.0, 70.0, 70.0, 55.0, 70.0, 70.0, 75.0, 67.0, 70.0, 70.0, 67.0, 73.0, 64.0, 82.0, 70.0, 75.0, 75.0, 78.0, 85.0, 72.0, 72.0, 70.0, 72.0, 72.0, 85.0, 72.0, 72.0, 72.0, 80.0, 62.0, 80.0, 80.0, 80.0, 80.0, 73.0, 73.0, 73.0, 73.0, 76.0, 82.0, 70.0, 70.0, 70.0, 70.0, 70.0, 70.0, 82.0, 75.0, 75.0, 75.0, 75.0, 75.0, 100.0, 75.0, 75.0, 75.0, 75.0, 75.0, 75.0, 75.0, 75.0, 75.0, 75.0, 75.0, 75.0, 75.0, 75.0, 75.0, 80.0, 75.0, 75.0, 75.0, 77.0, 70.0, 74.0, 80.0, 75.0, 75.0, 72.0, 85.0, 73.0, 75.0, 85.0, 55.0, 80.0, 60.0, 65.0, 70.0, 74.0, 70.0, 75.0, 75.0, 85.0, 70.0, 75.0, 70.0, 80.0, 73.0, 75.0, 70.0, 75.0, 75.0, 75.0, 67.0, 75.0, 75.0, 85.0, 70.0, 75.0, 75.0, 75.0, 75.0, 75.0, 75.0, 70.0, 70.0, 70.0, 75.0, 68.0, 66.0, 75.0, 70.0, 75.0, 80.0, 70.0, 70.0, 75.0, 75.0, 75.0, 75.0, 75.0, 70.0, 70.0, 70.0, 70.0, 70.0, 84.0, 76.0, 72.0, 73.0, 71.0, 70.0, 77.0, 64.0, 100.0, 70.0, 72.0, 72.0, 83.0, 69.0, 70.0, 70.0, 70.0, 70.0, 75.0, 70.0, 53.0, 65.0, 70.0, 70.0, 78.0, 68.0, 68.0, 65.0, 68.0, 65.0, 72.0, 72.0, 72.0, 62.0, 75.0, 75.0, 82.0, 70.0, 68.0, 70.0, 62.0, 70.0, 70.0, 72.0, 73.0, 77.0, 74.0, 75.0, 72.0, 73.0, 73.0, 70.0, 75.0, 82.0, 70.0, 70.0, 67.0, 65.0, 60.0, 68.0, 73.0, 73.0, 73.0, 100.0, 100.0, 73.0, 73.0, 73.0, 67.0, 73.0, 73.0, 70.0, 72.0, 70.0, 70.0, 70.0, 70.0, 70.0, 67.0, 70.0, 65.0, 70.0, 67.0, 70.0, 72.0, 72.0, 65.0, 67.0, 70.0, 67.0, 68.0, 68.0, 70.0, 72.0, 68.0, 85.0, 70.0, 75.0, 70.0, 70.0, 70.0, 70.0, 70.0, 70.0, 62.0, 70.0, 70.0, 75.0, 70.0, 70.0, 70.0, 70.0, 75.0, 70.0, 70.0, 70.0, 80.0, 70.0, 70.0, 77.0, 70.0, 70.0, 70.0, 70.0, 70.0, 88.0, 70.0, 67.0, 70.0, 70.0, 70.0, 70.0, 70.0, 70.0, 70.0, 70.0, 70.0, 85.0, 70.0, 70.0, 64.0, 70.0, 70.0, 70.0, 70.0, 70.0, 70.0, 70.0, 70.0, 70.0, 70.0, 70.0, 70.0, 70.0, 70.0, 75.0, 75.0, 77.0, 80.0, 70.0, 80.0, 75.0, 70.0, 70.0, 70.0, 70.0, 70.0, 70.0, 72.0, 70.0, 70.0, 84.0, 70.0, 70.0, 70.0, 70.0, 70.0, 68.0, 72.0, 84.0, 70.0, 65.0, 70.0, 75.0, 67.0, 78.0, 61.0, 71.0, 70.0, 60.0, 70.0, 70.0, 88.0, 70.0, 70.0, 70.0, 70.0, 70.0, 70.0, 70.0, 70.0, 70.0, 70.0, 70.0, 70.0, 70.0, 70.0, 70.0, 70.0, 70.0, 70.0, 62.0, 60.0, 77.0, 70.0, 68.0, 87.0, 75.0, 70.0, 62.0, 99.0, 60.0, 68.0, 70.0, 70.0, 70.0, 70.0, 70.0, 70.0, 70.0, 70.0, 70.0, 70.0, 70.0, 70.0, 70.0, 70.0, 70.0, 80.0, 67.0, 70.0, 70.0, 70.0, 70.0, 70.0, 70.0, 70.0, 77.0, 67.0, 73.0, 70.0, 65.0, 65.0, 75.0, 84.0, 91.0, 75.0, 70.0, 72.0, 81.0, 70.0, 77.0, 72.0, 74.0, 72.0, 72.0, 75.0, 75.0, 75.0, 68.0, 75.0, 73.0, 60.0, 63.0, 74.0, 70.0, 72.0, 72.0, 65.0, 63.0, 70.0, 64.0, 69.0, 56.0, 64.0, 64.0, 66.0, 68.0, 72.0, 65.0, 64.0, 85.0, 85.0, 71.0, 64.0, 66.0, 70.0, 64.0, 64.0, 64.0, 72.0, 65.0, 72.0, 76.0, 80.0, 70.0, 68.0, 64.0, 70.0, 70.0, 90.0, 75.0, 75.0, 90.0, 70.0, 70.0, 75.0, 100.0, 90.0, 75.0, 65.0, 77.0, 77.0, 77.0, 77.0, 77.0, 70.0, 70.0, 70.0, 70.0, 70.0, 72.0, 75.0, 89.0, 75.0, 75.0, 70.0, 88.0, 100.0, 71.0, 72.0, 69.0, 70.0, 72.0, 74.0, 76.0, 75.0, 70.0, 70.0, 70.0, 70.0, 70.0, 70.0, 70.0, 70.0, 66.0, 70.0, 70.0, 70.0, 70.0, 70.0, 70.0, 70.0, 60.0, 70.0, 70.0, 85.0, 85.0, 70.0, 78.0, 78.0, 65.0, 68.0, 66.0, 72.0, 80.0, 72.0, 65.0, 70.0, 70.0, 62.0, 75.0, 75.0, 90.0, 70.0, 68.0, 58.0, 70.0, 65.0, 65.0, 62.0, 65.0]\n"
     ]
    }
   ],
   "source": [
    "cocoa_percent = soup.find_all(attrs={\"class\": \"CocoaPercent\"})\n",
    "cocoa = []\n",
    "for percent in cocoa_percent[1:]:\n",
    "  cocoa.append(float(percent.string[:-1]))\n",
    "print(cocoa)"
   ]
  },
  {
   "cell_type": "markdown",
   "id": "af498471-924f-47d0-84ba-058b57f771ab",
   "metadata": {},
   "source": [
    "Add the cocoa percentages as a column called \"CocoaPercentage\" in the DataFrame that has companies and ratings in it."
   ]
  },
  {
   "cell_type": "code",
   "execution_count": 47,
   "id": "24421b14-92bd-4399-9386-e4e4f2684dc6",
   "metadata": {},
   "outputs": [
    {
     "data": {
      "text/html": [
       "<div>\n",
       "<style scoped>\n",
       "    .dataframe tbody tr th:only-of-type {\n",
       "        vertical-align: middle;\n",
       "    }\n",
       "\n",
       "    .dataframe tbody tr th {\n",
       "        vertical-align: top;\n",
       "    }\n",
       "\n",
       "    .dataframe thead th {\n",
       "        text-align: right;\n",
       "    }\n",
       "</style>\n",
       "<table border=\"1\" class=\"dataframe\">\n",
       "  <thead>\n",
       "    <tr style=\"text-align: right;\">\n",
       "      <th></th>\n",
       "      <th>Company</th>\n",
       "      <th>Rating</th>\n",
       "      <th>CocoaPercentage</th>\n",
       "    </tr>\n",
       "  </thead>\n",
       "  <tbody>\n",
       "    <tr>\n",
       "      <th>0</th>\n",
       "      <td>A. Morin</td>\n",
       "      <td>3.75</td>\n",
       "      <td>63.0</td>\n",
       "    </tr>\n",
       "    <tr>\n",
       "      <th>1</th>\n",
       "      <td>A. Morin</td>\n",
       "      <td>2.75</td>\n",
       "      <td>70.0</td>\n",
       "    </tr>\n",
       "    <tr>\n",
       "      <th>2</th>\n",
       "      <td>A. Morin</td>\n",
       "      <td>3.00</td>\n",
       "      <td>70.0</td>\n",
       "    </tr>\n",
       "    <tr>\n",
       "      <th>3</th>\n",
       "      <td>A. Morin</td>\n",
       "      <td>3.50</td>\n",
       "      <td>70.0</td>\n",
       "    </tr>\n",
       "    <tr>\n",
       "      <th>4</th>\n",
       "      <td>A. Morin</td>\n",
       "      <td>3.50</td>\n",
       "      <td>70.0</td>\n",
       "    </tr>\n",
       "  </tbody>\n",
       "</table>\n",
       "</div>"
      ],
      "text/plain": [
       "    Company  Rating  CocoaPercentage\n",
       "0  A. Morin    3.75             63.0\n",
       "1  A. Morin    2.75             70.0\n",
       "2  A. Morin    3.00             70.0\n",
       "3  A. Morin    3.50             70.0\n",
       "4  A. Morin    3.50             70.0"
      ]
     },
     "execution_count": 47,
     "metadata": {},
     "output_type": "execute_result"
    }
   ],
   "source": [
    "cacao_df[\"CocoaPercentage\"] = cocoa\n",
    "cacao_df.head()"
   ]
  },
  {
   "cell_type": "markdown",
   "id": "1469b49e-8c68-421a-8b3d-53b30e8f42c5",
   "metadata": {},
   "source": [
    "Make a scatterplot of ratings (your_df.Rating) vs percentage of cocoa (your_df.CocoaPercentage).\n",
    "\n",
    "You can do this in Matplotlib with these commands:\n",
    "\n",
    "plt.scatter(df.CocoaPercentage, df.Rating)\n",
    "plt.show()\n",
    "Call plt.clf() to clear the figure between showing your histogram and this scatterplot.\n",
    "\n",
    "Is there any correlation here? We can use some numpy commands to draw a line of best-fit over the scatterplot.\n",
    "\n",
    "Copy this code and paste it after you create the scatterplot, but before you call .show():"
   ]
  },
  {
   "cell_type": "code",
   "execution_count": 53,
   "id": "0efa739e-8489-49e1-bf31-fe3ea76eca55",
   "metadata": {},
   "outputs": [
    {
     "data": {
      "image/png": "[encoded data removed]",
      "text/plain": [
       "<Figure size 432x288 with 1 Axes>"
      ]
     },
     "metadata": {
      "needs_background": "light"
     },
     "output_type": "display_data"
    }
   ],
   "source": [
    "plt.scatter(cacao_df.CocoaPercentage, cacao_df.Rating)\n",
    "z = np.polyfit(cacao_df.CocoaPercentage, cacao_df.Rating, 1)\n",
    "line_function = np.poly1d(z)\n",
    "plt.plot(cacao_df.CocoaPercentage, line_function(cacao_df.CocoaPercentage), \"r--\")\n",
    "plt.show()"
   ]
  },
  {
   "cell_type": "code",
   "execution_count": null,
   "id": "17e5ea05-09af-4f16-9f0d-0455f9930d17",
   "metadata": {},
   "outputs": [],
   "source": []
  }
 ],
 "metadata": {
  "kernelspec": {
   "display_name": "Python 3",
   "language": "python",
   "name": "python3"
  },
  "language_info": {
   "codemirror_mode": {
    "name": "ipython",
    "version": 3
   },
   "file_extension": ".py",
   "mimetype": "text/x-python",
   "name": "python",
   "nbconvert_exporter": "python",
   "pygments_lexer": "ipython3",
   "version": "3.8.8"
  }
 },
 "nbformat": 4,
 "nbformat_minor": 5
}
