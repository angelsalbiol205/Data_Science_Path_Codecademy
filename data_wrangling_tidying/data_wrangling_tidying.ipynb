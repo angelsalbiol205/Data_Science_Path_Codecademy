{
 "cells": [
  {
   "cell_type": "markdown",
   "id": "370ed9f0-e688-4d29-a0b5-cf6978440876",
   "metadata": {},
   "source": [
    "# Cleaning US Census Data\n",
    "You just got hired as a Data Analyst at the Census Bureau, which collects census data and creates interesting visualizations and insights from it.\n",
    "\n",
    "The person who had your job before you left you all the data they had for the most recent census. It is in multiple csv files. They didn’t use pandas, they would just look through these csv files manually whenever they wanted to find something. Sometimes they would copy and paste certain numbers into Excel to make charts.\n",
    "\n",
    "The thought of it makes you shiver. This is not scalable or repeatable.\n",
    "\n",
    "Your boss wants you to make some scatterplots and histograms by the end of the day. Can you get this data into pandas and into reasonable shape so that you can make these histograms?"
   ]
  },
  {
   "cell_type": "markdown",
   "id": "b8fbaeec-9433-45bc-89e2-aa72b5925083",
   "metadata": {},
   "source": [
    "### Inspect the data\n",
    "1. Using glob, loop through the census files available and load them into DataFrames. Then, concatenate all of those DataFrames together into one DataFrame, called something like us_census."
   ]
  },
  {
   "cell_type": "code",
   "execution_count": 55,
   "id": "74698ca4-41f0-4f5b-8e2b-49bb63f4bc8a",
   "metadata": {},
   "outputs": [],
   "source": [
    "import numpy as np\n",
    "import pandas as pd\n",
    "import matplotlib.pyplot as plt\n",
    "import glob\n",
    "\n",
    "files = glob.glob('states*.csv')\n",
    "states_data = []\n",
    "for file in files:\n",
    "  data = pd.read_csv(file)\n",
    "  states_data.append(data)\n",
    "\n",
    "us_census = pd.concat(states_data)"
   ]
  },
  {
   "cell_type": "markdown",
   "id": "fcf389c6-736f-4b17-adfc-a3a8e2d4494a",
   "metadata": {},
   "source": [
    "2. Look at the .columns and the .dtypes of the us_census DataFrame. Are those datatypes going to hinder you as you try to make histograms?\n",
    "\n",
    "Look at the .head() of the DataFrame so that you can understand why some of these dtypes are objects instead of integers or floats.\n",
    "\n",
    "Start to make a plan for how to convert these columns into the right types for manipulation."
   ]
  },
  {
   "cell_type": "code",
   "execution_count": 56,
   "id": "fd65cc17-85e8-4b56-b748-fa3795af743e",
   "metadata": {},
   "outputs": [
    {
     "name": "stdout",
     "output_type": "stream",
     "text": [
      "      State  TotalPop Hispanic   White   Black Native   Asian Pacific  \\\n",
      "0   Georgia  10006693    8.42%  54.29%  32.09%  0.19%   3.10%   0.05%   \n",
      "1    Hawaii   1406299    9.19%  25.03%   2.05%  0.14%  36.59%   8.76%   \n",
      "2     Idaho   1616547   11.51%  83.14%   0.57%  1.47%   1.14%   0.13%   \n",
      "3  Illinois  12873761   15.60%  60.86%  17.11%  0.12%   4.48%   0.02%   \n",
      "4   Indiana   6568645    6.54%  78.43%  11.19%  0.19%   1.58%   0.03%   \n",
      "\n",
      "       Income          GenderPop  \n",
      "0  $50,811.08  4883331M_5123362F  \n",
      "1  $73,264.43    709871M_696428F  \n",
      "2  $48,017.32    810464M_806083F  \n",
      "3  $59,587.05  6316899M_6556862F  \n",
      "4  $48,616.23  3235263M_3333382F  \n"
     ]
    }
   ],
   "source": [
    "us_census = us_census.drop(['Unnamed: 0'], axis=1)\n",
    "print(us_census.head())"
   ]
  },
  {
   "cell_type": "code",
   "execution_count": 57,
   "id": "75de2edf-5261-40fa-b857-db2a553e3c23",
   "metadata": {},
   "outputs": [
    {
     "name": "stdout",
     "output_type": "stream",
     "text": [
      "Index(['State', 'TotalPop', 'Hispanic', 'White', 'Black', 'Native', 'Asian',\n",
      "       'Pacific', 'Income', 'GenderPop'],\n",
      "      dtype='object')\n",
      "State        object\n",
      "TotalPop      int64\n",
      "Hispanic     object\n",
      "White        object\n",
      "Black        object\n",
      "Native       object\n",
      "Asian        object\n",
      "Pacific      object\n",
      "Income       object\n",
      "GenderPop    object\n",
      "dtype: object\n"
     ]
    }
   ],
   "source": [
    "print(us_census.columns)\n",
    "print(us_census.dtypes)"
   ]
  },
  {
   "cell_type": "markdown",
   "id": "fccf2be8-6bbf-4efa-af87-7d32fb38bf2d",
   "metadata": {},
   "source": [
    "### Regex to the Rescue\n",
    "\n",
    "1. Use regex to turn the Income column into a format that is ready for conversion into a numerical type."
   ]
  },
  {
   "cell_type": "code",
   "execution_count": 58,
   "id": "25a1edf1-7195-45ec-ab82-7ee165a76e24",
   "metadata": {},
   "outputs": [
    {
     "name": "stdout",
     "output_type": "stream",
     "text": [
      "0    50,811.08\n",
      "1    73,264.43\n",
      "2    48,017.32\n",
      "3    59,587.05\n",
      "4    48,616.23\n",
      "Name: Income, dtype: object\n"
     ]
    }
   ],
   "source": [
    "us_census.Income = us_census.Income.replace('[\\$]', '', regex=True)\n",
    "print(us_census.Income.head())"
   ]
  },
  {
   "cell_type": "markdown",
   "id": "419db586-11a0-4215-b15d-80fbdb83a98c",
   "metadata": {},
   "source": [
    "2. Look at the GenderPop column. We are going to want to separate this into two columns, the Men column, and the Women column.\n",
    "\n",
    "Split the column into those two new columns using str.split and separating out those results.\n",
    "\n",
    "There is still an M or an F character in each entry! We should remove those before we convert."
   ]
  },
  {
   "cell_type": "code",
   "execution_count": 59,
   "id": "d1223cc4-d0e6-46fd-9eea-6cd819745371",
   "metadata": {},
   "outputs": [
    {
     "name": "stdout",
     "output_type": "stream",
     "text": [
      "      State  TotalPop Hispanic   White   Black Native   Asian Pacific  \\\n",
      "0   Georgia  10006693    8.42%  54.29%  32.09%  0.19%   3.10%   0.05%   \n",
      "1    Hawaii   1406299    9.19%  25.03%   2.05%  0.14%  36.59%   8.76%   \n",
      "2     Idaho   1616547   11.51%  83.14%   0.57%  1.47%   1.14%   0.13%   \n",
      "3  Illinois  12873761   15.60%  60.86%  17.11%  0.12%   4.48%   0.02%   \n",
      "4   Indiana   6568645    6.54%  78.43%  11.19%  0.19%   1.58%   0.03%   \n",
      "\n",
      "      Income          GenderPop      Men    Women  \n",
      "0  50,811.08  4883331M_5123362F  4883331  5123362  \n",
      "1  73,264.43    709871M_696428F   709871   696428  \n",
      "2  48,017.32    810464M_806083F   810464   806083  \n",
      "3  59,587.05  6316899M_6556862F  6316899  6556862  \n",
      "4  48,616.23  3235263M_3333382F  3235263  3333382  \n"
     ]
    }
   ],
   "source": [
    "gender_split = us_census.GenderPop.str.split('_')\n",
    "us_census['Men'] = gender_split.str.get(0)\n",
    "us_census['Women'] = gender_split.str.get(1)\n",
    "us_census['Men'] = us_census.Men.replace('M', '', regex=True)\n",
    "us_census['Women'] = us_census.Women.replace('F', '', regex=True)\n",
    "\n",
    "print(us_census.head())"
   ]
  },
  {
   "cell_type": "markdown",
   "id": "975febf1-b516-493c-8e49-55b8412eff97",
   "metadata": {},
   "source": [
    "3. Convert both of the columns into numerical datatypes."
   ]
  },
  {
   "cell_type": "code",
   "execution_count": 60,
   "id": "561acb63-b9a8-4dc2-993f-a478670fd1c9",
   "metadata": {},
   "outputs": [
    {
     "name": "stdout",
     "output_type": "stream",
     "text": [
      "State         object\n",
      "TotalPop       int64\n",
      "Hispanic      object\n",
      "White         object\n",
      "Black         object\n",
      "Native        object\n",
      "Asian         object\n",
      "Pacific       object\n",
      "Income        object\n",
      "GenderPop     object\n",
      "Men            int64\n",
      "Women        float64\n",
      "dtype: object\n"
     ]
    }
   ],
   "source": [
    "us_census.Men = pd.to_numeric(us_census.Men)\n",
    "us_census.Women = pd.to_numeric(us_census.Women)\n",
    "print(us_census.dtypes)"
   ]
  },
  {
   "cell_type": "markdown",
   "id": "8269052d-590f-4dd4-a1a9-4393cbc49bad",
   "metadata": {},
   "source": [
    "4. Use matplotlib to make a scatterplot!"
   ]
  },
  {
   "cell_type": "code",
   "execution_count": 61,
   "id": "5870e20e-e735-466f-8daa-a740b82ca116",
   "metadata": {},
   "outputs": [
    {
     "data": {
      "image/png": "[encoded data removed]",
      "text/plain": [
       "<Figure size 432x288 with 1 Axes>"
      ]
     },
     "metadata": {
      "needs_background": "light"
     },
     "output_type": "display_data"
    }
   ],
   "source": [
    "plt.scatter(us_census.Women, us_census.Income) \n",
    "plt.show()"
   ]
  },
  {
   "cell_type": "markdown",
   "id": "196d82ac-0cd3-402d-8064-4c9ca40d4e3c",
   "metadata": {},
   "source": [
    "5. You want to double check your work. You know from experience that these monstrous csv files probably have nan values in them! Print out your column with the number of women per state to see.\n",
    "\n",
    "We can fill in those nans by using pandas’ .fillna() function.\n",
    "\n",
    "You have the TotalPop per state, and you have the Men per state. As an estimate for the nan values in the Women column, you could use the TotalPop of that state minus the Men for that state.\n",
    "\n",
    "Print out the Women column after filling the nan values to see if it worked!"
   ]
  },
  {
   "cell_type": "code",
   "execution_count": 62,
   "id": "19d48e35-2ebf-4e0a-b5f8-30740829dd1a",
   "metadata": {
    "scrolled": true,
    "tags": []
   },
   "outputs": [
    {
     "name": "stdout",
     "output_type": "stream",
     "text": [
      "0     5123362.0\n",
      "1      696428.0\n",
      "2      806083.0\n",
      "3     6556862.0\n",
      "4     3333382.0\n",
      "5     1558931.0\n",
      "0     3081445.0\n",
      "1      504536.0\n",
      "2      939759.0\n",
      "3     1390901.0\n",
      "4      670717.0\n",
      "5     4561386.0\n",
      "0     1444150.0\n",
      "1      318031.0\n",
      "2     4195682.0\n",
      "3     3497739.0\n",
      "4      937789.0\n",
      "5     2890732.0\n",
      "0     1558931.0\n",
      "1     1453125.0\n",
      "2     2233145.0\n",
      "3     2364097.0\n",
      "4      679019.0\n",
      "5     3057895.0\n",
      "0     3057895.0\n",
      "1     3455936.0\n",
      "2     5038598.0\n",
      "3     2727005.0\n",
      "4     1536358.0\n",
      "5     3081445.0\n",
      "0     5913084.0\n",
      "1     1942789.0\n",
      "2     1990780.0\n",
      "3     6534215.0\n",
      "4     1869213.0\n",
      "5      543273.0\n",
      "0     2630239.0\n",
      "1     1841615.0\n",
      "2      478041.0\n",
      "3      340810.0\n",
      "4    10045763.0\n",
      "5     5123362.0\n",
      "0     2489527.0\n",
      "1      349215.0\n",
      "2     3342840.0\n",
      "3     1506295.0\n",
      "4    19334329.0\n",
      "5     2630239.0\n",
      "0      543273.0\n",
      "1     2455167.0\n",
      "2      419713.0\n",
      "3     3331859.0\n",
      "4    13367298.0\n",
      "5     1444150.0\n",
      "0     4561386.0\n",
      "1     1051703.0\n",
      "2    10131373.0\n",
      "3     5049925.0\n",
      "4      353677.0\n",
      "5     5913084.0\n",
      "Name: Women, dtype: float64\n"
     ]
    }
   ],
   "source": [
    "us_census.Women = us_census.Women.fillna(us_census.TotalPop - us_census.Men)\n",
    "print(us_census.Women)"
   ]
  },
  {
   "cell_type": "markdown",
   "id": "baef3bf1-2be7-402a-b456-f8bb22442074",
   "metadata": {},
   "source": [
    "6. We forgot to check for duplicates! Use .duplicated() on your census DataFrame to see if we have duplicate rows in there."
   ]
  },
  {
   "cell_type": "code",
   "execution_count": 63,
   "id": "78857b56-1903-4f52-bbd3-76f42708b9aa",
   "metadata": {},
   "outputs": [
    {
     "data": {
      "text/plain": [
       "False    52\n",
       "True      8\n",
       "dtype: int64"
      ]
     },
     "execution_count": 63,
     "metadata": {},
     "output_type": "execute_result"
    }
   ],
   "source": [
    "duplicates = us_census.duplicated()\n",
    "duplicates.value_counts()"
   ]
  },
  {
   "cell_type": "markdown",
   "id": "f714acce-5bd5-43a5-99a4-b50807e5b8bf",
   "metadata": {},
   "source": [
    "7. Drop those duplicates using the .drop_duplicates() function."
   ]
  },
  {
   "cell_type": "code",
   "execution_count": 69,
   "id": "ba6ed2bc-79ca-4113-b7d5-22c405f0ff45",
   "metadata": {
    "scrolled": true,
    "tags": []
   },
   "outputs": [],
   "source": [
    "us_census = us_census.drop_duplicates()"
   ]
  },
  {
   "cell_type": "code",
   "execution_count": 70,
   "id": "ddc2acca-fce9-4a1b-8beb-655fcb115f20",
   "metadata": {},
   "outputs": [
    {
     "data": {
      "image/png": "[encoded data removed]",
      "text/plain": [
       "<Figure size 432x288 with 1 Axes>"
      ]
     },
     "metadata": {
      "needs_background": "light"
     },
     "output_type": "display_data"
    }
   ],
   "source": [
    "plt.scatter(us_census.Women, us_census.Income) \n",
    "plt.show()"
   ]
  },
  {
   "cell_type": "markdown",
   "id": "dd31a98b-87eb-41c0-b2d6-8caded6f46ae",
   "metadata": {},
   "source": [
    "### Histograms of Races\n",
    "\n",
    "1. Now, your boss wants you to make a bunch of histograms out of the race data that you have. Look at the .columns again to see what the race categories are."
   ]
  },
  {
   "cell_type": "code",
   "execution_count": 71,
   "id": "ddf57961-883b-4ad2-a4d8-e2d7089803e4",
   "metadata": {},
   "outputs": [
    {
     "data": {
      "text/plain": [
       "Index(['State', 'TotalPop', 'Hispanic', 'White', 'Black', 'Native', 'Asian',\n",
       "       'Pacific', 'Income', 'GenderPop', 'Men', 'Women'],\n",
       "      dtype='object')"
      ]
     },
     "execution_count": 71,
     "metadata": {},
     "output_type": "execute_result"
    }
   ],
   "source": [
    "us_census.columns"
   ]
  },
  {
   "cell_type": "markdown",
   "id": "59d979d7-b9f1-41e0-b5b0-16cabe5a53a7",
   "metadata": {},
   "source": [
    "2. Try to make a histogram for each one!\n",
    "\n",
    "You will have to get the columns into numerical format, and those percentage signs will have to go.\n",
    "\n",
    "Don’t forget to fill the nan values with something that makes sense! You probably dropped the duplicate rows when making your last graph, but it couldn’t hurt to check for duplicates again."
   ]
  },
  {
   "cell_type": "code",
   "execution_count": 73,
   "id": "1b6ec1d1-5fcb-4d55-9926-c18d480f5de2",
   "metadata": {},
   "outputs": [
    {
     "name": "stdout",
     "output_type": "stream",
     "text": [
      "      State  TotalPop Hispanic  White  Black Native  Asian Pacific     Income  \\\n",
      "0   Georgia  10006693     8.42  54.29  32.09   0.19   3.10    0.05  50,811.08   \n",
      "1    Hawaii   1406299     9.19  25.03   2.05   0.14  36.59    8.76  73,264.43   \n",
      "2     Idaho   1616547    11.51  83.14   0.57   1.47   1.14    0.13  48,017.32   \n",
      "3  Illinois  12873761    15.60  60.86  17.11   0.12   4.48    0.02  59,587.05   \n",
      "4   Indiana   6568645     6.54  78.43  11.19   0.19   1.58    0.03  48,616.23   \n",
      "\n",
      "           GenderPop      Men      Women  \n",
      "0  4883331M_5123362F  4883331  5123362.0  \n",
      "1    709871M_696428F   709871   696428.0  \n",
      "2    810464M_806083F   810464   806083.0  \n",
      "3  6316899M_6556862F  6316899  6556862.0  \n",
      "4  3235263M_3333382F  3235263  3333382.0  \n",
      "State         object\n",
      "TotalPop       int64\n",
      "Hispanic      object\n",
      "White         object\n",
      "Black         object\n",
      "Native        object\n",
      "Asian         object\n",
      "Pacific       object\n",
      "Income        object\n",
      "GenderPop     object\n",
      "Men            int64\n",
      "Women        float64\n",
      "dtype: object\n"
     ]
    }
   ],
   "source": [
    "us_census = us_census.replace(to_replace='%', value='', regex=True)\n",
    "print(us_census.head())"
   ]
  },
  {
   "cell_type": "code",
   "execution_count": 75,
   "id": "419f8ee5-f382-46b5-8ac9-322a9b397054",
   "metadata": {},
   "outputs": [
    {
     "name": "stdout",
     "output_type": "stream",
     "text": [
      "State         object\n",
      "TotalPop       int64\n",
      "Hispanic     float64\n",
      "White        float64\n",
      "Black        float64\n",
      "Native       float64\n",
      "Asian        float64\n",
      "Pacific      float64\n",
      "Income        object\n",
      "GenderPop     object\n",
      "Men            int64\n",
      "Women        float64\n",
      "dtype: object\n"
     ]
    }
   ],
   "source": [
    "us_census.Hispanic = pd.to_numeric(us_census.Hispanic)\n",
    "us_census.White = pd.to_numeric(us_census.White)\n",
    "us_census.Black = pd.to_numeric(us_census.Black)\n",
    "us_census.Native = pd.to_numeric(us_census.Native)\n",
    "us_census.Asian = pd.to_numeric(us_census.Asian)\n",
    "us_census.Pacific = pd.to_numeric(us_census.Pacific)\n",
    "print(us_census.dtypes)"
   ]
  },
  {
   "cell_type": "code",
   "execution_count": 76,
   "id": "16f08645-52e9-48b1-9e4b-7d29d7c95b8f",
   "metadata": {},
   "outputs": [],
   "source": [
    "us_census = us_census.fillna(value={'Hispanic': us_census.Hispanic.mean(), 'White': us_census.White.mean(), 'Black': us_census.Black.mean(), 'Native': us_census.Native.mean(), \n",
    "                                    'Asian': us_census.Asian.mean(), 'Pacific': us_census.Pacific.mean()})"
   ]
  },
  {
   "cell_type": "code",
   "execution_count": 78,
   "id": "2c08948a-c1c5-4a1d-a09c-5875936c9535",
   "metadata": {},
   "outputs": [
    {
     "data": {
      "image/png": "[encoded data removed]",
      "text/plain": [
       "<Figure size 432x288 with 1 Axes>"
      ]
     },
     "metadata": {
      "needs_background": "light"
     },
     "output_type": "display_data"
    }
   ],
   "source": [
    "plt.hist(us_census.Hispanic)\n",
    "plt.title('Hispanic')\n",
    "plt.show()"
   ]
  },
  {
   "cell_type": "code",
   "execution_count": 79,
   "id": "c9b71032-4ef9-48a9-a1e3-386f3b259c18",
   "metadata": {},
   "outputs": [
    {
     "data": {
      "image/png": "[encoded data removed]",
      "text/plain": [
       "<Figure size 432x288 with 1 Axes>"
      ]
     },
     "metadata": {
      "needs_background": "light"
     },
     "output_type": "display_data"
    }
   ],
   "source": [
    "plt.hist(us_census.White)\n",
    "plt.title('White')\n",
    "plt.show()"
   ]
  },
  {
   "cell_type": "code",
   "execution_count": 84,
   "id": "e14100ac-8f93-414c-955d-89685ec40a8c",
   "metadata": {},
   "outputs": [
    {
     "data": {
      "image/png": "[encoded data removed]",
      "text/plain": [
       "<Figure size 432x288 with 1 Axes>"
      ]
     },
     "metadata": {
      "needs_background": "light"
     },
     "output_type": "display_data"
    }
   ],
   "source": [
    "plt.hist(us_census.Black)\n",
    "plt.title('Black')\n",
    "plt.show()"
   ]
  },
  {
   "cell_type": "code",
   "execution_count": 81,
   "id": "d8d53055-3dbe-4609-8008-58792909aecd",
   "metadata": {},
   "outputs": [
    {
     "data": {
      "image/png": "[encoded data removed]",
      "text/plain": [
       "<Figure size 432x288 with 1 Axes>"
      ]
     },
     "metadata": {
      "needs_background": "light"
     },
     "output_type": "display_data"
    }
   ],
   "source": [
    "plt.hist(us_census.Native)\n",
    "plt.title('Native')\n",
    "plt.show()"
   ]
  },
  {
   "cell_type": "code",
   "execution_count": 82,
   "id": "9c8514e3-c304-4dba-ab8e-d623e0c0aa25",
   "metadata": {},
   "outputs": [
    {
     "data": {
      "image/png": "[encoded data removed]",
      "text/plain": [
       "<Figure size 432x288 with 1 Axes>"
      ]
     },
     "metadata": {
      "needs_background": "light"
     },
     "output_type": "display_data"
    }
   ],
   "source": [
    "plt.hist(us_census.Asian)\n",
    "plt.title('Asian')\n",
    "plt.show()"
   ]
  },
  {
   "cell_type": "code",
   "execution_count": 83,
   "id": "e1cbe863-2aaa-45fa-93ea-403f2b9a73fb",
   "metadata": {},
   "outputs": [
    {
     "data": {
      "image/png": "[encoded data removed]",
      "text/plain": [
       "<Figure size 432x288 with 1 Axes>"
      ]
     },
     "metadata": {
      "needs_background": "light"
     },
     "output_type": "display_data"
    }
   ],
   "source": [
    "plt.hist(us_census.Pacific)\n",
    "plt.title('Pacific')\n",
    "plt.show()"
   ]
  },
  {
   "cell_type": "code",
   "execution_count": null,
   "id": "e31119c5-f060-4122-89be-49469c9a6b0f",
   "metadata": {},
   "outputs": [],
   "source": []
  }
 ],
 "metadata": {
  "kernelspec": {
   "display_name": "Python 3",
   "language": "python",
   "name": "python3"
  },
  "language_info": {
   "codemirror_mode": {
    "name": "ipython",
    "version": 3
   },
   "file_extension": ".py",
   "mimetype": "text/x-python",
   "name": "python",
   "nbconvert_exporter": "python",
   "pygments_lexer": "ipython3",
   "version": "3.8.8"
  }
 },
 "nbformat": 4,
 "nbformat_minor": 5
}
